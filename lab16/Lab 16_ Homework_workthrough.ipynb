{
 "cells": [
  {
   "cell_type": "markdown",
   "id": "09fd88fe",
   "metadata": {},
   "source": [
    "We will use the dataset from Lab 16 that contains information about mothers and babies born in California in the 1960s. See Lab 16 for instructions on downloading and reading it into a dataframe.\n",
    "\n",
    "The value 99 is used if a mother's height is unknown.\n",
    "\n",
    "Filter the dataset to only contains rows where the mother's height is known. Hint: filter the dataset to only contain heights less than 99\n",
    "\n",
    "Compute the 95% confidence interval of the mean of the mothers' heights by taking 10,000 bootstrap samples.\n",
    "Plot a histogram of the mean heights of the bootstrap samples."
   ]
  },
  {
   "cell_type": "code",
   "execution_count": 1,
   "id": "2962b058",
   "metadata": {},
   "outputs": [],
   "source": [
    "import numpy as np\n",
    "import matplotlib.pyplot as plt\n",
    "import pandas as pd"
   ]
  },
  {
   "cell_type": "code",
   "execution_count": 2,
   "id": "e27f3751",
   "metadata": {},
   "outputs": [
    {
     "data": {
      "text/html": [
       "<div>\n",
       "<style scoped>\n",
       "    .dataframe tbody tr th:only-of-type {\n",
       "        vertical-align: middle;\n",
       "    }\n",
       "\n",
       "    .dataframe tbody tr th {\n",
       "        vertical-align: top;\n",
       "    }\n",
       "\n",
       "    .dataframe thead th {\n",
       "        text-align: right;\n",
       "    }\n",
       "</style>\n",
       "<table border=\"1\" class=\"dataframe\">\n",
       "  <thead>\n",
       "    <tr style=\"text-align: right;\">\n",
       "      <th></th>\n",
       "      <th>bwt</th>\n",
       "      <th>gestation</th>\n",
       "      <th>parity</th>\n",
       "      <th>age</th>\n",
       "      <th>height</th>\n",
       "      <th>weight</th>\n",
       "      <th>smoke</th>\n",
       "    </tr>\n",
       "  </thead>\n",
       "  <tbody>\n",
       "    <tr>\n",
       "      <th>0</th>\n",
       "      <td>120</td>\n",
       "      <td>284</td>\n",
       "      <td>0</td>\n",
       "      <td>27</td>\n",
       "      <td>62</td>\n",
       "      <td>100</td>\n",
       "      <td>0</td>\n",
       "    </tr>\n",
       "    <tr>\n",
       "      <th>1</th>\n",
       "      <td>113</td>\n",
       "      <td>282</td>\n",
       "      <td>0</td>\n",
       "      <td>33</td>\n",
       "      <td>64</td>\n",
       "      <td>135</td>\n",
       "      <td>0</td>\n",
       "    </tr>\n",
       "    <tr>\n",
       "      <th>2</th>\n",
       "      <td>128</td>\n",
       "      <td>279</td>\n",
       "      <td>0</td>\n",
       "      <td>28</td>\n",
       "      <td>64</td>\n",
       "      <td>115</td>\n",
       "      <td>1</td>\n",
       "    </tr>\n",
       "    <tr>\n",
       "      <th>3</th>\n",
       "      <td>123</td>\n",
       "      <td>999</td>\n",
       "      <td>0</td>\n",
       "      <td>36</td>\n",
       "      <td>69</td>\n",
       "      <td>190</td>\n",
       "      <td>0</td>\n",
       "    </tr>\n",
       "    <tr>\n",
       "      <th>4</th>\n",
       "      <td>108</td>\n",
       "      <td>282</td>\n",
       "      <td>0</td>\n",
       "      <td>23</td>\n",
       "      <td>67</td>\n",
       "      <td>125</td>\n",
       "      <td>1</td>\n",
       "    </tr>\n",
       "    <tr>\n",
       "      <th>...</th>\n",
       "      <td>...</td>\n",
       "      <td>...</td>\n",
       "      <td>...</td>\n",
       "      <td>...</td>\n",
       "      <td>...</td>\n",
       "      <td>...</td>\n",
       "      <td>...</td>\n",
       "    </tr>\n",
       "    <tr>\n",
       "      <th>1231</th>\n",
       "      <td>113</td>\n",
       "      <td>275</td>\n",
       "      <td>1</td>\n",
       "      <td>27</td>\n",
       "      <td>60</td>\n",
       "      <td>100</td>\n",
       "      <td>0</td>\n",
       "    </tr>\n",
       "    <tr>\n",
       "      <th>1232</th>\n",
       "      <td>128</td>\n",
       "      <td>265</td>\n",
       "      <td>0</td>\n",
       "      <td>24</td>\n",
       "      <td>67</td>\n",
       "      <td>120</td>\n",
       "      <td>0</td>\n",
       "    </tr>\n",
       "    <tr>\n",
       "      <th>1233</th>\n",
       "      <td>130</td>\n",
       "      <td>291</td>\n",
       "      <td>0</td>\n",
       "      <td>30</td>\n",
       "      <td>65</td>\n",
       "      <td>150</td>\n",
       "      <td>1</td>\n",
       "    </tr>\n",
       "    <tr>\n",
       "      <th>1234</th>\n",
       "      <td>125</td>\n",
       "      <td>281</td>\n",
       "      <td>1</td>\n",
       "      <td>21</td>\n",
       "      <td>65</td>\n",
       "      <td>110</td>\n",
       "      <td>0</td>\n",
       "    </tr>\n",
       "    <tr>\n",
       "      <th>1235</th>\n",
       "      <td>117</td>\n",
       "      <td>297</td>\n",
       "      <td>0</td>\n",
       "      <td>38</td>\n",
       "      <td>65</td>\n",
       "      <td>129</td>\n",
       "      <td>0</td>\n",
       "    </tr>\n",
       "  </tbody>\n",
       "</table>\n",
       "<p>1236 rows × 7 columns</p>\n",
       "</div>"
      ],
      "text/plain": [
       "      bwt  gestation  parity  age  height  weight  smoke\n",
       "0     120        284       0   27      62     100      0\n",
       "1     113        282       0   33      64     135      0\n",
       "2     128        279       0   28      64     115      1\n",
       "3     123        999       0   36      69     190      0\n",
       "4     108        282       0   23      67     125      1\n",
       "...   ...        ...     ...  ...     ...     ...    ...\n",
       "1231  113        275       1   27      60     100      0\n",
       "1232  128        265       0   24      67     120      0\n",
       "1233  130        291       0   30      65     150      1\n",
       "1234  125        281       1   21      65     110      0\n",
       "1235  117        297       0   38      65     129      0\n",
       "\n",
       "[1236 rows x 7 columns]"
      ]
     },
     "execution_count": 2,
     "metadata": {},
     "output_type": "execute_result"
    }
   ],
   "source": [
    "babies = pd.read_csv(\"babies.data\", sep =\"\\s+\")\n",
    "babies"
   ]
  },
  {
   "cell_type": "code",
   "execution_count": 3,
   "id": "69ff82a1",
   "metadata": {},
   "outputs": [
    {
     "data": {
      "text/plain": [
       "(1236, 7)"
      ]
     },
     "execution_count": 3,
     "metadata": {},
     "output_type": "execute_result"
    }
   ],
   "source": [
    "babies.shape"
   ]
  },
  {
   "cell_type": "code",
   "execution_count": 10,
   "id": "f3b1318d",
   "metadata": {},
   "outputs": [
    {
     "data": {
      "text/plain": [
       "64.66990291262135"
      ]
     },
     "execution_count": 10,
     "metadata": {},
     "output_type": "execute_result"
    }
   ],
   "source": [
    "babies[\"height\"].mean()"
   ]
  },
  {
   "cell_type": "code",
   "execution_count": 9,
   "id": "b9905513",
   "metadata": {},
   "outputs": [
    {
     "data": {
      "text/plain": [
       "1214"
      ]
     },
     "execution_count": 9,
     "metadata": {},
     "output_type": "execute_result"
    }
   ],
   "source": [
    "height_filter = babies[\"height\"] < 99\n",
    "num_height = height_filter.sum()\n",
    "num_height"
   ]
  },
  {
   "cell_type": "code",
   "execution_count": null,
   "id": "24aee976",
   "metadata": {},
   "outputs": [],
   "source": []
  },
  {
   "cell_type": "code",
   "execution_count": 15,
   "id": "262a03d0",
   "metadata": {},
   "outputs": [
    {
     "data": {
      "text/plain": [
       "<Axes: >"
      ]
     },
     "execution_count": 15,
     "metadata": {},
     "output_type": "execute_result"
    },
    {
     "data": {
      "image/png": "[encoded data removed]",
      "text/plain": [
       "<Figure size 640x480 with 1 Axes>"
      ]
     },
     "metadata": {},
     "output_type": "display_data"
    }
   ],
   "source": [
    "mean_list = []\n",
    "for i in range(10000):\n",
    "    bootstrap_sample = babies.sample(1236, replace = True)\n",
    "    bootstrap_mean = bootstrap_sample[\"height\"].mean()\n",
    "    mean_list.append(bootstrap_mean)\n",
    "pd.Series(mean_list).hist()\n",
    "    "
   ]
  },
  {
   "cell_type": "code",
   "execution_count": 18,
   "id": "f039734b",
   "metadata": {},
   "outputs": [
    {
     "data": {
      "text/plain": [
       "64.38915857605178"
      ]
     },
     "execution_count": 18,
     "metadata": {},
     "output_type": "execute_result"
    }
   ],
   "source": [
    "pd.Series(mean_list).quantile(0.025)"
   ]
  },
  {
   "cell_type": "code",
   "execution_count": 19,
   "id": "909b1c31",
   "metadata": {},
   "outputs": [
    {
     "data": {
      "text/plain": [
       "64.97249190938511"
      ]
     },
     "execution_count": 19,
     "metadata": {},
     "output_type": "execute_result"
    }
   ],
   "source": [
    "pd.Series(mean_list).quantile(0.975)"
   ]
  },
  {
   "cell_type": "code",
   "execution_count": null,
   "id": "39ff1009",
   "metadata": {},
   "outputs": [],
   "source": []
  }
 ],
 "metadata": {
  "kernelspec": {
   "display_name": "Python 3 (ipykernel)",
   "language": "python",
   "name": "python3"
  },
  "language_info": {
   "codemirror_mode": {
    "name": "ipython",
    "version": 3
   },
   "file_extension": ".py",
   "mimetype": "text/x-python",
   "name": "python",
   "nbconvert_exporter": "python",
   "pygments_lexer": "ipython3",
   "version": "3.11.5"
  }
 },
 "nbformat": 4,
 "nbformat_minor": 5
}
