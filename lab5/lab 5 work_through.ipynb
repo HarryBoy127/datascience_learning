{
 "cells": [
  {
   "cell_type": "code",
   "execution_count": 1,
   "id": "309584fc",
   "metadata": {},
   "outputs": [],
   "source": [
    "import pandas as pd\n",
    "import matplotlib.pyplot as plt\n",
    "pd.set_option(\"display.max_columns\", None)"
   ]
  },
  {
   "cell_type": "code",
   "execution_count": 2,
   "id": "0b1f018c",
   "metadata": {},
   "outputs": [],
   "source": [
    "art = pd.read_csv(\"Artworks.csv\")"
   ]
  },
  {
   "cell_type": "code",
   "execution_count": 3,
   "id": "954ae592",
   "metadata": {},
   "outputs": [
    {
     "data": {
      "text/html": [
       "<div>\n",
       "<style scoped>\n",
       "    .dataframe tbody tr th:only-of-type {\n",
       "        vertical-align: middle;\n",
       "    }\n",
       "\n",
       "    .dataframe tbody tr th {\n",
       "        vertical-align: top;\n",
       "    }\n",
       "\n",
       "    .dataframe thead th {\n",
       "        text-align: right;\n",
       "    }\n",
       "</style>\n",
       "<table border=\"1\" class=\"dataframe\">\n",
       "  <thead>\n",
       "    <tr style=\"text-align: right;\">\n",
       "      <th></th>\n",
       "      <th>Title</th>\n",
       "      <th>Artist</th>\n",
       "      <th>ConstituentID</th>\n",
       "      <th>ArtistBio</th>\n",
       "      <th>Nationality</th>\n",
       "      <th>BeginDate</th>\n",
       "      <th>EndDate</th>\n",
       "      <th>Gender</th>\n",
       "      <th>Date</th>\n",
       "      <th>Medium</th>\n",
       "      <th>Dimensions</th>\n",
       "      <th>CreditLine</th>\n",
       "      <th>AccessionNumber</th>\n",
       "      <th>Classification</th>\n",
       "      <th>Department</th>\n",
       "      <th>DateAcquired</th>\n",
       "      <th>Cataloged</th>\n",
       "      <th>ObjectID</th>\n",
       "      <th>URL</th>\n",
       "      <th>ThumbnailURL</th>\n",
       "      <th>Circumference (cm)</th>\n",
       "      <th>Depth (cm)</th>\n",
       "      <th>Diameter (cm)</th>\n",
       "      <th>Height (cm)</th>\n",
       "      <th>Length (cm)</th>\n",
       "      <th>Weight (kg)</th>\n",
       "      <th>Width (cm)</th>\n",
       "      <th>Seat Height (cm)</th>\n",
       "      <th>Duration (sec.)</th>\n",
       "    </tr>\n",
       "  </thead>\n",
       "  <tbody>\n",
       "    <tr>\n",
       "      <th>0</th>\n",
       "      <td>Ferdinandsbrücke Project, Vienna, Austria (Ele...</td>\n",
       "      <td>Otto Wagner</td>\n",
       "      <td>6210</td>\n",
       "      <td>(Austrian, 1841–1918)</td>\n",
       "      <td>(Austrian)</td>\n",
       "      <td>(1841)</td>\n",
       "      <td>(1918)</td>\n",
       "      <td>(Male)</td>\n",
       "      <td>1896</td>\n",
       "      <td>Ink and cut-and-pasted painted pages on paper</td>\n",
       "      <td>19 1/8 x 66 1/2\" (48.6 x 168.9 cm)</td>\n",
       "      <td>Fractional and promised gift of Jo Carole and ...</td>\n",
       "      <td>885.1996</td>\n",
       "      <td>Architecture</td>\n",
       "      <td>Architecture &amp; Design</td>\n",
       "      <td>1996-04-09</td>\n",
       "      <td>Y</td>\n",
       "      <td>2</td>\n",
       "      <td>http://www.moma.org/collection/works/2</td>\n",
       "      <td>http://www.moma.org/media/W1siZiIsIjU5NDA1Il0s...</td>\n",
       "      <td>NaN</td>\n",
       "      <td>NaN</td>\n",
       "      <td>NaN</td>\n",
       "      <td>48.6000</td>\n",
       "      <td>NaN</td>\n",
       "      <td>NaN</td>\n",
       "      <td>168.9000</td>\n",
       "      <td>NaN</td>\n",
       "      <td>NaN</td>\n",
       "    </tr>\n",
       "    <tr>\n",
       "      <th>1</th>\n",
       "      <td>City of Music, National Superior Conservatory ...</td>\n",
       "      <td>Christian de Portzamparc</td>\n",
       "      <td>7470</td>\n",
       "      <td>(French, born 1944)</td>\n",
       "      <td>(French)</td>\n",
       "      <td>(1944)</td>\n",
       "      <td>(0)</td>\n",
       "      <td>(Male)</td>\n",
       "      <td>1987</td>\n",
       "      <td>Paint and colored pencil on print</td>\n",
       "      <td>16 x 11 3/4\" (40.6 x 29.8 cm)</td>\n",
       "      <td>Gift of the architect in honor of Lily Auchinc...</td>\n",
       "      <td>1.1995</td>\n",
       "      <td>Architecture</td>\n",
       "      <td>Architecture &amp; Design</td>\n",
       "      <td>1995-01-17</td>\n",
       "      <td>Y</td>\n",
       "      <td>3</td>\n",
       "      <td>http://www.moma.org/collection/works/3</td>\n",
       "      <td>http://www.moma.org/media/W1siZiIsIjk3Il0sWyJw...</td>\n",
       "      <td>NaN</td>\n",
       "      <td>NaN</td>\n",
       "      <td>NaN</td>\n",
       "      <td>40.6401</td>\n",
       "      <td>NaN</td>\n",
       "      <td>NaN</td>\n",
       "      <td>29.8451</td>\n",
       "      <td>NaN</td>\n",
       "      <td>NaN</td>\n",
       "    </tr>\n",
       "    <tr>\n",
       "      <th>2</th>\n",
       "      <td>Villa near Vienna Project, Outside Vienna, Aus...</td>\n",
       "      <td>Emil Hoppe</td>\n",
       "      <td>7605</td>\n",
       "      <td>(Austrian, 1876–1957)</td>\n",
       "      <td>(Austrian)</td>\n",
       "      <td>(1876)</td>\n",
       "      <td>(1957)</td>\n",
       "      <td>(Male)</td>\n",
       "      <td>1903</td>\n",
       "      <td>Graphite, pen, color pencil, ink, and gouache ...</td>\n",
       "      <td>13 1/2 x 12 1/2\" (34.3 x 31.8 cm)</td>\n",
       "      <td>Gift of Jo Carole and Ronald S. Lauder</td>\n",
       "      <td>1.1997</td>\n",
       "      <td>Architecture</td>\n",
       "      <td>Architecture &amp; Design</td>\n",
       "      <td>1997-01-15</td>\n",
       "      <td>Y</td>\n",
       "      <td>4</td>\n",
       "      <td>http://www.moma.org/collection/works/4</td>\n",
       "      <td>http://www.moma.org/media/W1siZiIsIjk4Il0sWyJw...</td>\n",
       "      <td>NaN</td>\n",
       "      <td>NaN</td>\n",
       "      <td>NaN</td>\n",
       "      <td>34.3000</td>\n",
       "      <td>NaN</td>\n",
       "      <td>NaN</td>\n",
       "      <td>31.8000</td>\n",
       "      <td>NaN</td>\n",
       "      <td>NaN</td>\n",
       "    </tr>\n",
       "    <tr>\n",
       "      <th>3</th>\n",
       "      <td>The Manhattan Transcripts Project, New York, N...</td>\n",
       "      <td>Bernard Tschumi</td>\n",
       "      <td>7056</td>\n",
       "      <td>(French and Swiss, born Switzerland 1944)</td>\n",
       "      <td>()</td>\n",
       "      <td>(1944)</td>\n",
       "      <td>(0)</td>\n",
       "      <td>(Male)</td>\n",
       "      <td>1980</td>\n",
       "      <td>Photographic reproduction with colored synthet...</td>\n",
       "      <td>20 x 20\" (50.8 x 50.8 cm)</td>\n",
       "      <td>Purchase and partial gift of the architect in ...</td>\n",
       "      <td>2.1995</td>\n",
       "      <td>Architecture</td>\n",
       "      <td>Architecture &amp; Design</td>\n",
       "      <td>1995-01-17</td>\n",
       "      <td>Y</td>\n",
       "      <td>5</td>\n",
       "      <td>http://www.moma.org/collection/works/5</td>\n",
       "      <td>http://www.moma.org/media/W1siZiIsIjEyNCJdLFsi...</td>\n",
       "      <td>NaN</td>\n",
       "      <td>NaN</td>\n",
       "      <td>NaN</td>\n",
       "      <td>50.8000</td>\n",
       "      <td>NaN</td>\n",
       "      <td>NaN</td>\n",
       "      <td>50.8000</td>\n",
       "      <td>NaN</td>\n",
       "      <td>NaN</td>\n",
       "    </tr>\n",
       "    <tr>\n",
       "      <th>4</th>\n",
       "      <td>Villa, project, outside Vienna, Austria, Exter...</td>\n",
       "      <td>Emil Hoppe</td>\n",
       "      <td>7605</td>\n",
       "      <td>(Austrian, 1876–1957)</td>\n",
       "      <td>(Austrian)</td>\n",
       "      <td>(1876)</td>\n",
       "      <td>(1957)</td>\n",
       "      <td>(Male)</td>\n",
       "      <td>1903</td>\n",
       "      <td>Graphite, color pencil, ink, and gouache on tr...</td>\n",
       "      <td>15 1/8 x 7 1/2\" (38.4 x 19.1 cm)</td>\n",
       "      <td>Gift of Jo Carole and Ronald S. Lauder</td>\n",
       "      <td>2.1997</td>\n",
       "      <td>Architecture</td>\n",
       "      <td>Architecture &amp; Design</td>\n",
       "      <td>1997-01-15</td>\n",
       "      <td>Y</td>\n",
       "      <td>6</td>\n",
       "      <td>http://www.moma.org/collection/works/6</td>\n",
       "      <td>http://www.moma.org/media/W1siZiIsIjEyNiJdLFsi...</td>\n",
       "      <td>NaN</td>\n",
       "      <td>NaN</td>\n",
       "      <td>NaN</td>\n",
       "      <td>38.4000</td>\n",
       "      <td>NaN</td>\n",
       "      <td>NaN</td>\n",
       "      <td>19.1000</td>\n",
       "      <td>NaN</td>\n",
       "      <td>NaN</td>\n",
       "    </tr>\n",
       "    <tr>\n",
       "      <th>...</th>\n",
       "      <td>...</td>\n",
       "      <td>...</td>\n",
       "      <td>...</td>\n",
       "      <td>...</td>\n",
       "      <td>...</td>\n",
       "      <td>...</td>\n",
       "      <td>...</td>\n",
       "      <td>...</td>\n",
       "      <td>...</td>\n",
       "      <td>...</td>\n",
       "      <td>...</td>\n",
       "      <td>...</td>\n",
       "      <td>...</td>\n",
       "      <td>...</td>\n",
       "      <td>...</td>\n",
       "      <td>...</td>\n",
       "      <td>...</td>\n",
       "      <td>...</td>\n",
       "      <td>...</td>\n",
       "      <td>...</td>\n",
       "      <td>...</td>\n",
       "      <td>...</td>\n",
       "      <td>...</td>\n",
       "      <td>...</td>\n",
       "      <td>...</td>\n",
       "      <td>...</td>\n",
       "      <td>...</td>\n",
       "      <td>...</td>\n",
       "      <td>...</td>\n",
       "    </tr>\n",
       "    <tr>\n",
       "      <th>138213</th>\n",
       "      <td>Plate from Chad gadya (The Tale of a Goat)</td>\n",
       "      <td>El Lissitzky</td>\n",
       "      <td>3569</td>\n",
       "      <td>(Russian, 1890–1941)</td>\n",
       "      <td>(Russian)</td>\n",
       "      <td>(1890)</td>\n",
       "      <td>(1941)</td>\n",
       "      <td>(Male)</td>\n",
       "      <td>1919</td>\n",
       "      <td>One from an illustrated book with thirteen lit...</td>\n",
       "      <td>composition (irreg.): 9 9/16 × 8\" (24.3 × 20.3...</td>\n",
       "      <td>Gift of The Judith Rothschild Foundation</td>\n",
       "      <td>210.2001.9</td>\n",
       "      <td>Illustrated Book</td>\n",
       "      <td>Drawings &amp; Prints</td>\n",
       "      <td>2001-01-24</td>\n",
       "      <td>N</td>\n",
       "      <td>417181</td>\n",
       "      <td>NaN</td>\n",
       "      <td>NaN</td>\n",
       "      <td>NaN</td>\n",
       "      <td>NaN</td>\n",
       "      <td>NaN</td>\n",
       "      <td>24.3000</td>\n",
       "      <td>NaN</td>\n",
       "      <td>NaN</td>\n",
       "      <td>20.3000</td>\n",
       "      <td>NaN</td>\n",
       "      <td>NaN</td>\n",
       "    </tr>\n",
       "    <tr>\n",
       "      <th>138214</th>\n",
       "      <td>Plate from Chad gadya (The Tale of a Goat)</td>\n",
       "      <td>El Lissitzky</td>\n",
       "      <td>3569</td>\n",
       "      <td>(Russian, 1890–1941)</td>\n",
       "      <td>(Russian)</td>\n",
       "      <td>(1890)</td>\n",
       "      <td>(1941)</td>\n",
       "      <td>(Male)</td>\n",
       "      <td>1919</td>\n",
       "      <td>One from an illustrated book with thirteen lit...</td>\n",
       "      <td>composition (irreg.): 9 3/16 × 7 13/16\" (23.4 ...</td>\n",
       "      <td>Gift of The Judith Rothschild Foundation</td>\n",
       "      <td>210.2001.10</td>\n",
       "      <td>Illustrated Book</td>\n",
       "      <td>Drawings &amp; Prints</td>\n",
       "      <td>2001-01-24</td>\n",
       "      <td>N</td>\n",
       "      <td>417182</td>\n",
       "      <td>NaN</td>\n",
       "      <td>NaN</td>\n",
       "      <td>NaN</td>\n",
       "      <td>NaN</td>\n",
       "      <td>NaN</td>\n",
       "      <td>23.4000</td>\n",
       "      <td>NaN</td>\n",
       "      <td>NaN</td>\n",
       "      <td>19.8000</td>\n",
       "      <td>NaN</td>\n",
       "      <td>NaN</td>\n",
       "    </tr>\n",
       "    <tr>\n",
       "      <th>138215</th>\n",
       "      <td>Plate from Chad gadya (The Tale of a Goat)</td>\n",
       "      <td>El Lissitzky</td>\n",
       "      <td>3569</td>\n",
       "      <td>(Russian, 1890–1941)</td>\n",
       "      <td>(Russian)</td>\n",
       "      <td>(1890)</td>\n",
       "      <td>(1941)</td>\n",
       "      <td>(Male)</td>\n",
       "      <td>1919</td>\n",
       "      <td>One from an illustrated book with thirteen lit...</td>\n",
       "      <td>composition (irreg.): 9 5/8 × 8 3/16\" (24.4 × ...</td>\n",
       "      <td>Gift of The Judith Rothschild Foundation</td>\n",
       "      <td>210.2001.11</td>\n",
       "      <td>Illustrated Book</td>\n",
       "      <td>Drawings &amp; Prints</td>\n",
       "      <td>2001-01-24</td>\n",
       "      <td>N</td>\n",
       "      <td>417183</td>\n",
       "      <td>NaN</td>\n",
       "      <td>NaN</td>\n",
       "      <td>NaN</td>\n",
       "      <td>NaN</td>\n",
       "      <td>NaN</td>\n",
       "      <td>24.4000</td>\n",
       "      <td>NaN</td>\n",
       "      <td>NaN</td>\n",
       "      <td>20.8000</td>\n",
       "      <td>NaN</td>\n",
       "      <td>NaN</td>\n",
       "    </tr>\n",
       "    <tr>\n",
       "      <th>138216</th>\n",
       "      <td>Cover from Chad gadya (The Tale of a Goat)</td>\n",
       "      <td>El Lissitzky</td>\n",
       "      <td>3569</td>\n",
       "      <td>(Russian, 1890–1941)</td>\n",
       "      <td>(Russian)</td>\n",
       "      <td>(1890)</td>\n",
       "      <td>(1941)</td>\n",
       "      <td>(Male)</td>\n",
       "      <td>1919</td>\n",
       "      <td>One from an illustrated book with thirteen lit...</td>\n",
       "      <td>composition (irreg.): 3 5/16 × 3 1/16\" (8.4 × ...</td>\n",
       "      <td>Gift of The Judith Rothschild Foundation</td>\n",
       "      <td>210.2001.12</td>\n",
       "      <td>Illustrated Book</td>\n",
       "      <td>Drawings &amp; Prints</td>\n",
       "      <td>2001-01-24</td>\n",
       "      <td>N</td>\n",
       "      <td>417184</td>\n",
       "      <td>NaN</td>\n",
       "      <td>NaN</td>\n",
       "      <td>NaN</td>\n",
       "      <td>NaN</td>\n",
       "      <td>NaN</td>\n",
       "      <td>8.4000</td>\n",
       "      <td>NaN</td>\n",
       "      <td>NaN</td>\n",
       "      <td>7.8000</td>\n",
       "      <td>NaN</td>\n",
       "      <td>NaN</td>\n",
       "    </tr>\n",
       "    <tr>\n",
       "      <th>138217</th>\n",
       "      <td>Interior cover from Chad gadya (The Tale of a ...</td>\n",
       "      <td>El Lissitzky</td>\n",
       "      <td>3569</td>\n",
       "      <td>(Russian, 1890–1941)</td>\n",
       "      <td>(Russian)</td>\n",
       "      <td>(1890)</td>\n",
       "      <td>(1941)</td>\n",
       "      <td>(Male)</td>\n",
       "      <td>1919</td>\n",
       "      <td>One from an illustrated book with thirteen lit...</td>\n",
       "      <td>composition and cover (unfolded): 11 5/16 × 27...</td>\n",
       "      <td>Gift of The Judith Rothschild Foundation</td>\n",
       "      <td>210.2001.13</td>\n",
       "      <td>Illustrated Book</td>\n",
       "      <td>Drawings &amp; Prints</td>\n",
       "      <td>2001-01-24</td>\n",
       "      <td>N</td>\n",
       "      <td>417191</td>\n",
       "      <td>NaN</td>\n",
       "      <td>NaN</td>\n",
       "      <td>NaN</td>\n",
       "      <td>0.0</td>\n",
       "      <td>NaN</td>\n",
       "      <td>28.8000</td>\n",
       "      <td>NaN</td>\n",
       "      <td>NaN</td>\n",
       "      <td>70.8000</td>\n",
       "      <td>NaN</td>\n",
       "      <td>NaN</td>\n",
       "    </tr>\n",
       "  </tbody>\n",
       "</table>\n",
       "<p>138218 rows × 29 columns</p>\n",
       "</div>"
      ],
      "text/plain": [
       "                                                    Title  \\\n",
       "0       Ferdinandsbrücke Project, Vienna, Austria (Ele...   \n",
       "1       City of Music, National Superior Conservatory ...   \n",
       "2       Villa near Vienna Project, Outside Vienna, Aus...   \n",
       "3       The Manhattan Transcripts Project, New York, N...   \n",
       "4       Villa, project, outside Vienna, Austria, Exter...   \n",
       "...                                                   ...   \n",
       "138213         Plate from Chad gadya (The Tale of a Goat)   \n",
       "138214         Plate from Chad gadya (The Tale of a Goat)   \n",
       "138215         Plate from Chad gadya (The Tale of a Goat)   \n",
       "138216         Cover from Chad gadya (The Tale of a Goat)   \n",
       "138217  Interior cover from Chad gadya (The Tale of a ...   \n",
       "\n",
       "                          Artist ConstituentID  \\\n",
       "0                    Otto Wagner          6210   \n",
       "1       Christian de Portzamparc          7470   \n",
       "2                     Emil Hoppe          7605   \n",
       "3                Bernard Tschumi          7056   \n",
       "4                     Emil Hoppe          7605   \n",
       "...                          ...           ...   \n",
       "138213              El Lissitzky          3569   \n",
       "138214              El Lissitzky          3569   \n",
       "138215              El Lissitzky          3569   \n",
       "138216              El Lissitzky          3569   \n",
       "138217              El Lissitzky          3569   \n",
       "\n",
       "                                        ArtistBio Nationality BeginDate  \\\n",
       "0                           (Austrian, 1841–1918)  (Austrian)    (1841)   \n",
       "1                             (French, born 1944)    (French)    (1944)   \n",
       "2                           (Austrian, 1876–1957)  (Austrian)    (1876)   \n",
       "3       (French and Swiss, born Switzerland 1944)          ()    (1944)   \n",
       "4                           (Austrian, 1876–1957)  (Austrian)    (1876)   \n",
       "...                                           ...         ...       ...   \n",
       "138213                       (Russian, 1890–1941)   (Russian)    (1890)   \n",
       "138214                       (Russian, 1890–1941)   (Russian)    (1890)   \n",
       "138215                       (Russian, 1890–1941)   (Russian)    (1890)   \n",
       "138216                       (Russian, 1890–1941)   (Russian)    (1890)   \n",
       "138217                       (Russian, 1890–1941)   (Russian)    (1890)   \n",
       "\n",
       "       EndDate  Gender  Date  \\\n",
       "0       (1918)  (Male)  1896   \n",
       "1          (0)  (Male)  1987   \n",
       "2       (1957)  (Male)  1903   \n",
       "3          (0)  (Male)  1980   \n",
       "4       (1957)  (Male)  1903   \n",
       "...        ...     ...   ...   \n",
       "138213  (1941)  (Male)  1919   \n",
       "138214  (1941)  (Male)  1919   \n",
       "138215  (1941)  (Male)  1919   \n",
       "138216  (1941)  (Male)  1919   \n",
       "138217  (1941)  (Male)  1919   \n",
       "\n",
       "                                                   Medium  \\\n",
       "0           Ink and cut-and-pasted painted pages on paper   \n",
       "1                       Paint and colored pencil on print   \n",
       "2       Graphite, pen, color pencil, ink, and gouache ...   \n",
       "3       Photographic reproduction with colored synthet...   \n",
       "4       Graphite, color pencil, ink, and gouache on tr...   \n",
       "...                                                   ...   \n",
       "138213  One from an illustrated book with thirteen lit...   \n",
       "138214  One from an illustrated book with thirteen lit...   \n",
       "138215  One from an illustrated book with thirteen lit...   \n",
       "138216  One from an illustrated book with thirteen lit...   \n",
       "138217  One from an illustrated book with thirteen lit...   \n",
       "\n",
       "                                               Dimensions  \\\n",
       "0                      19 1/8 x 66 1/2\" (48.6 x 168.9 cm)   \n",
       "1                           16 x 11 3/4\" (40.6 x 29.8 cm)   \n",
       "2                       13 1/2 x 12 1/2\" (34.3 x 31.8 cm)   \n",
       "3                               20 x 20\" (50.8 x 50.8 cm)   \n",
       "4                        15 1/8 x 7 1/2\" (38.4 x 19.1 cm)   \n",
       "...                                                   ...   \n",
       "138213  composition (irreg.): 9 9/16 × 8\" (24.3 × 20.3...   \n",
       "138214  composition (irreg.): 9 3/16 × 7 13/16\" (23.4 ...   \n",
       "138215  composition (irreg.): 9 5/8 × 8 3/16\" (24.4 × ...   \n",
       "138216  composition (irreg.): 3 5/16 × 3 1/16\" (8.4 × ...   \n",
       "138217  composition and cover (unfolded): 11 5/16 × 27...   \n",
       "\n",
       "                                               CreditLine AccessionNumber  \\\n",
       "0       Fractional and promised gift of Jo Carole and ...        885.1996   \n",
       "1       Gift of the architect in honor of Lily Auchinc...          1.1995   \n",
       "2                  Gift of Jo Carole and Ronald S. Lauder          1.1997   \n",
       "3       Purchase and partial gift of the architect in ...          2.1995   \n",
       "4                  Gift of Jo Carole and Ronald S. Lauder          2.1997   \n",
       "...                                                   ...             ...   \n",
       "138213           Gift of The Judith Rothschild Foundation      210.2001.9   \n",
       "138214           Gift of The Judith Rothschild Foundation     210.2001.10   \n",
       "138215           Gift of The Judith Rothschild Foundation     210.2001.11   \n",
       "138216           Gift of The Judith Rothschild Foundation     210.2001.12   \n",
       "138217           Gift of The Judith Rothschild Foundation     210.2001.13   \n",
       "\n",
       "          Classification             Department DateAcquired Cataloged  \\\n",
       "0           Architecture  Architecture & Design   1996-04-09         Y   \n",
       "1           Architecture  Architecture & Design   1995-01-17         Y   \n",
       "2           Architecture  Architecture & Design   1997-01-15         Y   \n",
       "3           Architecture  Architecture & Design   1995-01-17         Y   \n",
       "4           Architecture  Architecture & Design   1997-01-15         Y   \n",
       "...                  ...                    ...          ...       ...   \n",
       "138213  Illustrated Book      Drawings & Prints   2001-01-24         N   \n",
       "138214  Illustrated Book      Drawings & Prints   2001-01-24         N   \n",
       "138215  Illustrated Book      Drawings & Prints   2001-01-24         N   \n",
       "138216  Illustrated Book      Drawings & Prints   2001-01-24         N   \n",
       "138217  Illustrated Book      Drawings & Prints   2001-01-24         N   \n",
       "\n",
       "        ObjectID                                     URL  \\\n",
       "0              2  http://www.moma.org/collection/works/2   \n",
       "1              3  http://www.moma.org/collection/works/3   \n",
       "2              4  http://www.moma.org/collection/works/4   \n",
       "3              5  http://www.moma.org/collection/works/5   \n",
       "4              6  http://www.moma.org/collection/works/6   \n",
       "...          ...                                     ...   \n",
       "138213    417181                                     NaN   \n",
       "138214    417182                                     NaN   \n",
       "138215    417183                                     NaN   \n",
       "138216    417184                                     NaN   \n",
       "138217    417191                                     NaN   \n",
       "\n",
       "                                             ThumbnailURL  Circumference (cm)  \\\n",
       "0       http://www.moma.org/media/W1siZiIsIjU5NDA1Il0s...                 NaN   \n",
       "1       http://www.moma.org/media/W1siZiIsIjk3Il0sWyJw...                 NaN   \n",
       "2       http://www.moma.org/media/W1siZiIsIjk4Il0sWyJw...                 NaN   \n",
       "3       http://www.moma.org/media/W1siZiIsIjEyNCJdLFsi...                 NaN   \n",
       "4       http://www.moma.org/media/W1siZiIsIjEyNiJdLFsi...                 NaN   \n",
       "...                                                   ...                 ...   \n",
       "138213                                                NaN                 NaN   \n",
       "138214                                                NaN                 NaN   \n",
       "138215                                                NaN                 NaN   \n",
       "138216                                                NaN                 NaN   \n",
       "138217                                                NaN                 NaN   \n",
       "\n",
       "        Depth (cm)  Diameter (cm)  Height (cm)  Length (cm)  Weight (kg)  \\\n",
       "0              NaN            NaN      48.6000          NaN          NaN   \n",
       "1              NaN            NaN      40.6401          NaN          NaN   \n",
       "2              NaN            NaN      34.3000          NaN          NaN   \n",
       "3              NaN            NaN      50.8000          NaN          NaN   \n",
       "4              NaN            NaN      38.4000          NaN          NaN   \n",
       "...            ...            ...          ...          ...          ...   \n",
       "138213         NaN            NaN      24.3000          NaN          NaN   \n",
       "138214         NaN            NaN      23.4000          NaN          NaN   \n",
       "138215         NaN            NaN      24.4000          NaN          NaN   \n",
       "138216         NaN            NaN       8.4000          NaN          NaN   \n",
       "138217         0.0            NaN      28.8000          NaN          NaN   \n",
       "\n",
       "        Width (cm)  Seat Height (cm)  Duration (sec.)  \n",
       "0         168.9000               NaN              NaN  \n",
       "1          29.8451               NaN              NaN  \n",
       "2          31.8000               NaN              NaN  \n",
       "3          50.8000               NaN              NaN  \n",
       "4          19.1000               NaN              NaN  \n",
       "...            ...               ...              ...  \n",
       "138213     20.3000               NaN              NaN  \n",
       "138214     19.8000               NaN              NaN  \n",
       "138215     20.8000               NaN              NaN  \n",
       "138216      7.8000               NaN              NaN  \n",
       "138217     70.8000               NaN              NaN  \n",
       "\n",
       "[138218 rows x 29 columns]"
      ]
     },
     "execution_count": 3,
     "metadata": {},
     "output_type": "execute_result"
    }
   ],
   "source": [
    "art"
   ]
  },
  {
   "cell_type": "code",
   "execution_count": 4,
   "id": "3067f1c9",
   "metadata": {},
   "outputs": [
    {
     "data": {
      "text/plain": [
       "0    Gelatin silver print\n",
       "Name: Medium, dtype: object"
      ]
     },
     "execution_count": 4,
     "metadata": {},
     "output_type": "execute_result"
    }
   ],
   "source": [
    "art[\"Medium\"].mode()"
   ]
  },
  {
   "cell_type": "code",
   "execution_count": 5,
   "id": "c11f5263",
   "metadata": {},
   "outputs": [
    {
     "data": {
      "text/plain": [
       "0         48.6000\n",
       "1         40.6401\n",
       "2         34.3000\n",
       "3         50.8000\n",
       "4         38.4000\n",
       "           ...   \n",
       "138213    24.3000\n",
       "138214    23.4000\n",
       "138215    24.4000\n",
       "138216     8.4000\n",
       "138217    28.8000\n",
       "Name: Height (cm), Length: 138218, dtype: float64"
      ]
     },
     "execution_count": 5,
     "metadata": {},
     "output_type": "execute_result"
    }
   ],
   "source": [
    "art[\"Height (cm)\"]"
   ]
  },
  {
   "cell_type": "code",
   "execution_count": 6,
   "id": "17deb731",
   "metadata": {},
   "outputs": [
    {
     "data": {
      "text/plain": [
       "<Axes: >"
      ]
     },
     "execution_count": 6,
     "metadata": {},
     "output_type": "execute_result"
    },
    {
     "data": {
      "image/png": "[encoded data removed]",
      "text/plain": [
       "<Figure size 640x480 with 1 Axes>"
      ]
     },
     "metadata": {},
     "output_type": "display_data"
    }
   ],
   "source": [
    "art[\"Height (cm)\"].hist()"
   ]
  },
  {
   "cell_type": "code",
   "execution_count": 7,
   "id": "7648280f",
   "metadata": {},
   "outputs": [
    {
     "data": {
      "text/plain": [
       "9140.0"
      ]
     },
     "execution_count": 7,
     "metadata": {},
     "output_type": "execute_result"
    }
   ],
   "source": [
    "art[\"Height (cm)\"].max()"
   ]
  },
  {
   "cell_type": "code",
   "execution_count": 8,
   "id": "0e04b749",
   "metadata": {},
   "outputs": [],
   "source": [
    "max_row = art[\"Height (cm)\"].idxmax()"
   ]
  },
  {
   "cell_type": "code",
   "execution_count": 9,
   "id": "82eedf92",
   "metadata": {},
   "outputs": [
    {
     "data": {
      "text/plain": [
       "87616"
      ]
     },
     "execution_count": 9,
     "metadata": {},
     "output_type": "execute_result"
    }
   ],
   "source": [
    "max_row"
   ]
  },
  {
   "cell_type": "code",
   "execution_count": 10,
   "id": "51518897",
   "metadata": {},
   "outputs": [
    {
     "data": {
      "text/plain": [
       "Title                                                           To Lift\n",
       "Artist                                                    Richard Serra\n",
       "ConstituentID                                                      5349\n",
       "ArtistBio                                         (American, born 1938)\n",
       "Nationality                                                  (American)\n",
       "BeginDate                                                        (1938)\n",
       "EndDate                                                             (0)\n",
       "Gender                                                           (Male)\n",
       "Date                                                               1967\n",
       "Medium                                                Vulcanized rubber\n",
       "Dimensions                    36\" x 6' 8\" x 60\" (91.4 x 200 x 152.4 cm)\n",
       "CreditLine                                           Gift of the artist\n",
       "AccessionNumber                                                458.2007\n",
       "Classification                                                Sculpture\n",
       "Department                                         Painting & Sculpture\n",
       "DateAcquired                                                 2007-10-01\n",
       "Cataloged                                                             Y\n",
       "ObjectID                                                         101902\n",
       "URL                         http://www.moma.org/collection/works/101902\n",
       "ThumbnailURL          http://www.moma.org/media/W1siZiIsIjQyNDI4MiJd...\n",
       "Circumference (cm)                                                  NaN\n",
       "Depth (cm)                                                     152.4003\n",
       "Diameter (cm)                                                       NaN\n",
       "Height (cm)                                                      9140.0\n",
       "Length (cm)                                                         NaN\n",
       "Weight (kg)                                                         NaN\n",
       "Width (cm)                                                        200.0\n",
       "Seat Height (cm)                                                    NaN\n",
       "Duration (sec.)                                                     NaN\n",
       "Name: 87616, dtype: object"
      ]
     },
     "execution_count": 10,
     "metadata": {},
     "output_type": "execute_result"
    }
   ],
   "source": [
    "art.loc[max_row]"
   ]
  },
  {
   "cell_type": "code",
   "execution_count": 11,
   "id": "8e9f7975",
   "metadata": {},
   "outputs": [],
   "source": [
    "height_filter = art[\"Height (cm)\"] < 500"
   ]
  },
  {
   "cell_type": "code",
   "execution_count": 12,
   "id": "fb58a589",
   "metadata": {},
   "outputs": [
    {
     "data": {
      "text/plain": [
       "0         True\n",
       "1         True\n",
       "2         True\n",
       "3         True\n",
       "4         True\n",
       "          ... \n",
       "138213    True\n",
       "138214    True\n",
       "138215    True\n",
       "138216    True\n",
       "138217    True\n",
       "Name: Height (cm), Length: 138218, dtype: bool"
      ]
     },
     "execution_count": 12,
     "metadata": {},
     "output_type": "execute_result"
    }
   ],
   "source": [
    "height_filter"
   ]
  },
  {
   "cell_type": "code",
   "execution_count": 13,
   "id": "837095d8",
   "metadata": {},
   "outputs": [],
   "source": [
    "new_art = art[height_filter]"
   ]
  },
  {
   "cell_type": "code",
   "execution_count": 14,
   "id": "bc45a865",
   "metadata": {},
   "outputs": [
    {
     "data": {
      "text/html": [
       "<div>\n",
       "<style scoped>\n",
       "    .dataframe tbody tr th:only-of-type {\n",
       "        vertical-align: middle;\n",
       "    }\n",
       "\n",
       "    .dataframe tbody tr th {\n",
       "        vertical-align: top;\n",
       "    }\n",
       "\n",
       "    .dataframe thead th {\n",
       "        text-align: right;\n",
       "    }\n",
       "</style>\n",
       "<table border=\"1\" class=\"dataframe\">\n",
       "  <thead>\n",
       "    <tr style=\"text-align: right;\">\n",
       "      <th></th>\n",
       "      <th>Title</th>\n",
       "      <th>Artist</th>\n",
       "      <th>ConstituentID</th>\n",
       "      <th>ArtistBio</th>\n",
       "      <th>Nationality</th>\n",
       "      <th>BeginDate</th>\n",
       "      <th>EndDate</th>\n",
       "      <th>Gender</th>\n",
       "      <th>Date</th>\n",
       "      <th>Medium</th>\n",
       "      <th>Dimensions</th>\n",
       "      <th>CreditLine</th>\n",
       "      <th>AccessionNumber</th>\n",
       "      <th>Classification</th>\n",
       "      <th>Department</th>\n",
       "      <th>DateAcquired</th>\n",
       "      <th>Cataloged</th>\n",
       "      <th>ObjectID</th>\n",
       "      <th>URL</th>\n",
       "      <th>ThumbnailURL</th>\n",
       "      <th>Circumference (cm)</th>\n",
       "      <th>Depth (cm)</th>\n",
       "      <th>Diameter (cm)</th>\n",
       "      <th>Height (cm)</th>\n",
       "      <th>Length (cm)</th>\n",
       "      <th>Weight (kg)</th>\n",
       "      <th>Width (cm)</th>\n",
       "      <th>Seat Height (cm)</th>\n",
       "      <th>Duration (sec.)</th>\n",
       "    </tr>\n",
       "  </thead>\n",
       "  <tbody>\n",
       "    <tr>\n",
       "      <th>0</th>\n",
       "      <td>Ferdinandsbrücke Project, Vienna, Austria (Ele...</td>\n",
       "      <td>Otto Wagner</td>\n",
       "      <td>6210</td>\n",
       "      <td>(Austrian, 1841–1918)</td>\n",
       "      <td>(Austrian)</td>\n",
       "      <td>(1841)</td>\n",
       "      <td>(1918)</td>\n",
       "      <td>(Male)</td>\n",
       "      <td>1896</td>\n",
       "      <td>Ink and cut-and-pasted painted pages on paper</td>\n",
       "      <td>19 1/8 x 66 1/2\" (48.6 x 168.9 cm)</td>\n",
       "      <td>Fractional and promised gift of Jo Carole and ...</td>\n",
       "      <td>885.1996</td>\n",
       "      <td>Architecture</td>\n",
       "      <td>Architecture &amp; Design</td>\n",
       "      <td>1996-04-09</td>\n",
       "      <td>Y</td>\n",
       "      <td>2</td>\n",
       "      <td>http://www.moma.org/collection/works/2</td>\n",
       "      <td>http://www.moma.org/media/W1siZiIsIjU5NDA1Il0s...</td>\n",
       "      <td>NaN</td>\n",
       "      <td>NaN</td>\n",
       "      <td>NaN</td>\n",
       "      <td>48.6000</td>\n",
       "      <td>NaN</td>\n",
       "      <td>NaN</td>\n",
       "      <td>168.9000</td>\n",
       "      <td>NaN</td>\n",
       "      <td>NaN</td>\n",
       "    </tr>\n",
       "    <tr>\n",
       "      <th>1</th>\n",
       "      <td>City of Music, National Superior Conservatory ...</td>\n",
       "      <td>Christian de Portzamparc</td>\n",
       "      <td>7470</td>\n",
       "      <td>(French, born 1944)</td>\n",
       "      <td>(French)</td>\n",
       "      <td>(1944)</td>\n",
       "      <td>(0)</td>\n",
       "      <td>(Male)</td>\n",
       "      <td>1987</td>\n",
       "      <td>Paint and colored pencil on print</td>\n",
       "      <td>16 x 11 3/4\" (40.6 x 29.8 cm)</td>\n",
       "      <td>Gift of the architect in honor of Lily Auchinc...</td>\n",
       "      <td>1.1995</td>\n",
       "      <td>Architecture</td>\n",
       "      <td>Architecture &amp; Design</td>\n",
       "      <td>1995-01-17</td>\n",
       "      <td>Y</td>\n",
       "      <td>3</td>\n",
       "      <td>http://www.moma.org/collection/works/3</td>\n",
       "      <td>http://www.moma.org/media/W1siZiIsIjk3Il0sWyJw...</td>\n",
       "      <td>NaN</td>\n",
       "      <td>NaN</td>\n",
       "      <td>NaN</td>\n",
       "      <td>40.6401</td>\n",
       "      <td>NaN</td>\n",
       "      <td>NaN</td>\n",
       "      <td>29.8451</td>\n",
       "      <td>NaN</td>\n",
       "      <td>NaN</td>\n",
       "    </tr>\n",
       "  </tbody>\n",
       "</table>\n",
       "</div>"
      ],
      "text/plain": [
       "                                               Title  \\\n",
       "0  Ferdinandsbrücke Project, Vienna, Austria (Ele...   \n",
       "1  City of Music, National Superior Conservatory ...   \n",
       "\n",
       "                     Artist ConstituentID              ArtistBio Nationality  \\\n",
       "0               Otto Wagner          6210  (Austrian, 1841–1918)  (Austrian)   \n",
       "1  Christian de Portzamparc          7470    (French, born 1944)    (French)   \n",
       "\n",
       "  BeginDate EndDate  Gender  Date  \\\n",
       "0    (1841)  (1918)  (Male)  1896   \n",
       "1    (1944)     (0)  (Male)  1987   \n",
       "\n",
       "                                          Medium  \\\n",
       "0  Ink and cut-and-pasted painted pages on paper   \n",
       "1              Paint and colored pencil on print   \n",
       "\n",
       "                           Dimensions  \\\n",
       "0  19 1/8 x 66 1/2\" (48.6 x 168.9 cm)   \n",
       "1       16 x 11 3/4\" (40.6 x 29.8 cm)   \n",
       "\n",
       "                                          CreditLine AccessionNumber  \\\n",
       "0  Fractional and promised gift of Jo Carole and ...        885.1996   \n",
       "1  Gift of the architect in honor of Lily Auchinc...          1.1995   \n",
       "\n",
       "  Classification             Department DateAcquired Cataloged  ObjectID  \\\n",
       "0   Architecture  Architecture & Design   1996-04-09         Y         2   \n",
       "1   Architecture  Architecture & Design   1995-01-17         Y         3   \n",
       "\n",
       "                                      URL  \\\n",
       "0  http://www.moma.org/collection/works/2   \n",
       "1  http://www.moma.org/collection/works/3   \n",
       "\n",
       "                                        ThumbnailURL  Circumference (cm)  \\\n",
       "0  http://www.moma.org/media/W1siZiIsIjU5NDA1Il0s...                 NaN   \n",
       "1  http://www.moma.org/media/W1siZiIsIjk3Il0sWyJw...                 NaN   \n",
       "\n",
       "   Depth (cm)  Diameter (cm)  Height (cm)  Length (cm)  Weight (kg)  \\\n",
       "0         NaN            NaN      48.6000          NaN          NaN   \n",
       "1         NaN            NaN      40.6401          NaN          NaN   \n",
       "\n",
       "   Width (cm)  Seat Height (cm)  Duration (sec.)  \n",
       "0    168.9000               NaN              NaN  \n",
       "1     29.8451               NaN              NaN  "
      ]
     },
     "execution_count": 14,
     "metadata": {},
     "output_type": "execute_result"
    }
   ],
   "source": [
    "new_art.head(2)"
   ]
  },
  {
   "cell_type": "code",
   "execution_count": 16,
   "id": "bf976c39",
   "metadata": {},
   "outputs": [
    {
     "data": {
      "text/plain": [
       "37.09239407246584"
      ]
     },
     "execution_count": 16,
     "metadata": {},
     "output_type": "execute_result"
    }
   ],
   "source": [
    "new_art[\"Height (cm)\"].mean()"
   ]
  },
  {
   "cell_type": "code",
   "execution_count": 17,
   "id": "97aaf223",
   "metadata": {},
   "outputs": [
    {
     "data": {
      "text/plain": [
       "27.8"
      ]
     },
     "execution_count": 17,
     "metadata": {},
     "output_type": "execute_result"
    }
   ],
   "source": [
    "new_art[\"Height (cm)\"].median()"
   ]
  },
  {
   "cell_type": "code",
   "execution_count": 18,
   "id": "6d868b97",
   "metadata": {},
   "outputs": [
    {
     "data": {
      "text/plain": [
       "25.4000508001"
      ]
     },
     "execution_count": 18,
     "metadata": {},
     "output_type": "execute_result"
    }
   ],
   "source": [
    "new_art[\"Width (cm)\"].median()"
   ]
  },
  {
   "cell_type": "code",
   "execution_count": 19,
   "id": "8ce7174d",
   "metadata": {},
   "outputs": [
    {
     "data": {
      "text/plain": [
       "37.757593618919394"
      ]
     },
     "execution_count": 19,
     "metadata": {},
     "output_type": "execute_result"
    }
   ],
   "source": [
    "new_art[\"Width (cm)\"].mean()"
   ]
  },
  {
   "cell_type": "code",
   "execution_count": 20,
   "id": "21ee8356",
   "metadata": {},
   "outputs": [
    {
     "data": {
      "text/plain": [
       "<Axes: >"
      ]
     },
     "execution_count": 20,
     "metadata": {},
     "output_type": "execute_result"
    },
    {
     "data": {
      "image/png": "[encoded data removed]",
      "text/plain": [
       "<Figure size 640x480 with 1 Axes>"
      ]
     },
     "metadata": {},
     "output_type": "display_data"
    }
   ],
   "source": [
    "new_art[\"Width (cm)\"].hist(bins = 20)"
   ]
  },
  {
   "cell_type": "code",
   "execution_count": null,
   "id": "98a33d35",
   "metadata": {},
   "outputs": [],
   "source": [
    "# work through on the homework 5"
   ]
  },
  {
   "cell_type": "markdown",
   "id": "88a6f313",
   "metadata": {},
   "source": [
    "This assignment will use the green taxi trip dataset you downloaded and used in Labs 3 and 4. For privacy, New York city is divided into zones, which are numbered. The drop off and pick up locations are stored as the numbers for the zones they were in.\n",
    "Write a piece of code that computes the most popular pick up and drop off locations. That is, write code that computes the mode of the pick up and drop off locations. The columns are named PULocationID and DOLocationID, respectively.\n",
    "You do not have to filter the code to remove long/erranous trip distances, as in the lab."
   ]
  },
  {
   "cell_type": "markdown",
   "id": "7ff34530",
   "metadata": {},
   "source": [
    "There is a CSV file here that contains which number corresponds to which zone in NYC.\n",
    "1) What is the most popular zone for pick-ups?\n",
    "2) What is the most popular zone for drop-off?\n"
   ]
  },
  {
   "cell_type": "code",
   "execution_count": 21,
   "id": "dbc9fd27",
   "metadata": {},
   "outputs": [],
   "source": [
    "taxi = pd.read_csv(\"2021_Green_Taxi_Trip_Data.csv\")"
   ]
  },
  {
   "cell_type": "code",
   "execution_count": 23,
   "id": "47814d38",
   "metadata": {},
   "outputs": [
    {
     "data": {
      "text/html": [
       "<div>\n",
       "<style scoped>\n",
       "    .dataframe tbody tr th:only-of-type {\n",
       "        vertical-align: middle;\n",
       "    }\n",
       "\n",
       "    .dataframe tbody tr th {\n",
       "        vertical-align: top;\n",
       "    }\n",
       "\n",
       "    .dataframe thead th {\n",
       "        text-align: right;\n",
       "    }\n",
       "</style>\n",
       "<table border=\"1\" class=\"dataframe\">\n",
       "  <thead>\n",
       "    <tr style=\"text-align: right;\">\n",
       "      <th></th>\n",
       "      <th>VendorID</th>\n",
       "      <th>lpep_pickup_datetime</th>\n",
       "      <th>lpep_dropoff_datetime</th>\n",
       "      <th>store_and_fwd_flag</th>\n",
       "      <th>RatecodeID</th>\n",
       "      <th>PULocationID</th>\n",
       "      <th>DOLocationID</th>\n",
       "      <th>passenger_count</th>\n",
       "      <th>trip_distance</th>\n",
       "      <th>fare_amount</th>\n",
       "      <th>extra</th>\n",
       "      <th>mta_tax</th>\n",
       "      <th>tip_amount</th>\n",
       "      <th>tolls_amount</th>\n",
       "      <th>ehail_fee</th>\n",
       "      <th>improvement_surcharge</th>\n",
       "      <th>total_amount</th>\n",
       "      <th>payment_type</th>\n",
       "      <th>trip_type</th>\n",
       "      <th>congestion_surcharge</th>\n",
       "    </tr>\n",
       "  </thead>\n",
       "  <tbody>\n",
       "    <tr>\n",
       "      <th>0</th>\n",
       "      <td>2</td>\n",
       "      <td>09/01/2021 12:00:11 AM</td>\n",
       "      <td>09/01/2021 12:01:39 AM</td>\n",
       "      <td>N</td>\n",
       "      <td>1.0</td>\n",
       "      <td>74</td>\n",
       "      <td>74</td>\n",
       "      <td>1.0</td>\n",
       "      <td>0.02</td>\n",
       "      <td>3.0</td>\n",
       "      <td>0.5</td>\n",
       "      <td>0.5</td>\n",
       "      <td>0.0</td>\n",
       "      <td>0.0</td>\n",
       "      <td>NaN</td>\n",
       "      <td>0.3</td>\n",
       "      <td>4.3</td>\n",
       "      <td>2.0</td>\n",
       "      <td>1.0</td>\n",
       "      <td>0.0</td>\n",
       "    </tr>\n",
       "    <tr>\n",
       "      <th>1</th>\n",
       "      <td>2</td>\n",
       "      <td>09/01/2021 12:00:26 AM</td>\n",
       "      <td>09/01/2021 12:09:38 AM</td>\n",
       "      <td>N</td>\n",
       "      <td>1.0</td>\n",
       "      <td>95</td>\n",
       "      <td>56</td>\n",
       "      <td>1.0</td>\n",
       "      <td>1.41</td>\n",
       "      <td>8.0</td>\n",
       "      <td>0.5</td>\n",
       "      <td>0.5</td>\n",
       "      <td>1.0</td>\n",
       "      <td>0.0</td>\n",
       "      <td>NaN</td>\n",
       "      <td>0.3</td>\n",
       "      <td>10.3</td>\n",
       "      <td>1.0</td>\n",
       "      <td>1.0</td>\n",
       "      <td>0.0</td>\n",
       "    </tr>\n",
       "  </tbody>\n",
       "</table>\n",
       "</div>"
      ],
      "text/plain": [
       "   VendorID    lpep_pickup_datetime   lpep_dropoff_datetime  \\\n",
       "0         2  09/01/2021 12:00:11 AM  09/01/2021 12:01:39 AM   \n",
       "1         2  09/01/2021 12:00:26 AM  09/01/2021 12:09:38 AM   \n",
       "\n",
       "  store_and_fwd_flag  RatecodeID  PULocationID  DOLocationID  passenger_count  \\\n",
       "0                  N         1.0            74            74              1.0   \n",
       "1                  N         1.0            95            56              1.0   \n",
       "\n",
       "   trip_distance  fare_amount  extra  mta_tax  tip_amount  tolls_amount  \\\n",
       "0           0.02          3.0    0.5      0.5         0.0           0.0   \n",
       "1           1.41          8.0    0.5      0.5         1.0           0.0   \n",
       "\n",
       "   ehail_fee  improvement_surcharge  total_amount  payment_type  trip_type  \\\n",
       "0        NaN                    0.3           4.3           2.0        1.0   \n",
       "1        NaN                    0.3          10.3           1.0        1.0   \n",
       "\n",
       "   congestion_surcharge  \n",
       "0                   0.0  \n",
       "1                   0.0  "
      ]
     },
     "execution_count": 23,
     "metadata": {},
     "output_type": "execute_result"
    }
   ],
   "source": [
    "taxi.head(2)"
   ]
  },
  {
   "cell_type": "code",
   "execution_count": 31,
   "id": "ed8288d8",
   "metadata": {},
   "outputs": [
    {
     "data": {
      "text/plain": [
       "PULocationID\n",
       "74     298\n",
       "75     279\n",
       "41     142\n",
       "244    110\n",
       "166    100\n",
       "      ... \n",
       "113      1\n",
       "164      1\n",
       "102      1\n",
       "46       1\n",
       "201      1\n",
       "Name: count, Length: 201, dtype: int64"
      ]
     },
     "execution_count": 31,
     "metadata": {},
     "output_type": "execute_result"
    }
   ],
   "source": [
    "taxi[\"PULocationID\"].value_counts()"
   ]
  },
  {
   "cell_type": "code",
   "execution_count": 30,
   "id": "2b5f33a1",
   "metadata": {},
   "outputs": [
    {
     "data": {
      "text/plain": [
       "DOLocationID\n",
       "74     119\n",
       "75      98\n",
       "41      69\n",
       "166     67\n",
       "42      67\n",
       "      ... \n",
       "120      1\n",
       "206      1\n",
       "124      1\n",
       "58       1\n",
       "73       1\n",
       "Name: count, Length: 227, dtype: int64"
      ]
     },
     "execution_count": 30,
     "metadata": {},
     "output_type": "execute_result"
    }
   ],
   "source": [
    "taxi[\"DOLocationID\"].value_counts()"
   ]
  },
  {
   "cell_type": "code",
   "execution_count": 28,
   "id": "c08eddd3",
   "metadata": {},
   "outputs": [
    {
     "data": {
      "text/plain": [
       "0    74\n",
       "Name: PULocationID, dtype: int64"
      ]
     },
     "execution_count": 28,
     "metadata": {},
     "output_type": "execute_result"
    }
   ],
   "source": [
    "taxi[\"PULocationID\"].mode()"
   ]
  },
  {
   "cell_type": "code",
   "execution_count": 29,
   "id": "c8eb3697",
   "metadata": {},
   "outputs": [
    {
     "data": {
      "text/plain": [
       "0    74\n",
       "Name: DOLocationID, dtype: int64"
      ]
     },
     "execution_count": 29,
     "metadata": {},
     "output_type": "execute_result"
    }
   ],
   "source": [
    "taxi[\"DOLocationID\"].mode()"
   ]
  },
  {
   "cell_type": "markdown",
   "id": "8a302bd0",
   "metadata": {},
   "source": [
    "This assignment will use the green taxi trip dataset you downloaded and used in labs 3 and 4. You do not have to filter the code to remove long/erranous trip distances, as in the lab.\n",
    "Write a piece of code that:\n",
    "i) plots the histogram of the fare amount per green taxi trip\n",
    "\n",
    "ii) computes the mean fare amount per green taxi trip\n",
    "\n",
    "iii) computes the median fare amount per green taxi trip"
   ]
  },
  {
   "cell_type": "code",
   "execution_count": 32,
   "id": "ec512a2c",
   "metadata": {},
   "outputs": [
    {
     "data": {
      "text/plain": [
       "<Axes: >"
      ]
     },
     "execution_count": 32,
     "metadata": {},
     "output_type": "execute_result"
    },
    {
     "data": {
      "image/png": "[encoded data removed]",
      "text/plain": [
       "<Figure size 640x480 with 1 Axes>"
      ]
     },
     "metadata": {},
     "output_type": "display_data"
    }
   ],
   "source": [
    "taxi[\"fare_amount\"].hist(bins = 20)"
   ]
  },
  {
   "cell_type": "code",
   "execution_count": 33,
   "id": "5a8afe15",
   "metadata": {},
   "outputs": [
    {
     "data": {
      "text/plain": [
       "20.954879916463625"
      ]
     },
     "execution_count": 33,
     "metadata": {},
     "output_type": "execute_result"
    }
   ],
   "source": [
    "taxi[\"fare_amount\"].mean()"
   ]
  },
  {
   "cell_type": "code",
   "execution_count": 35,
   "id": "92090d18",
   "metadata": {},
   "outputs": [
    {
     "data": {
      "text/plain": [
       "17.0"
      ]
     },
     "execution_count": 35,
     "metadata": {},
     "output_type": "execute_result"
    }
   ],
   "source": [
    "taxi[\"fare_amount\"].median()"
   ]
  },
  {
   "cell_type": "code",
   "execution_count": null,
   "id": "05695dbc",
   "metadata": {},
   "outputs": [],
   "source": []
  }
 ],
 "metadata": {
  "kernelspec": {
   "display_name": "Python 3 (ipykernel)",
   "language": "python",
   "name": "python3"
  },
  "language_info": {
   "codemirror_mode": {
    "name": "ipython",
    "version": 3
   },
   "file_extension": ".py",
   "mimetype": "text/x-python",
   "name": "python",
   "nbconvert_exporter": "python",
   "pygments_lexer": "ipython3",
   "version": "3.11.5"
  }
 },
 "nbformat": 4,
 "nbformat_minor": 5
}
