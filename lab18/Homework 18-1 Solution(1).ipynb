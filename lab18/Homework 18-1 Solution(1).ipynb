{
 "cells": [
  {
   "cell_type": "markdown",
   "metadata": {},
   "source": [
    "*Replace this text with your own name and a brief description of what this notebook does.*"
   ]
  },
  {
   "cell_type": "markdown",
   "metadata": {},
   "source": [
    "## Homework 18-1.\n",
    "\n",
    "This assignment uses your green taxi trip data set from previous labs.  \n",
    "\n",
    "Use sample sizes 50, 500, and 1000.  For each sample size, take 10,0000 samples from green taxi trip data and compute the mean passenger count for each sample.  For the three sample size, plot three histograms of the mean passenger on the same graph.  \n",
    "\n",
    "The y axis should be the density.  Give your graph a title and a legend with the sample size used for each color.  (See Lab 12 for how to add a legend to your histogram.)"
   ]
  },
  {
   "cell_type": "code",
   "execution_count": 9,
   "metadata": {},
   "outputs": [
    {
     "data": {
      "text/html": [
       "<div>\n",
       "<style scoped>\n",
       "    .dataframe tbody tr th:only-of-type {\n",
       "        vertical-align: middle;\n",
       "    }\n",
       "\n",
       "    .dataframe tbody tr th {\n",
       "        vertical-align: top;\n",
       "    }\n",
       "\n",
       "    .dataframe thead th {\n",
       "        text-align: right;\n",
       "    }\n",
       "</style>\n",
       "<table border=\"1\" class=\"dataframe\">\n",
       "  <thead>\n",
       "    <tr style=\"text-align: right;\">\n",
       "      <th></th>\n",
       "      <th>VendorID</th>\n",
       "      <th>lpep_pickup_datetime</th>\n",
       "      <th>lpep_dropoff_datetime</th>\n",
       "      <th>store_and_fwd_flag</th>\n",
       "      <th>RatecodeID</th>\n",
       "      <th>PULocationID</th>\n",
       "      <th>DOLocationID</th>\n",
       "      <th>passenger_count</th>\n",
       "      <th>trip_distance</th>\n",
       "      <th>fare_amount</th>\n",
       "      <th>extra</th>\n",
       "      <th>mta_tax</th>\n",
       "      <th>tip_amount</th>\n",
       "      <th>tolls_amount</th>\n",
       "      <th>ehail_fee</th>\n",
       "      <th>improvement_surcharge</th>\n",
       "      <th>total_amount</th>\n",
       "      <th>payment_type</th>\n",
       "      <th>trip_type</th>\n",
       "      <th>congestion_surcharge</th>\n",
       "    </tr>\n",
       "  </thead>\n",
       "  <tbody>\n",
       "    <tr>\n",
       "      <th>0</th>\n",
       "      <td>2</td>\n",
       "      <td>09/01/2021 12:00:11 AM</td>\n",
       "      <td>09/01/2021 12:01:39 AM</td>\n",
       "      <td>N</td>\n",
       "      <td>1.0</td>\n",
       "      <td>74</td>\n",
       "      <td>74</td>\n",
       "      <td>1.0</td>\n",
       "      <td>0.02</td>\n",
       "      <td>3.0</td>\n",
       "      <td>0.5</td>\n",
       "      <td>0.5</td>\n",
       "      <td>0.00</td>\n",
       "      <td>0.0</td>\n",
       "      <td>NaN</td>\n",
       "      <td>0.3</td>\n",
       "      <td>4.30</td>\n",
       "      <td>2.0</td>\n",
       "      <td>1.0</td>\n",
       "      <td>0.00</td>\n",
       "    </tr>\n",
       "    <tr>\n",
       "      <th>1</th>\n",
       "      <td>2</td>\n",
       "      <td>09/01/2021 12:00:26 AM</td>\n",
       "      <td>09/01/2021 12:09:38 AM</td>\n",
       "      <td>N</td>\n",
       "      <td>1.0</td>\n",
       "      <td>95</td>\n",
       "      <td>56</td>\n",
       "      <td>1.0</td>\n",
       "      <td>1.41</td>\n",
       "      <td>8.0</td>\n",
       "      <td>0.5</td>\n",
       "      <td>0.5</td>\n",
       "      <td>1.00</td>\n",
       "      <td>0.0</td>\n",
       "      <td>NaN</td>\n",
       "      <td>0.3</td>\n",
       "      <td>10.30</td>\n",
       "      <td>1.0</td>\n",
       "      <td>1.0</td>\n",
       "      <td>0.00</td>\n",
       "    </tr>\n",
       "    <tr>\n",
       "      <th>2</th>\n",
       "      <td>2</td>\n",
       "      <td>09/01/2021 12:01:27 AM</td>\n",
       "      <td>09/01/2021 12:23:14 AM</td>\n",
       "      <td>N</td>\n",
       "      <td>1.0</td>\n",
       "      <td>93</td>\n",
       "      <td>256</td>\n",
       "      <td>1.0</td>\n",
       "      <td>11.07</td>\n",
       "      <td>31.5</td>\n",
       "      <td>0.5</td>\n",
       "      <td>0.5</td>\n",
       "      <td>6.56</td>\n",
       "      <td>0.0</td>\n",
       "      <td>NaN</td>\n",
       "      <td>0.3</td>\n",
       "      <td>39.36</td>\n",
       "      <td>1.0</td>\n",
       "      <td>1.0</td>\n",
       "      <td>0.00</td>\n",
       "    </tr>\n",
       "    <tr>\n",
       "      <th>3</th>\n",
       "      <td>1</td>\n",
       "      <td>09/01/2021 12:01:31 AM</td>\n",
       "      <td>09/01/2021 12:15:14 AM</td>\n",
       "      <td>N</td>\n",
       "      <td>1.0</td>\n",
       "      <td>255</td>\n",
       "      <td>36</td>\n",
       "      <td>1.0</td>\n",
       "      <td>2.80</td>\n",
       "      <td>11.5</td>\n",
       "      <td>1.0</td>\n",
       "      <td>0.5</td>\n",
       "      <td>3.95</td>\n",
       "      <td>0.0</td>\n",
       "      <td>NaN</td>\n",
       "      <td>0.3</td>\n",
       "      <td>17.25</td>\n",
       "      <td>1.0</td>\n",
       "      <td>1.0</td>\n",
       "      <td>0.00</td>\n",
       "    </tr>\n",
       "    <tr>\n",
       "      <th>4</th>\n",
       "      <td>2</td>\n",
       "      <td>09/01/2021 12:02:08 AM</td>\n",
       "      <td>09/01/2021 12:24:51 AM</td>\n",
       "      <td>N</td>\n",
       "      <td>5.0</td>\n",
       "      <td>93</td>\n",
       "      <td>144</td>\n",
       "      <td>4.0</td>\n",
       "      <td>10.64</td>\n",
       "      <td>65.0</td>\n",
       "      <td>0.0</td>\n",
       "      <td>0.0</td>\n",
       "      <td>0.00</td>\n",
       "      <td>0.0</td>\n",
       "      <td>NaN</td>\n",
       "      <td>0.3</td>\n",
       "      <td>68.05</td>\n",
       "      <td>2.0</td>\n",
       "      <td>2.0</td>\n",
       "      <td>2.75</td>\n",
       "    </tr>\n",
       "  </tbody>\n",
       "</table>\n",
       "</div>"
      ],
      "text/plain": [
       "   VendorID    lpep_pickup_datetime   lpep_dropoff_datetime  \\\n",
       "0         2  09/01/2021 12:00:11 AM  09/01/2021 12:01:39 AM   \n",
       "1         2  09/01/2021 12:00:26 AM  09/01/2021 12:09:38 AM   \n",
       "2         2  09/01/2021 12:01:27 AM  09/01/2021 12:23:14 AM   \n",
       "3         1  09/01/2021 12:01:31 AM  09/01/2021 12:15:14 AM   \n",
       "4         2  09/01/2021 12:02:08 AM  09/01/2021 12:24:51 AM   \n",
       "\n",
       "  store_and_fwd_flag  RatecodeID  PULocationID  DOLocationID  passenger_count  \\\n",
       "0                  N         1.0            74            74              1.0   \n",
       "1                  N         1.0            95            56              1.0   \n",
       "2                  N         1.0            93           256              1.0   \n",
       "3                  N         1.0           255            36              1.0   \n",
       "4                  N         5.0            93           144              4.0   \n",
       "\n",
       "   trip_distance  fare_amount  extra  mta_tax  tip_amount  tolls_amount  \\\n",
       "0           0.02          3.0    0.5      0.5        0.00           0.0   \n",
       "1           1.41          8.0    0.5      0.5        1.00           0.0   \n",
       "2          11.07         31.5    0.5      0.5        6.56           0.0   \n",
       "3           2.80         11.5    1.0      0.5        3.95           0.0   \n",
       "4          10.64         65.0    0.0      0.0        0.00           0.0   \n",
       "\n",
       "   ehail_fee  improvement_surcharge  total_amount  payment_type  trip_type  \\\n",
       "0        NaN                    0.3          4.30           2.0        1.0   \n",
       "1        NaN                    0.3         10.30           1.0        1.0   \n",
       "2        NaN                    0.3         39.36           1.0        1.0   \n",
       "3        NaN                    0.3         17.25           1.0        1.0   \n",
       "4        NaN                    0.3         68.05           2.0        2.0   \n",
       "\n",
       "   congestion_surcharge  \n",
       "0                  0.00  \n",
       "1                  0.00  \n",
       "2                  0.00  \n",
       "3                  0.00  \n",
       "4                  2.75  "
      ]
     },
     "execution_count": 9,
     "metadata": {},
     "output_type": "execute_result"
    }
   ],
   "source": [
    "import pandas as pd\n",
    "import matplotlib.pyplot as plt\n",
    "\n",
    "taxi = pd.read_csv(\"../../data/Sept1_2021_Green_Taxi_Trip_Data.csv\")\n",
    "taxi.head()"
   ]
  },
  {
   "cell_type": "code",
   "execution_count": 2,
   "metadata": {
    "tags": []
   },
   "outputs": [],
   "source": [
    "means50 = []\n",
    "for i in range(10000):\n",
    "    sample = taxi.sample(50)\n",
    "    mean = sample[\"passenger_count\"].mean()\n",
    "    means50.append(mean)"
   ]
  },
  {
   "cell_type": "code",
   "execution_count": 5,
   "metadata": {
    "tags": []
   },
   "outputs": [],
   "source": [
    "means500 = []\n",
    "for i in range(10000):\n",
    "    sample = taxi.sample(500)\n",
    "    mean = sample[\"passenger_count\"].mean()\n",
    "    means500.append(mean)"
   ]
  },
  {
   "cell_type": "code",
   "execution_count": 7,
   "metadata": {
    "tags": []
   },
   "outputs": [],
   "source": [
    "means1000 = []\n",
    "for i in range(10000):\n",
    "    sample = taxi.sample(1000)\n",
    "    mean = sample[\"passenger_count\"].mean()\n",
    "    means1000.append(mean)"
   ]
  },
  {
   "cell_type": "code",
   "execution_count": 8,
   "metadata": {},
   "outputs": [
    {
     "data": {
      "text/plain": [
       "<matplotlib.legend.Legend at 0x11eaa8790>"
      ]
     },
     "execution_count": 8,
     "metadata": {},
     "output_type": "execute_result"
    },
    {
     "data": {
      "image/png": "[encoded data removed]",
      "text/plain": [
       "<Figure size 432x288 with 1 Axes>"
      ]
     },
     "metadata": {
      "needs_background": "light"
     },
     "output_type": "display_data"
    }
   ],
   "source": [
    "pd.Series(means50).hist(alpha = 0.5, density = True, bins = 20)\n",
    "pd.Series(means500).hist(alpha = 0.5, density = True, bins = 20)\n",
    "pd.Series(means1000).hist(alpha = 0.5, density = True, bins = 20)\n",
    "\n",
    "plt.title(\"Sample means for different sample sizes\")\n",
    "plt.legend([\"sample size 50\",\"sample size = 500\",\"sample size = 1000\"])"
   ]
  },
  {
   "cell_type": "markdown",
   "metadata": {},
   "source": [
    "1. How does the distribution of the sample means change as the sample size increases?\n",
    "\n",
    "Write your answers below."
   ]
  },
  {
   "cell_type": "markdown",
   "metadata": {},
   "source": [
    "1. The distribution is roughly normal for sample sizes 500 and 1000.  The distribution isnot centered, and instead shifted a little to the left for sample size 50.  As the sample size increases, the distribution becomes less spread out.  The centers of the distribuion are all just above 1.3."
   ]
  },
  {
   "cell_type": "markdown",
   "metadata": {},
   "source": [
    " "
   ]
  },
  {
   "cell_type": "markdown",
   "metadata": {},
   "source": [
    " "
   ]
  },
  {
   "cell_type": "markdown",
   "metadata": {},
   "source": [
    " "
   ]
  }
 ],
 "metadata": {
  "kernelspec": {
   "display_name": "Python 3 (ipykernel)",
   "language": "python",
   "name": "python3"
  },
  "language_info": {
   "codemirror_mode": {
    "name": "ipython",
    "version": 3
   },
   "file_extension": ".py",
   "mimetype": "text/x-python",
   "name": "python",
   "nbconvert_exporter": "python",
   "pygments_lexer": "ipython3",
   "version": "3.9.12"
  }
 },
 "nbformat": 4,
 "nbformat_minor": 4
}
