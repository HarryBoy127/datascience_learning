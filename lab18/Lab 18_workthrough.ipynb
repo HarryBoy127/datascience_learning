{
 "cells": [
  {
   "cell_type": "code",
   "execution_count": 1,
   "id": "0c39e04e",
   "metadata": {},
   "outputs": [],
   "source": [
    "import numpy as np\n",
    "import matplotlib.pyplot as plt\n",
    "import pandas as pd"
   ]
  },
  {
   "cell_type": "code",
   "execution_count": 5,
   "id": "e8dbd60d",
   "metadata": {},
   "outputs": [
    {
     "data": {
      "text/html": [
       "<div>\n",
       "<style scoped>\n",
       "    .dataframe tbody tr th:only-of-type {\n",
       "        vertical-align: middle;\n",
       "    }\n",
       "\n",
       "    .dataframe tbody tr th {\n",
       "        vertical-align: top;\n",
       "    }\n",
       "\n",
       "    .dataframe thead th {\n",
       "        text-align: right;\n",
       "    }\n",
       "</style>\n",
       "<table border=\"1\" class=\"dataframe\">\n",
       "  <thead>\n",
       "    <tr style=\"text-align: right;\">\n",
       "      <th></th>\n",
       "      <th>Calories</th>\n",
       "      <th>Fat (g)</th>\n",
       "      <th>Carb. (g)</th>\n",
       "      <th>Fiber (g)</th>\n",
       "      <th>Protein</th>\n",
       "      <th>Sodium</th>\n",
       "    </tr>\n",
       "  </thead>\n",
       "  <tbody>\n",
       "    <tr>\n",
       "      <th>Cool Lime Starbucks Refreshers™ Beverage</th>\n",
       "      <td>45.0</td>\n",
       "      <td>0.0</td>\n",
       "      <td>11.0</td>\n",
       "      <td>0.0</td>\n",
       "      <td>0.0</td>\n",
       "      <td>10.0</td>\n",
       "    </tr>\n",
       "    <tr>\n",
       "      <th>Ombré Pink Drink</th>\n",
       "      <td>NaN</td>\n",
       "      <td>NaN</td>\n",
       "      <td>NaN</td>\n",
       "      <td>NaN</td>\n",
       "      <td>NaN</td>\n",
       "      <td>NaN</td>\n",
       "    </tr>\n",
       "    <tr>\n",
       "      <th>Pink Drink</th>\n",
       "      <td>NaN</td>\n",
       "      <td>NaN</td>\n",
       "      <td>NaN</td>\n",
       "      <td>NaN</td>\n",
       "      <td>NaN</td>\n",
       "      <td>NaN</td>\n",
       "    </tr>\n",
       "    <tr>\n",
       "      <th>Strawberry Acai Starbucks Refreshers™ Beverage</th>\n",
       "      <td>80.0</td>\n",
       "      <td>0.0</td>\n",
       "      <td>18.0</td>\n",
       "      <td>1.0</td>\n",
       "      <td>0.0</td>\n",
       "      <td>10.0</td>\n",
       "    </tr>\n",
       "    <tr>\n",
       "      <th>Very Berry Hibiscus Starbucks Refreshers™ Beverage</th>\n",
       "      <td>60.0</td>\n",
       "      <td>0.0</td>\n",
       "      <td>14.0</td>\n",
       "      <td>1.0</td>\n",
       "      <td>0.0</td>\n",
       "      <td>10.0</td>\n",
       "    </tr>\n",
       "    <tr>\n",
       "      <th>...</th>\n",
       "      <td>...</td>\n",
       "      <td>...</td>\n",
       "      <td>...</td>\n",
       "      <td>...</td>\n",
       "      <td>...</td>\n",
       "      <td>...</td>\n",
       "    </tr>\n",
       "    <tr>\n",
       "      <th>Chocolate Smoothie</th>\n",
       "      <td>320.0</td>\n",
       "      <td>5.0</td>\n",
       "      <td>53.0</td>\n",
       "      <td>8.0</td>\n",
       "      <td>20.0</td>\n",
       "      <td>170.0</td>\n",
       "    </tr>\n",
       "    <tr>\n",
       "      <th>Strawberry Smoothie</th>\n",
       "      <td>300.0</td>\n",
       "      <td>2.0</td>\n",
       "      <td>60.0</td>\n",
       "      <td>7.0</td>\n",
       "      <td>16.0</td>\n",
       "      <td>130.0</td>\n",
       "    </tr>\n",
       "    <tr>\n",
       "      <th>Ginger Ale</th>\n",
       "      <td>NaN</td>\n",
       "      <td>NaN</td>\n",
       "      <td>NaN</td>\n",
       "      <td>NaN</td>\n",
       "      <td>NaN</td>\n",
       "      <td>NaN</td>\n",
       "    </tr>\n",
       "    <tr>\n",
       "      <th>Lemon Ale</th>\n",
       "      <td>NaN</td>\n",
       "      <td>NaN</td>\n",
       "      <td>NaN</td>\n",
       "      <td>NaN</td>\n",
       "      <td>NaN</td>\n",
       "      <td>NaN</td>\n",
       "    </tr>\n",
       "    <tr>\n",
       "      <th>Orange Cream Soda</th>\n",
       "      <td>NaN</td>\n",
       "      <td>NaN</td>\n",
       "      <td>NaN</td>\n",
       "      <td>NaN</td>\n",
       "      <td>NaN</td>\n",
       "      <td>NaN</td>\n",
       "    </tr>\n",
       "  </tbody>\n",
       "</table>\n",
       "<p>177 rows × 6 columns</p>\n",
       "</div>"
      ],
      "text/plain": [
       "                                                    Calories  Fat (g)  \\\n",
       "Cool Lime Starbucks Refreshers™ Beverage                45.0      0.0   \n",
       "Ombré Pink Drink                                         NaN      NaN   \n",
       "Pink Drink                                               NaN      NaN   \n",
       "Strawberry Acai Starbucks Refreshers™ Beverage          80.0      0.0   \n",
       "Very Berry Hibiscus Starbucks Refreshers™ Beverage      60.0      0.0   \n",
       "...                                                      ...      ...   \n",
       "Chocolate Smoothie                                     320.0      5.0   \n",
       "Strawberry Smoothie                                    300.0      2.0   \n",
       "Ginger Ale                                               NaN      NaN   \n",
       "Lemon Ale                                                NaN      NaN   \n",
       "Orange Cream Soda                                        NaN      NaN   \n",
       "\n",
       "                                                    Carb. (g)  Fiber (g)  \\\n",
       "Cool Lime Starbucks Refreshers™ Beverage                 11.0        0.0   \n",
       "Ombré Pink Drink                                          NaN        NaN   \n",
       "Pink Drink                                                NaN        NaN   \n",
       "Strawberry Acai Starbucks Refreshers™ Beverage           18.0        1.0   \n",
       "Very Berry Hibiscus Starbucks Refreshers™ Beverage       14.0        1.0   \n",
       "...                                                       ...        ...   \n",
       "Chocolate Smoothie                                       53.0        8.0   \n",
       "Strawberry Smoothie                                      60.0        7.0   \n",
       "Ginger Ale                                                NaN        NaN   \n",
       "Lemon Ale                                                 NaN        NaN   \n",
       "Orange Cream Soda                                         NaN        NaN   \n",
       "\n",
       "                                                    Protein  Sodium  \n",
       "Cool Lime Starbucks Refreshers™ Beverage                0.0    10.0  \n",
       "Ombré Pink Drink                                        NaN     NaN  \n",
       "Pink Drink                                              NaN     NaN  \n",
       "Strawberry Acai Starbucks Refreshers™ Beverage          0.0    10.0  \n",
       "Very Berry Hibiscus Starbucks Refreshers™ Beverage      0.0    10.0  \n",
       "...                                                     ...     ...  \n",
       "Chocolate Smoothie                                     20.0   170.0  \n",
       "Strawberry Smoothie                                    16.0   130.0  \n",
       "Ginger Ale                                              NaN     NaN  \n",
       "Lemon Ale                                               NaN     NaN  \n",
       "Orange Cream Soda                                       NaN     NaN  \n",
       "\n",
       "[177 rows x 6 columns]"
      ]
     },
     "execution_count": 5,
     "metadata": {},
     "output_type": "execute_result"
    }
   ],
   "source": [
    "drinks = pd.read_csv(\"starbucks-menu-nutrition-drinks.csv\",na_values = \"-\",index_col = 0)\n",
    "drinks"
   ]
  },
  {
   "cell_type": "code",
   "execution_count": 6,
   "id": "993d2f11",
   "metadata": {},
   "outputs": [
    {
     "data": {
      "text/html": [
       "<div>\n",
       "<style scoped>\n",
       "    .dataframe tbody tr th:only-of-type {\n",
       "        vertical-align: middle;\n",
       "    }\n",
       "\n",
       "    .dataframe tbody tr th {\n",
       "        vertical-align: top;\n",
       "    }\n",
       "\n",
       "    .dataframe thead th {\n",
       "        text-align: right;\n",
       "    }\n",
       "</style>\n",
       "<table border=\"1\" class=\"dataframe\">\n",
       "  <thead>\n",
       "    <tr style=\"text-align: right;\">\n",
       "      <th></th>\n",
       "      <th>Calories</th>\n",
       "      <th>Fat (g)</th>\n",
       "      <th>Carb. (g)</th>\n",
       "      <th>Fiber (g)</th>\n",
       "      <th>Protein</th>\n",
       "      <th>Sodium</th>\n",
       "    </tr>\n",
       "  </thead>\n",
       "  <tbody>\n",
       "    <tr>\n",
       "      <th>Cool Lime Starbucks Refreshers™ Beverage</th>\n",
       "      <td>45.0</td>\n",
       "      <td>0.0</td>\n",
       "      <td>11.0</td>\n",
       "      <td>0.0</td>\n",
       "      <td>0.0</td>\n",
       "      <td>10.0</td>\n",
       "    </tr>\n",
       "    <tr>\n",
       "      <th>Strawberry Acai Starbucks Refreshers™ Beverage</th>\n",
       "      <td>80.0</td>\n",
       "      <td>0.0</td>\n",
       "      <td>18.0</td>\n",
       "      <td>1.0</td>\n",
       "      <td>0.0</td>\n",
       "      <td>10.0</td>\n",
       "    </tr>\n",
       "    <tr>\n",
       "      <th>Very Berry Hibiscus Starbucks Refreshers™ Beverage</th>\n",
       "      <td>60.0</td>\n",
       "      <td>0.0</td>\n",
       "      <td>14.0</td>\n",
       "      <td>1.0</td>\n",
       "      <td>0.0</td>\n",
       "      <td>10.0</td>\n",
       "    </tr>\n",
       "    <tr>\n",
       "      <th>Evolution Fresh™ Organic Ginger Limeade</th>\n",
       "      <td>110.0</td>\n",
       "      <td>0.0</td>\n",
       "      <td>28.0</td>\n",
       "      <td>0.0</td>\n",
       "      <td>0.0</td>\n",
       "      <td>5.0</td>\n",
       "    </tr>\n",
       "    <tr>\n",
       "      <th>Iced Coffee</th>\n",
       "      <td>0.0</td>\n",
       "      <td>0.0</td>\n",
       "      <td>0.0</td>\n",
       "      <td>0.0</td>\n",
       "      <td>0.0</td>\n",
       "      <td>0.0</td>\n",
       "    </tr>\n",
       "    <tr>\n",
       "      <th>...</th>\n",
       "      <td>...</td>\n",
       "      <td>...</td>\n",
       "      <td>...</td>\n",
       "      <td>...</td>\n",
       "      <td>...</td>\n",
       "      <td>...</td>\n",
       "    </tr>\n",
       "    <tr>\n",
       "      <th>Mocha Light Frappuccino® Blended Coffee</th>\n",
       "      <td>140.0</td>\n",
       "      <td>0.5</td>\n",
       "      <td>28.0</td>\n",
       "      <td>1.0</td>\n",
       "      <td>4.0</td>\n",
       "      <td>180.0</td>\n",
       "    </tr>\n",
       "    <tr>\n",
       "      <th>Cinnamon Dolce Crème</th>\n",
       "      <td>200.0</td>\n",
       "      <td>6.0</td>\n",
       "      <td>28.0</td>\n",
       "      <td>0.0</td>\n",
       "      <td>10.0</td>\n",
       "      <td>135.0</td>\n",
       "    </tr>\n",
       "    <tr>\n",
       "      <th>Vanilla Crème</th>\n",
       "      <td>200.0</td>\n",
       "      <td>6.0</td>\n",
       "      <td>28.0</td>\n",
       "      <td>0.0</td>\n",
       "      <td>10.0</td>\n",
       "      <td>135.0</td>\n",
       "    </tr>\n",
       "    <tr>\n",
       "      <th>Chocolate Smoothie</th>\n",
       "      <td>320.0</td>\n",
       "      <td>5.0</td>\n",
       "      <td>53.0</td>\n",
       "      <td>8.0</td>\n",
       "      <td>20.0</td>\n",
       "      <td>170.0</td>\n",
       "    </tr>\n",
       "    <tr>\n",
       "      <th>Strawberry Smoothie</th>\n",
       "      <td>300.0</td>\n",
       "      <td>2.0</td>\n",
       "      <td>60.0</td>\n",
       "      <td>7.0</td>\n",
       "      <td>16.0</td>\n",
       "      <td>130.0</td>\n",
       "    </tr>\n",
       "  </tbody>\n",
       "</table>\n",
       "<p>92 rows × 6 columns</p>\n",
       "</div>"
      ],
      "text/plain": [
       "                                                    Calories  Fat (g)  \\\n",
       "Cool Lime Starbucks Refreshers™ Beverage                45.0      0.0   \n",
       "Strawberry Acai Starbucks Refreshers™ Beverage          80.0      0.0   \n",
       "Very Berry Hibiscus Starbucks Refreshers™ Beverage      60.0      0.0   \n",
       "Evolution Fresh™ Organic Ginger Limeade                110.0      0.0   \n",
       "Iced Coffee                                              0.0      0.0   \n",
       "...                                                      ...      ...   \n",
       "Mocha Light Frappuccino® Blended Coffee                140.0      0.5   \n",
       "Cinnamon Dolce Crème                                   200.0      6.0   \n",
       "Vanilla Crème                                          200.0      6.0   \n",
       "Chocolate Smoothie                                     320.0      5.0   \n",
       "Strawberry Smoothie                                    300.0      2.0   \n",
       "\n",
       "                                                    Carb. (g)  Fiber (g)  \\\n",
       "Cool Lime Starbucks Refreshers™ Beverage                 11.0        0.0   \n",
       "Strawberry Acai Starbucks Refreshers™ Beverage           18.0        1.0   \n",
       "Very Berry Hibiscus Starbucks Refreshers™ Beverage       14.0        1.0   \n",
       "Evolution Fresh™ Organic Ginger Limeade                  28.0        0.0   \n",
       "Iced Coffee                                               0.0        0.0   \n",
       "...                                                       ...        ...   \n",
       "Mocha Light Frappuccino® Blended Coffee                  28.0        1.0   \n",
       "Cinnamon Dolce Crème                                     28.0        0.0   \n",
       "Vanilla Crème                                            28.0        0.0   \n",
       "Chocolate Smoothie                                       53.0        8.0   \n",
       "Strawberry Smoothie                                      60.0        7.0   \n",
       "\n",
       "                                                    Protein  Sodium  \n",
       "Cool Lime Starbucks Refreshers™ Beverage                0.0    10.0  \n",
       "Strawberry Acai Starbucks Refreshers™ Beverage          0.0    10.0  \n",
       "Very Berry Hibiscus Starbucks Refreshers™ Beverage      0.0    10.0  \n",
       "Evolution Fresh™ Organic Ginger Limeade                 0.0     5.0  \n",
       "Iced Coffee                                             0.0     0.0  \n",
       "...                                                     ...     ...  \n",
       "Mocha Light Frappuccino® Blended Coffee                 4.0   180.0  \n",
       "Cinnamon Dolce Crème                                   10.0   135.0  \n",
       "Vanilla Crème                                          10.0   135.0  \n",
       "Chocolate Smoothie                                     20.0   170.0  \n",
       "Strawberry Smoothie                                    16.0   130.0  \n",
       "\n",
       "[92 rows x 6 columns]"
      ]
     },
     "execution_count": 6,
     "metadata": {},
     "output_type": "execute_result"
    }
   ],
   "source": [
    "drinks.dropna(axis = 0)"
   ]
  },
  {
   "cell_type": "code",
   "execution_count": 11,
   "id": "4cf11a00",
   "metadata": {},
   "outputs": [
    {
     "data": {
      "text/plain": [
       "<Axes: >"
      ]
     },
     "execution_count": 11,
     "metadata": {},
     "output_type": "execute_result"
    },
    {
     "data": {
      "image/png": "[encoded data removed]",
      "text/plain": [
       "<Figure size 640x480 with 1 Axes>"
      ]
     },
     "metadata": {},
     "output_type": "display_data"
    }
   ],
   "source": [
    "drinks[\"Calories\"].hist()"
   ]
  },
  {
   "cell_type": "code",
   "execution_count": 33,
   "id": "888cf58c",
   "metadata": {},
   "outputs": [
    {
     "data": {
      "text/plain": [
       "<Axes: >"
      ]
     },
     "execution_count": 33,
     "metadata": {},
     "output_type": "execute_result"
    },
    {
     "data": {
      "image/png": "[encoded data removed]",
      "text/plain": [
       "<Figure size 640x480 with 1 Axes>"
      ]
     },
     "metadata": {},
     "output_type": "display_data"
    }
   ],
   "source": [
    "mean30_list = []\n",
    "for i in range(10000):\n",
    "    sample = drinks.sample(30)\n",
    "    mean30 = sample[\"Calories\"].mean()\n",
    "    mean30_list.append(mean30)\n",
    "pd.Series(mean30_list).hist()"
   ]
  },
  {
   "cell_type": "code",
   "execution_count": 36,
   "id": "c6ff275d",
   "metadata": {},
   "outputs": [
    {
     "data": {
      "text/plain": [
       "<Axes: >"
      ]
     },
     "execution_count": 36,
     "metadata": {},
     "output_type": "execute_result"
    },
    {
     "data": {
      "image/png": "[encoded data removed]",
      "text/plain": [
       "<Figure size 640x480 with 1 Axes>"
      ]
     },
     "metadata": {},
     "output_type": "display_data"
    }
   ],
   "source": [
    "mean50_list = []\n",
    "for i in range(10000):\n",
    "    sample = drinks.sample(50)\n",
    "    mean50 = sample[\"Calories\"].mean()\n",
    "    mean50_list.append(mean50)\n",
    "pd.Series(mean50_list).hist()"
   ]
  },
  {
   "cell_type": "code",
   "execution_count": 37,
   "id": "9ad152a0",
   "metadata": {},
   "outputs": [
    {
     "data": {
      "text/plain": [
       "135.16304347826087"
      ]
     },
     "execution_count": 37,
     "metadata": {},
     "output_type": "execute_result"
    }
   ],
   "source": [
    "drinks[\"Calories\"].mean()"
   ]
  },
  {
   "cell_type": "code",
   "execution_count": 38,
   "id": "b178af80",
   "metadata": {},
   "outputs": [
    {
     "data": {
      "text/plain": [
       "135.19890231246697"
      ]
     },
     "execution_count": 38,
     "metadata": {},
     "output_type": "execute_result"
    }
   ],
   "source": [
    "pd.Series(mean30_list).mean()"
   ]
  },
  {
   "cell_type": "code",
   "execution_count": 39,
   "id": "1c4e6eb8",
   "metadata": {},
   "outputs": [
    {
     "data": {
      "text/plain": [
       "135.1517547070604"
      ]
     },
     "execution_count": 39,
     "metadata": {},
     "output_type": "execute_result"
    }
   ],
   "source": [
    "pd.Series(mean50_list).mean()"
   ]
  },
  {
   "cell_type": "code",
   "execution_count": 52,
   "id": "3eb19bc1",
   "metadata": {},
   "outputs": [
    {
     "data": {
      "text/plain": [
       "17.135236218795733"
      ]
     },
     "execution_count": 52,
     "metadata": {},
     "output_type": "execute_result"
    }
   ],
   "source": [
    "drinks[\"Calories\"].std()/np.sqrt(30)"
   ]
  },
  {
   "cell_type": "code",
   "execution_count": 41,
   "id": "92f17879",
   "metadata": {},
   "outputs": [
    {
     "data": {
      "text/plain": [
       "<Axes: >"
      ]
     },
     "execution_count": 41,
     "metadata": {},
     "output_type": "execute_result"
    },
    {
     "data": {
      "image/png": "[encoded data removed]",
      "text/plain": [
       "<Figure size 640x480 with 1 Axes>"
      ]
     },
     "metadata": {},
     "output_type": "display_data"
    }
   ],
   "source": [
    "drinks[\"Protein\"].hist()"
   ]
  },
  {
   "cell_type": "code",
   "execution_count": 45,
   "id": "92aa54f9",
   "metadata": {},
   "outputs": [
    {
     "data": {
      "text/plain": [
       "<Axes: >"
      ]
     },
     "execution_count": 45,
     "metadata": {},
     "output_type": "execute_result"
    },
    {
     "data": {
      "image/png": "[encoded data removed]",
      "text/plain": [
       "<Figure size 640x480 with 1 Axes>"
      ]
     },
     "metadata": {},
     "output_type": "display_data"
    }
   ],
   "source": [
    "mean_list = []\n",
    "for i in range(10000):\n",
    "    sample = drinks.sample(1000, replace = True)\n",
    "    mean = sample[\"Protein\"].mean()\n",
    "    mean_list.append(mean)\n",
    "pd.Series(mean_list).hist()"
   ]
  },
  {
   "cell_type": "code",
   "execution_count": 47,
   "id": "ff1d20e1",
   "metadata": {},
   "outputs": [
    {
     "data": {
      "text/plain": [
       "4.1521739130434785"
      ]
     },
     "execution_count": 47,
     "metadata": {},
     "output_type": "execute_result"
    }
   ],
   "source": [
    "drinks[\"Protein\"].mean()"
   ]
  },
  {
   "cell_type": "code",
   "execution_count": 54,
   "id": "c8021ecb",
   "metadata": {},
   "outputs": [
    {
     "data": {
      "text/plain": [
       "4.148621688605261"
      ]
     },
     "execution_count": 54,
     "metadata": {},
     "output_type": "execute_result"
    }
   ],
   "source": [
    "pd.Series(mean_list).mean()"
   ]
  },
  {
   "cell_type": "code",
   "execution_count": 56,
   "id": "b284001f",
   "metadata": {},
   "outputs": [
    {
     "data": {
      "text/plain": [
       "0.056915877438852645"
      ]
     },
     "execution_count": 56,
     "metadata": {},
     "output_type": "execute_result"
    }
   ],
   "source": [
    "drinks[\"Protein\"].std()/np.sqrt(10000)"
   ]
  },
  {
   "cell_type": "code",
   "execution_count": null,
   "id": "e0748f97",
   "metadata": {},
   "outputs": [],
   "source": []
  }
 ],
 "metadata": {
  "kernelspec": {
   "display_name": "Python 3 (ipykernel)",
   "language": "python",
   "name": "python3"
  },
  "language_info": {
   "codemirror_mode": {
    "name": "ipython",
    "version": 3
   },
   "file_extension": ".py",
   "mimetype": "text/x-python",
   "name": "python",
   "nbconvert_exporter": "python",
   "pygments_lexer": "ipython3",
   "version": "3.11.5"
  }
 },
 "nbformat": 4,
 "nbformat_minor": 5
}
