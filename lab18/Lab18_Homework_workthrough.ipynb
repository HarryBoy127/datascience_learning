{
 "cells": [
  {
   "cell_type": "markdown",
   "id": "e277452a",
   "metadata": {},
   "source": [
    "This assignment uses your green taxi trip data set from previous labs.\n",
    "\n",
    "Use sample sizes 50, 500, and 1000. For each sample size, take 10,0000 samples from green taxi trip data and compute the mean passenger count for each sample. For the three sample size, plot three histograms of the mean passenger count on the same graph.\n",
    "\n",
    "The y axis should be the density. Give your graph a title and a legend with the sample size used for each color. (See Lab 12 for how to add a legend to your histogram.)\n",
    "\n",
    "Compute the mean and standard deviation of the sample means from part (b)."
   ]
  },
  {
   "cell_type": "code",
   "execution_count": 4,
   "id": "f0ab5a7b",
   "metadata": {},
   "outputs": [],
   "source": [
    "import numpy as np\n",
    "import matplotlib.pyplot as plt\n",
    "import pandas as pd"
   ]
  },
  {
   "cell_type": "code",
   "execution_count": 6,
   "id": "0894d8df",
   "metadata": {},
   "outputs": [
    {
     "data": {
      "text/html": [
       "<div>\n",
       "<style scoped>\n",
       "    .dataframe tbody tr th:only-of-type {\n",
       "        vertical-align: middle;\n",
       "    }\n",
       "\n",
       "    .dataframe tbody tr th {\n",
       "        vertical-align: top;\n",
       "    }\n",
       "\n",
       "    .dataframe thead th {\n",
       "        text-align: right;\n",
       "    }\n",
       "</style>\n",
       "<table border=\"1\" class=\"dataframe\">\n",
       "  <thead>\n",
       "    <tr style=\"text-align: right;\">\n",
       "      <th></th>\n",
       "      <th>VendorID</th>\n",
       "      <th>lpep_pickup_datetime</th>\n",
       "      <th>lpep_dropoff_datetime</th>\n",
       "      <th>store_and_fwd_flag</th>\n",
       "      <th>RatecodeID</th>\n",
       "      <th>PULocationID</th>\n",
       "      <th>DOLocationID</th>\n",
       "      <th>passenger_count</th>\n",
       "      <th>trip_distance</th>\n",
       "      <th>fare_amount</th>\n",
       "      <th>extra</th>\n",
       "      <th>mta_tax</th>\n",
       "      <th>tip_amount</th>\n",
       "      <th>tolls_amount</th>\n",
       "      <th>ehail_fee</th>\n",
       "      <th>improvement_surcharge</th>\n",
       "      <th>total_amount</th>\n",
       "      <th>payment_type</th>\n",
       "      <th>trip_type</th>\n",
       "      <th>congestion_surcharge</th>\n",
       "    </tr>\n",
       "  </thead>\n",
       "  <tbody>\n",
       "    <tr>\n",
       "      <th>0</th>\n",
       "      <td>2</td>\n",
       "      <td>09/01/2021 12:00:11 AM</td>\n",
       "      <td>09/01/2021 12:01:39 AM</td>\n",
       "      <td>N</td>\n",
       "      <td>1.0</td>\n",
       "      <td>74</td>\n",
       "      <td>74</td>\n",
       "      <td>1.0</td>\n",
       "      <td>0.02</td>\n",
       "      <td>3.0</td>\n",
       "      <td>0.5</td>\n",
       "      <td>0.5</td>\n",
       "      <td>0.00</td>\n",
       "      <td>0.0</td>\n",
       "      <td>NaN</td>\n",
       "      <td>0.3</td>\n",
       "      <td>4.30</td>\n",
       "      <td>2.0</td>\n",
       "      <td>1.0</td>\n",
       "      <td>0.00</td>\n",
       "    </tr>\n",
       "    <tr>\n",
       "      <th>1</th>\n",
       "      <td>2</td>\n",
       "      <td>09/01/2021 12:00:26 AM</td>\n",
       "      <td>09/01/2021 12:09:38 AM</td>\n",
       "      <td>N</td>\n",
       "      <td>1.0</td>\n",
       "      <td>95</td>\n",
       "      <td>56</td>\n",
       "      <td>1.0</td>\n",
       "      <td>1.41</td>\n",
       "      <td>8.0</td>\n",
       "      <td>0.5</td>\n",
       "      <td>0.5</td>\n",
       "      <td>1.00</td>\n",
       "      <td>0.0</td>\n",
       "      <td>NaN</td>\n",
       "      <td>0.3</td>\n",
       "      <td>10.30</td>\n",
       "      <td>1.0</td>\n",
       "      <td>1.0</td>\n",
       "      <td>0.00</td>\n",
       "    </tr>\n",
       "    <tr>\n",
       "      <th>2</th>\n",
       "      <td>2</td>\n",
       "      <td>09/01/2021 12:01:27 AM</td>\n",
       "      <td>09/01/2021 12:23:14 AM</td>\n",
       "      <td>N</td>\n",
       "      <td>1.0</td>\n",
       "      <td>93</td>\n",
       "      <td>256</td>\n",
       "      <td>1.0</td>\n",
       "      <td>11.07</td>\n",
       "      <td>31.5</td>\n",
       "      <td>0.5</td>\n",
       "      <td>0.5</td>\n",
       "      <td>6.56</td>\n",
       "      <td>0.0</td>\n",
       "      <td>NaN</td>\n",
       "      <td>0.3</td>\n",
       "      <td>39.36</td>\n",
       "      <td>1.0</td>\n",
       "      <td>1.0</td>\n",
       "      <td>0.00</td>\n",
       "    </tr>\n",
       "    <tr>\n",
       "      <th>3</th>\n",
       "      <td>1</td>\n",
       "      <td>09/01/2021 12:01:31 AM</td>\n",
       "      <td>09/01/2021 12:15:14 AM</td>\n",
       "      <td>N</td>\n",
       "      <td>1.0</td>\n",
       "      <td>255</td>\n",
       "      <td>36</td>\n",
       "      <td>1.0</td>\n",
       "      <td>2.80</td>\n",
       "      <td>11.5</td>\n",
       "      <td>1.0</td>\n",
       "      <td>0.5</td>\n",
       "      <td>3.95</td>\n",
       "      <td>0.0</td>\n",
       "      <td>NaN</td>\n",
       "      <td>0.3</td>\n",
       "      <td>17.25</td>\n",
       "      <td>1.0</td>\n",
       "      <td>1.0</td>\n",
       "      <td>0.00</td>\n",
       "    </tr>\n",
       "    <tr>\n",
       "      <th>4</th>\n",
       "      <td>2</td>\n",
       "      <td>09/01/2021 12:02:08 AM</td>\n",
       "      <td>09/01/2021 12:24:51 AM</td>\n",
       "      <td>N</td>\n",
       "      <td>5.0</td>\n",
       "      <td>93</td>\n",
       "      <td>144</td>\n",
       "      <td>4.0</td>\n",
       "      <td>10.64</td>\n",
       "      <td>65.0</td>\n",
       "      <td>0.0</td>\n",
       "      <td>0.0</td>\n",
       "      <td>0.00</td>\n",
       "      <td>0.0</td>\n",
       "      <td>NaN</td>\n",
       "      <td>0.3</td>\n",
       "      <td>68.05</td>\n",
       "      <td>2.0</td>\n",
       "      <td>2.0</td>\n",
       "      <td>2.75</td>\n",
       "    </tr>\n",
       "  </tbody>\n",
       "</table>\n",
       "</div>"
      ],
      "text/plain": [
       "   VendorID    lpep_pickup_datetime   lpep_dropoff_datetime  \\\n",
       "0         2  09/01/2021 12:00:11 AM  09/01/2021 12:01:39 AM   \n",
       "1         2  09/01/2021 12:00:26 AM  09/01/2021 12:09:38 AM   \n",
       "2         2  09/01/2021 12:01:27 AM  09/01/2021 12:23:14 AM   \n",
       "3         1  09/01/2021 12:01:31 AM  09/01/2021 12:15:14 AM   \n",
       "4         2  09/01/2021 12:02:08 AM  09/01/2021 12:24:51 AM   \n",
       "\n",
       "  store_and_fwd_flag  RatecodeID  PULocationID  DOLocationID  passenger_count  \\\n",
       "0                  N         1.0            74            74              1.0   \n",
       "1                  N         1.0            95            56              1.0   \n",
       "2                  N         1.0            93           256              1.0   \n",
       "3                  N         1.0           255            36              1.0   \n",
       "4                  N         5.0            93           144              4.0   \n",
       "\n",
       "   trip_distance  fare_amount  extra  mta_tax  tip_amount  tolls_amount  \\\n",
       "0           0.02          3.0    0.5      0.5        0.00           0.0   \n",
       "1           1.41          8.0    0.5      0.5        1.00           0.0   \n",
       "2          11.07         31.5    0.5      0.5        6.56           0.0   \n",
       "3           2.80         11.5    1.0      0.5        3.95           0.0   \n",
       "4          10.64         65.0    0.0      0.0        0.00           0.0   \n",
       "\n",
       "   ehail_fee  improvement_surcharge  total_amount  payment_type  trip_type  \\\n",
       "0        NaN                    0.3          4.30           2.0        1.0   \n",
       "1        NaN                    0.3         10.30           1.0        1.0   \n",
       "2        NaN                    0.3         39.36           1.0        1.0   \n",
       "3        NaN                    0.3         17.25           1.0        1.0   \n",
       "4        NaN                    0.3         68.05           2.0        2.0   \n",
       "\n",
       "   congestion_surcharge  \n",
       "0                  0.00  \n",
       "1                  0.00  \n",
       "2                  0.00  \n",
       "3                  0.00  \n",
       "4                  2.75  "
      ]
     },
     "execution_count": 6,
     "metadata": {},
     "output_type": "execute_result"
    }
   ],
   "source": [
    "taxi = pd.read_csv(\"2021_Green_Taxi_Trip_Data.csv\")\n",
    "taxi.head()"
   ]
  },
  {
   "cell_type": "code",
   "execution_count": 9,
   "id": "063f63e2",
   "metadata": {},
   "outputs": [
    {
     "data": {
      "text/plain": [
       "<Axes: >"
      ]
     },
     "execution_count": 9,
     "metadata": {},
     "output_type": "execute_result"
    },
    {
     "data": {
      "image/png": "[encoded data removed]",
      "text/plain": [
       "<Figure size 640x480 with 1 Axes>"
      ]
     },
     "metadata": {},
     "output_type": "display_data"
    }
   ],
   "source": [
    "taxi[\"passenger_count\"].hist()"
   ]
  },
  {
   "cell_type": "code",
   "execution_count": 24,
   "id": "943e59ba",
   "metadata": {},
   "outputs": [
    {
     "data": {
      "text/plain": [
       "<Axes: >"
      ]
     },
     "execution_count": 24,
     "metadata": {},
     "output_type": "execute_result"
    },
    {
     "data": {
      "image/png": "[encoded data removed]",
      "text/plain": [
       "<Figure size 640x480 with 1 Axes>"
      ]
     },
     "metadata": {},
     "output_type": "display_data"
    }
   ],
   "source": [
    "mean50_list = []\n",
    "for i in range(10000):\n",
    "    sample = taxi.sample(50)\n",
    "    mean = sample[\"passenger_count\"].mean()\n",
    "    mean50_list.append(mean)\n",
    "pd.Series(mean50_list).hist()"
   ]
  },
  {
   "cell_type": "code",
   "execution_count": 26,
   "id": "d30f9ecd",
   "metadata": {},
   "outputs": [
    {
     "data": {
      "text/plain": [
       "<Axes: >"
      ]
     },
     "execution_count": 26,
     "metadata": {},
     "output_type": "execute_result"
    },
    {
     "data": {
      "image/png": "[encoded data removed]",
      "text/plain": [
       "<Figure size 640x480 with 1 Axes>"
      ]
     },
     "metadata": {},
     "output_type": "display_data"
    }
   ],
   "source": [
    "mean500_list = []\n",
    "for i in range(10000):\n",
    "    sample = taxi.sample(500)\n",
    "    mean = sample[\"passenger_count\"].mean()\n",
    "    mean500_list.append(mean)\n",
    "pd.Series(mean500_list).hist()  "
   ]
  },
  {
   "cell_type": "code",
   "execution_count": 27,
   "id": "28528cc1",
   "metadata": {},
   "outputs": [
    {
     "data": {
      "text/plain": [
       "<Axes: >"
      ]
     },
     "execution_count": 27,
     "metadata": {},
     "output_type": "execute_result"
    },
    {
     "data": {
      "image/png": "[encoded data removed]",
      "text/plain": [
       "<Figure size 640x480 with 1 Axes>"
      ]
     },
     "metadata": {},
     "output_type": "display_data"
    }
   ],
   "source": [
    "mean1000_list = []\n",
    "for i in range(10000):\n",
    "    sample = taxi.sample(500)\n",
    "    mean = sample[\"passenger_count\"].mean()\n",
    "    mean1000_list.append(mean)\n",
    "pd.Series(mean1000_list).hist()  "
   ]
  },
  {
   "cell_type": "code",
   "execution_count": 29,
   "id": "a9f37ad9",
   "metadata": {},
   "outputs": [
    {
     "data": {
      "text/plain": [
       "1.2976470588235294"
      ]
     },
     "execution_count": 29,
     "metadata": {},
     "output_type": "execute_result"
    }
   ],
   "source": [
    "taxi[\"passenger_count\"].mean()"
   ]
  },
  {
   "cell_type": "code",
   "execution_count": 30,
   "id": "5f825618",
   "metadata": {},
   "outputs": [
    {
     "data": {
      "text/plain": [
       "1.2980613541521118"
      ]
     },
     "execution_count": 30,
     "metadata": {},
     "output_type": "execute_result"
    }
   ],
   "source": [
    "pd.Series(mean50_list).mean()"
   ]
  },
  {
   "cell_type": "code",
   "execution_count": 31,
   "id": "b71172ea",
   "metadata": {},
   "outputs": [
    {
     "data": {
      "text/plain": [
       "1.296923493715892"
      ]
     },
     "execution_count": 31,
     "metadata": {},
     "output_type": "execute_result"
    }
   ],
   "source": [
    "pd.Series(mean500_list).mean()"
   ]
  },
  {
   "cell_type": "code",
   "execution_count": 32,
   "id": "e0af3682",
   "metadata": {},
   "outputs": [
    {
     "data": {
      "text/plain": [
       "1.2970230271026353"
      ]
     },
     "execution_count": 32,
     "metadata": {},
     "output_type": "execute_result"
    }
   ],
   "source": [
    "pd.Series(mean1000_list).mean()"
   ]
  },
  {
   "cell_type": "code",
   "execution_count": 35,
   "id": "c430fb32",
   "metadata": {},
   "outputs": [
    {
     "data": {
      "text/plain": [
       "0.13285432543267836"
      ]
     },
     "execution_count": 35,
     "metadata": {},
     "output_type": "execute_result"
    }
   ],
   "source": [
    "taxi[\"passenger_count\"].std()/np.sqrt(50)"
   ]
  },
  {
   "cell_type": "code",
   "execution_count": 36,
   "id": "fc0c5691",
   "metadata": {},
   "outputs": [
    {
     "data": {
      "text/plain": [
       "0.04201222653724985"
      ]
     },
     "execution_count": 36,
     "metadata": {},
     "output_type": "execute_result"
    }
   ],
   "source": [
    "taxi[\"passenger_count\"].std()/np.sqrt(500)"
   ]
  },
  {
   "cell_type": "code",
   "execution_count": 37,
   "id": "ad501ecd",
   "metadata": {},
   "outputs": [
    {
     "data": {
      "text/plain": [
       "0.0297071302772348"
      ]
     },
     "execution_count": 37,
     "metadata": {},
     "output_type": "execute_result"
    }
   ],
   "source": [
    "taxi[\"passenger_count\"].std()/np.sqrt(1000)"
   ]
  },
  {
   "cell_type": "code",
   "execution_count": 42,
   "id": "68c25969",
   "metadata": {},
   "outputs": [
    {
     "data": {
      "image/png": "[encoded data removed]",
      "text/plain": [
       "<Figure size 640x480 with 1 Axes>"
      ]
     },
     "metadata": {},
     "output_type": "display_data"
    }
   ],
   "source": [
    "pd.Series(mean50_list).hist(bins= 30, alpha = 0.5, density = True)\n",
    "pd.Series(mean500_list).hist(bins= 30, alpha = 0.5, density = True)\n",
    "pd.Series(mean1000_list).hist(bins= 30, alpha = 0.5, density = True)\n",
    "plt.xlabel(\"value\")\n",
    "plt.ylabel(\"density\")\n",
    "plt.show()"
   ]
  },
  {
   "cell_type": "code",
   "execution_count": null,
   "id": "dfdabb92",
   "metadata": {},
   "outputs": [],
   "source": []
  }
 ],
 "metadata": {
  "kernelspec": {
   "display_name": "Python 3 (ipykernel)",
   "language": "python",
   "name": "python3"
  },
  "language_info": {
   "codemirror_mode": {
    "name": "ipython",
    "version": 3
   },
   "file_extension": ".py",
   "mimetype": "text/x-python",
   "name": "python",
   "nbconvert_exporter": "python",
   "pygments_lexer": "ipython3",
   "version": "3.11.5"
  }
 },
 "nbformat": 4,
 "nbformat_minor": 5
}
