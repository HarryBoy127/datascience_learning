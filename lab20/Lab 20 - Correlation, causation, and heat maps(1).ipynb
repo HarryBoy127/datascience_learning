{
 "cells": [
  {
   "cell_type": "markdown",
   "metadata": {},
   "source": [
    "# Lab 20 - Correlation, causation, and heat maps\n",
    "\n",
    "The Federal Reserve Bank of New York has information about the labor market for recent college graduates [here](https://www.newyorkfed.org/research/college-labor-market#--:explore:outcomes-by-major).\n",
    "\n",
    "The data used to be downloadable as an Excel file, but is not anymore.  We will use data from Feb. 2021 which is posted as a CSV file on Blackboard.\n",
    "\n",
    "### 20.1 Loading and cleaning the data\n",
    "\n",
    "We will be using a new data visualization library called [Seaborn](https://seaborn.pydata.org/#).  Import Seaborn and the other libraries so we can use them in our code."
   ]
  },
  {
   "cell_type": "code",
   "execution_count": 20,
   "metadata": {
    "tags": []
   },
   "outputs": [],
   "source": [
    "import numpy as np\n",
    "import matplotlib.pyplot as plt\n",
    "import pandas as pd\n",
    "import seaborn as sns"
   ]
  },
  {
   "cell_type": "markdown",
   "metadata": {},
   "source": [
    "Before creating the dataframe, look at the CSV file.  Do you notice anything that you will have to account for when reading in the data?  \n",
    "\n",
    "To skip rows at the end of the CSV file, use the `skipfooter` parameter.  For example, to skip the last 5 rows of the CSV file, add the parameter `skipfooter = 5` to the `read_csv()` function.  Ignore any warnings that appear.\n",
    "\n",
    "Load the labor market CSV file into a dataframe called `labor`:"
   ]
  },
  {
   "cell_type": "code",
   "execution_count": 21,
   "metadata": {
    "tags": []
   },
   "outputs": [
    {
     "name": "stderr",
     "output_type": "stream",
     "text": [
      "/var/folders/hh/nxh3r3vn2jx97bs11v7tsmd40000gn/T/ipykernel_8808/1099751398.py:1: ParserWarning: Falling back to the 'python' engine because the 'c' engine does not support skipfooter; you can avoid this warning by specifying engine='python'.\n",
      "  labor = pd.read_csv(\"labor-market-Feb2021.csv\",skiprows = 13, skipfooter = 3)\n"
     ]
    }
   ],
   "source": [
    "labor = pd.read_csv(\"labor-market-Feb2021.csv\",skiprows = 13, skipfooter = 3)"
   ]
  },
  {
   "cell_type": "markdown",
   "metadata": {},
   "source": [
    "<details> <summary>Hint:</summary>\n",
    "Add both the parameters `skipfooter = 3` and `skiprows = 13` to `read_csv()`.\n",
    "</details>\n",
    "\n",
    "Display your `labor` dataframe below to check it."
   ]
  },
  {
   "cell_type": "code",
   "execution_count": 22,
   "metadata": {
    "jupyter": {
     "outputs_hidden": true
    }
   },
   "outputs": [
    {
     "data": {
      "text/html": [
       "<div>\n",
       "<style scoped>\n",
       "    .dataframe tbody tr th:only-of-type {\n",
       "        vertical-align: middle;\n",
       "    }\n",
       "\n",
       "    .dataframe tbody tr th {\n",
       "        vertical-align: top;\n",
       "    }\n",
       "\n",
       "    .dataframe thead th {\n",
       "        text-align: right;\n",
       "    }\n",
       "</style>\n",
       "<table border=\"1\" class=\"dataframe\">\n",
       "  <thead>\n",
       "    <tr style=\"text-align: right;\">\n",
       "      <th></th>\n",
       "      <th>Major</th>\n",
       "      <th>Unemployment Rate</th>\n",
       "      <th>Underemployment Rate</th>\n",
       "      <th>Median Wage Early Career</th>\n",
       "      <th>Median Wage Mid-Career</th>\n",
       "      <th>Share with Graduate Degree</th>\n",
       "    </tr>\n",
       "  </thead>\n",
       "  <tbody>\n",
       "    <tr>\n",
       "      <th>0</th>\n",
       "      <td>Agriculture</td>\n",
       "      <td>3.0</td>\n",
       "      <td>60.3</td>\n",
       "      <td>40,000</td>\n",
       "      <td>65,000</td>\n",
       "      <td>20.8</td>\n",
       "    </tr>\n",
       "    <tr>\n",
       "      <th>1</th>\n",
       "      <td>Animal and Plant Sciences</td>\n",
       "      <td>2.6</td>\n",
       "      <td>58.6</td>\n",
       "      <td>37,000</td>\n",
       "      <td>63,000</td>\n",
       "      <td>35.1</td>\n",
       "    </tr>\n",
       "    <tr>\n",
       "      <th>2</th>\n",
       "      <td>Environmental Studies</td>\n",
       "      <td>3.9</td>\n",
       "      <td>53.7</td>\n",
       "      <td>39,000</td>\n",
       "      <td>65,000</td>\n",
       "      <td>30.5</td>\n",
       "    </tr>\n",
       "    <tr>\n",
       "      <th>3</th>\n",
       "      <td>Architecture</td>\n",
       "      <td>2.2</td>\n",
       "      <td>27.9</td>\n",
       "      <td>50,000</td>\n",
       "      <td>76,000</td>\n",
       "      <td>41.0</td>\n",
       "    </tr>\n",
       "    <tr>\n",
       "      <th>4</th>\n",
       "      <td>Ethnic Studies</td>\n",
       "      <td>5.1</td>\n",
       "      <td>51.9</td>\n",
       "      <td>40,000</td>\n",
       "      <td>67,000</td>\n",
       "      <td>48.6</td>\n",
       "    </tr>\n",
       "    <tr>\n",
       "      <th>...</th>\n",
       "      <td>...</td>\n",
       "      <td>...</td>\n",
       "      <td>...</td>\n",
       "      <td>...</td>\n",
       "      <td>...</td>\n",
       "      <td>...</td>\n",
       "    </tr>\n",
       "    <tr>\n",
       "      <th>68</th>\n",
       "      <td>Finance</td>\n",
       "      <td>3.4</td>\n",
       "      <td>34.3</td>\n",
       "      <td>56,000</td>\n",
       "      <td>93,000</td>\n",
       "      <td>30.9</td>\n",
       "    </tr>\n",
       "    <tr>\n",
       "      <th>69</th>\n",
       "      <td>International Affairs</td>\n",
       "      <td>4.1</td>\n",
       "      <td>53.1</td>\n",
       "      <td>46,150</td>\n",
       "      <td>79,000</td>\n",
       "      <td>43.0</td>\n",
       "    </tr>\n",
       "    <tr>\n",
       "      <th>70</th>\n",
       "      <td>History</td>\n",
       "      <td>5.5</td>\n",
       "      <td>53.6</td>\n",
       "      <td>40,000</td>\n",
       "      <td>64,000</td>\n",
       "      <td>49.5</td>\n",
       "    </tr>\n",
       "    <tr>\n",
       "      <th>71</th>\n",
       "      <td>Engineering Technologies</td>\n",
       "      <td>3.1</td>\n",
       "      <td>45.7</td>\n",
       "      <td>50,000</td>\n",
       "      <td>85,000</td>\n",
       "      <td>24.9</td>\n",
       "    </tr>\n",
       "    <tr>\n",
       "      <th>72</th>\n",
       "      <td>Miscellaneous Technologies</td>\n",
       "      <td>3.2</td>\n",
       "      <td>52.2</td>\n",
       "      <td>45,000</td>\n",
       "      <td>80,000</td>\n",
       "      <td>19.0</td>\n",
       "    </tr>\n",
       "  </tbody>\n",
       "</table>\n",
       "<p>73 rows × 6 columns</p>\n",
       "</div>"
      ],
      "text/plain": [
       "                         Major  Unemployment Rate  Underemployment Rate  \\\n",
       "0                  Agriculture                3.0                  60.3   \n",
       "1    Animal and Plant Sciences                2.6                  58.6   \n",
       "2        Environmental Studies                3.9                  53.7   \n",
       "3                 Architecture                2.2                  27.9   \n",
       "4               Ethnic Studies                5.1                  51.9   \n",
       "..                         ...                ...                   ...   \n",
       "68                     Finance                3.4                  34.3   \n",
       "69       International Affairs                4.1                  53.1   \n",
       "70                     History                5.5                  53.6   \n",
       "71    Engineering Technologies                3.1                  45.7   \n",
       "72  Miscellaneous Technologies                3.2                  52.2   \n",
       "\n",
       "   Median Wage Early Career Median Wage Mid-Career  Share with Graduate Degree  \n",
       "0                    40,000                 65,000                        20.8  \n",
       "1                    37,000                 63,000                        35.1  \n",
       "2                    39,000                 65,000                        30.5  \n",
       "3                    50,000                 76,000                        41.0  \n",
       "4                    40,000                 67,000                        48.6  \n",
       "..                      ...                    ...                         ...  \n",
       "68                   56,000                 93,000                        30.9  \n",
       "69                   46,150                 79,000                        43.0  \n",
       "70                   40,000                 64,000                        49.5  \n",
       "71                   50,000                 85,000                        24.9  \n",
       "72                   45,000                 80,000                        19.0  \n",
       "\n",
       "[73 rows x 6 columns]"
      ]
     },
     "execution_count": 22,
     "metadata": {},
     "output_type": "execute_result"
    }
   ],
   "source": [
    "labor"
   ]
  },
  {
   "cell_type": "markdown",
   "metadata": {},
   "source": [
    "We will want to use all the columns as numbers, but has `read_csv` interpreted them as numbers?  Type `labor.dtypes` below and run the code to see what *type* each column is.  `dtypes` is a property of the dataframe, not a function, so it doesn't have `()` at the end.  "
   ]
  },
  {
   "cell_type": "code",
   "execution_count": 23,
   "metadata": {
    "jupyter": {
     "outputs_hidden": true
    }
   },
   "outputs": [
    {
     "data": {
      "text/plain": [
       "Major                          object\n",
       "Unemployment Rate             float64\n",
       "Underemployment Rate          float64\n",
       "Median Wage Early Career       object\n",
       "Median Wage Mid-Career         object\n",
       "Share with Graduate Degree    float64\n",
       "dtype: object"
      ]
     },
     "execution_count": 23,
     "metadata": {},
     "output_type": "execute_result"
    }
   ],
   "source": [
    "labor.dtypes"
   ]
  },
  {
   "cell_type": "markdown",
   "metadata": {},
   "source": [
    "Decimal numbers are stored as `float64`, so the `Unemployment Rate`, `Underemployment Rate`, and `Share with Graduate Degree` have been read in as numbers.  The `Median Wage Early Career` and `Median Wage Mid-Career` columns have type `object` which probably means a string.  These columns were read in as strings because they contains commas.\n",
    "\n",
    "The following code will remove the commas and tell Pandas that these columns are `float`s as well."
   ]
  },
  {
   "cell_type": "code",
   "execution_count": 24,
   "metadata": {
    "jupyter": {
     "outputs_hidden": true
    }
   },
   "outputs": [],
   "source": [
    "labor[\"Median Wage Early Career\"] = labor[\"Median Wage Early Career\"].str.replace(\",\",\"\").astype(float)\n",
    "labor[\"Median Wage Mid-Career\"] = labor[\"Median Wage Mid-Career\"].str.replace(\",\",\"\").astype(float)"
   ]
  },
  {
   "cell_type": "markdown",
   "metadata": {},
   "source": [
    "Check that this code worked by displaying `labor` again:"
   ]
  },
  {
   "cell_type": "raw",
   "metadata": {},
   "source": [
    "labor"
   ]
  },
  {
   "cell_type": "markdown",
   "metadata": {},
   "source": [
    "Show the type for each column:"
   ]
  },
  {
   "cell_type": "code",
   "execution_count": 25,
   "metadata": {
    "jupyter": {
     "outputs_hidden": true
    }
   },
   "outputs": [
    {
     "data": {
      "text/plain": [
       "Major                          object\n",
       "Unemployment Rate             float64\n",
       "Underemployment Rate          float64\n",
       "Median Wage Early Career      float64\n",
       "Median Wage Mid-Career        float64\n",
       "Share with Graduate Degree    float64\n",
       "dtype: object"
      ]
     },
     "execution_count": 25,
     "metadata": {},
     "output_type": "execute_result"
    }
   ],
   "source": [
    "labor.dtypes"
   ]
  },
  {
   "cell_type": "markdown",
   "metadata": {},
   "source": [
    "### 20.2 Correlation matrix\n",
    "\n",
    "We can compute the correlation matrix with the code `labor.corr()`.  Try it below."
   ]
  },
  {
   "cell_type": "code",
   "execution_count": 26,
   "metadata": {
    "jupyter": {
     "outputs_hidden": true
    }
   },
   "outputs": [
    {
     "ename": "ValueError",
     "evalue": "could not convert string to float: 'Agriculture'",
     "output_type": "error",
     "traceback": [
      "\u001b[0;31m---------------------------------------------------------------------------\u001b[0m",
      "\u001b[0;31mValueError\u001b[0m                                Traceback (most recent call last)",
      "Cell \u001b[0;32mIn[26], line 1\u001b[0m\n\u001b[0;32m----> 1\u001b[0m labor\u001b[38;5;241m.\u001b[39mcorr()\n",
      "File \u001b[0;32m~/anaconda3/lib/python3.11/site-packages/pandas/core/frame.py:10054\u001b[0m, in \u001b[0;36mDataFrame.corr\u001b[0;34m(self, method, min_periods, numeric_only)\u001b[0m\n\u001b[1;32m  10052\u001b[0m cols \u001b[38;5;241m=\u001b[39m data\u001b[38;5;241m.\u001b[39mcolumns\n\u001b[1;32m  10053\u001b[0m idx \u001b[38;5;241m=\u001b[39m cols\u001b[38;5;241m.\u001b[39mcopy()\n\u001b[0;32m> 10054\u001b[0m mat \u001b[38;5;241m=\u001b[39m data\u001b[38;5;241m.\u001b[39mto_numpy(dtype\u001b[38;5;241m=\u001b[39m\u001b[38;5;28mfloat\u001b[39m, na_value\u001b[38;5;241m=\u001b[39mnp\u001b[38;5;241m.\u001b[39mnan, copy\u001b[38;5;241m=\u001b[39m\u001b[38;5;28;01mFalse\u001b[39;00m)\n\u001b[1;32m  10056\u001b[0m \u001b[38;5;28;01mif\u001b[39;00m method \u001b[38;5;241m==\u001b[39m \u001b[38;5;124m\"\u001b[39m\u001b[38;5;124mpearson\u001b[39m\u001b[38;5;124m\"\u001b[39m:\n\u001b[1;32m  10057\u001b[0m     correl \u001b[38;5;241m=\u001b[39m libalgos\u001b[38;5;241m.\u001b[39mnancorr(mat, minp\u001b[38;5;241m=\u001b[39mmin_periods)\n",
      "File \u001b[0;32m~/anaconda3/lib/python3.11/site-packages/pandas/core/frame.py:1838\u001b[0m, in \u001b[0;36mDataFrame.to_numpy\u001b[0;34m(self, dtype, copy, na_value)\u001b[0m\n\u001b[1;32m   1836\u001b[0m \u001b[38;5;28;01mif\u001b[39;00m dtype \u001b[38;5;129;01mis\u001b[39;00m \u001b[38;5;129;01mnot\u001b[39;00m \u001b[38;5;28;01mNone\u001b[39;00m:\n\u001b[1;32m   1837\u001b[0m     dtype \u001b[38;5;241m=\u001b[39m np\u001b[38;5;241m.\u001b[39mdtype(dtype)\n\u001b[0;32m-> 1838\u001b[0m result \u001b[38;5;241m=\u001b[39m \u001b[38;5;28mself\u001b[39m\u001b[38;5;241m.\u001b[39m_mgr\u001b[38;5;241m.\u001b[39mas_array(dtype\u001b[38;5;241m=\u001b[39mdtype, copy\u001b[38;5;241m=\u001b[39mcopy, na_value\u001b[38;5;241m=\u001b[39mna_value)\n\u001b[1;32m   1839\u001b[0m \u001b[38;5;28;01mif\u001b[39;00m result\u001b[38;5;241m.\u001b[39mdtype \u001b[38;5;129;01mis\u001b[39;00m \u001b[38;5;129;01mnot\u001b[39;00m dtype:\n\u001b[1;32m   1840\u001b[0m     result \u001b[38;5;241m=\u001b[39m np\u001b[38;5;241m.\u001b[39marray(result, dtype\u001b[38;5;241m=\u001b[39mdtype, copy\u001b[38;5;241m=\u001b[39m\u001b[38;5;28;01mFalse\u001b[39;00m)\n",
      "File \u001b[0;32m~/anaconda3/lib/python3.11/site-packages/pandas/core/internals/managers.py:1732\u001b[0m, in \u001b[0;36mBlockManager.as_array\u001b[0;34m(self, dtype, copy, na_value)\u001b[0m\n\u001b[1;32m   1730\u001b[0m         arr\u001b[38;5;241m.\u001b[39mflags\u001b[38;5;241m.\u001b[39mwriteable \u001b[38;5;241m=\u001b[39m \u001b[38;5;28;01mFalse\u001b[39;00m\n\u001b[1;32m   1731\u001b[0m \u001b[38;5;28;01melse\u001b[39;00m:\n\u001b[0;32m-> 1732\u001b[0m     arr \u001b[38;5;241m=\u001b[39m \u001b[38;5;28mself\u001b[39m\u001b[38;5;241m.\u001b[39m_interleave(dtype\u001b[38;5;241m=\u001b[39mdtype, na_value\u001b[38;5;241m=\u001b[39mna_value)\n\u001b[1;32m   1733\u001b[0m     \u001b[38;5;66;03m# The underlying data was copied within _interleave, so no need\u001b[39;00m\n\u001b[1;32m   1734\u001b[0m     \u001b[38;5;66;03m# to further copy if copy=True or setting na_value\u001b[39;00m\n\u001b[1;32m   1736\u001b[0m \u001b[38;5;28;01mif\u001b[39;00m na_value \u001b[38;5;129;01mis\u001b[39;00m \u001b[38;5;129;01mnot\u001b[39;00m lib\u001b[38;5;241m.\u001b[39mno_default:\n",
      "File \u001b[0;32m~/anaconda3/lib/python3.11/site-packages/pandas/core/internals/managers.py:1794\u001b[0m, in \u001b[0;36mBlockManager._interleave\u001b[0;34m(self, dtype, na_value)\u001b[0m\n\u001b[1;32m   1792\u001b[0m     \u001b[38;5;28;01melse\u001b[39;00m:\n\u001b[1;32m   1793\u001b[0m         arr \u001b[38;5;241m=\u001b[39m blk\u001b[38;5;241m.\u001b[39mget_values(dtype)\n\u001b[0;32m-> 1794\u001b[0m     result[rl\u001b[38;5;241m.\u001b[39mindexer] \u001b[38;5;241m=\u001b[39m arr\n\u001b[1;32m   1795\u001b[0m     itemmask[rl\u001b[38;5;241m.\u001b[39mindexer] \u001b[38;5;241m=\u001b[39m \u001b[38;5;241m1\u001b[39m\n\u001b[1;32m   1797\u001b[0m \u001b[38;5;28;01mif\u001b[39;00m \u001b[38;5;129;01mnot\u001b[39;00m itemmask\u001b[38;5;241m.\u001b[39mall():\n",
      "\u001b[0;31mValueError\u001b[0m: could not convert string to float: 'Agriculture'"
     ]
    }
   ],
   "source": [
    "labor.corr()"
   ]
  },
  {
   "cell_type": "markdown",
   "metadata": {},
   "source": [
    "Which pair of columns are the most correlated?  Which pair of columns are the least correlated?\n",
    "\n",
    "### 20.3 Heat maps\n",
    "\n",
    "We can visualize the correlation matrix with a heat map.  To do this, we need to save the correlation matrix in a variable (say `corr_matrix`) and then run the code `sns.heatmap(corr_matrix)`.  Try it below."
   ]
  },
  {
   "cell_type": "code",
   "execution_count": 19,
   "metadata": {
    "jupyter": {
     "outputs_hidden": true
    }
   },
   "outputs": [
    {
     "ename": "NameError",
     "evalue": "name 'corr_matrix' is not defined",
     "output_type": "error",
     "traceback": [
      "\u001b[0;31m---------------------------------------------------------------------------\u001b[0m",
      "\u001b[0;31mNameError\u001b[0m                                 Traceback (most recent call last)",
      "Cell \u001b[0;32mIn[19], line 1\u001b[0m\n\u001b[0;32m----> 1\u001b[0m sns\u001b[38;5;241m.\u001b[39mheatmap(corr_matrix)\n",
      "\u001b[0;31mNameError\u001b[0m: name 'corr_matrix' is not defined"
     ]
    }
   ],
   "source": [
    "sns.heatmap(corr_matrix)"
   ]
  },
  {
   "cell_type": "markdown",
   "metadata": {},
   "source": [
    "Find the pairs of columns that you thought were most correlated and least correlated above.  Do the colors for these pairs make sense?\n",
    "\n",
    "Make a scatter plot of the two columns that are most correlated.  The code pattern for creating a scatter plot is `df.plot.scatter(x = \"column name 1\", y = \"column name 2\")`"
   ]
  },
  {
   "cell_type": "code",
   "execution_count": null,
   "metadata": {
    "tags": []
   },
   "outputs": [],
   "source": []
  },
  {
   "cell_type": "markdown",
   "metadata": {},
   "source": [
    "Does the relationship look linear (like a line)?\n",
    "\n",
    "Now make a scatter plot of the two columns that were least correlated."
   ]
  },
  {
   "cell_type": "code",
   "execution_count": null,
   "metadata": {
    "tags": []
   },
   "outputs": [],
   "source": []
  },
  {
   "cell_type": "markdown",
   "metadata": {},
   "source": [
    "Does this relationship look linear?\n",
    "\n",
    "We can plot all possible scatter plots at once with the Seaborn command `sns.pairplot(labor)`.  Try it below."
   ]
  },
  {
   "cell_type": "code",
   "execution_count": null,
   "metadata": {
    "tags": []
   },
   "outputs": [],
   "source": []
  },
  {
   "cell_type": "markdown",
   "metadata": {},
   "source": [
    "Can you spot the pairs of columns with negative correlation from the plots?  What plots are on the diagonal?\n",
    "\n",
    "## 20.4 Another heat map: Traffic counts\n",
    "\n",
    "To fully see the power of heat maps, we need a larger data set.  Download the dataset of traffic counts from Blackboard.\n",
    "\n",
    "This dataset contains counts of the number of vehicles to pass different sections of road at different times of the day.  It was originally downloaded from NYC Open Data, but is no longer available.\n",
    "\n",
    "Load the CSV file into a variable called `traffic`"
   ]
  },
  {
   "cell_type": "code",
   "execution_count": null,
   "metadata": {
    "tags": []
   },
   "outputs": [],
   "source": []
  },
  {
   "cell_type": "markdown",
   "metadata": {},
   "source": [
    "Display your new dataframe."
   ]
  },
  {
   "cell_type": "code",
   "execution_count": null,
   "metadata": {
    "tags": []
   },
   "outputs": [],
   "source": []
  },
  {
   "cell_type": "markdown",
   "metadata": {},
   "source": [
    "What are the columns?\n",
    "\n",
    "Compute the correlation matrix."
   ]
  },
  {
   "cell_type": "code",
   "execution_count": null,
   "metadata": {
    "collapsed": true,
    "jupyter": {
     "outputs_hidden": true
    }
   },
   "outputs": [],
   "source": []
  },
  {
   "cell_type": "markdown",
   "metadata": {},
   "source": [
    "<details> <summary>Answer:</summary>\n",
    "<code>\n",
    "traffic.corr()</code>\n",
    "</details>\n",
    "\n",
    "Our correlation matrix is fairly large, so it is hard to see patterns in it.  To visualize the correlation matrix, display it as a heatmap."
   ]
  },
  {
   "cell_type": "code",
   "execution_count": null,
   "metadata": {
    "collapsed": true,
    "jupyter": {
     "outputs_hidden": true
    }
   },
   "outputs": [],
   "source": []
  },
  {
   "cell_type": "markdown",
   "metadata": {},
   "source": [
    "<details> <summary>Answer:</summary>\n",
    "<code>\n",
    "traffic_corr_matrix = traffic.corr()\n",
    "sns.heatmap(traffic_corr_matrix)</code>\n",
    "</details>\n",
    "\n",
    "What do you notice about the heatmap?  Which columns are similar?  Does this make sense?\n",
    "\n",
    "### Challenges:\n",
    "- Which pair of numeric columns in the taxi dataset are the most correlated?  Which pair of numeric columns in the taxi dataset are the least correlated?  Do these results make sense?\n",
    "- Which pair of numeric columns in the Starbucks drink nuitrition information are the most correlated?  Which pair are the least correlated?  Do these results make sense?"
   ]
  },
  {
   "cell_type": "code",
   "execution_count": null,
   "metadata": {
    "collapsed": true,
    "jupyter": {
     "outputs_hidden": true
    }
   },
   "outputs": [],
   "source": []
  }
 ],
 "metadata": {
  "kernelspec": {
   "display_name": "Python 3 (ipykernel)",
   "language": "python",
   "name": "python3"
  },
  "language_info": {
   "codemirror_mode": {
    "name": "ipython",
    "version": 3
   },
   "file_extension": ".py",
   "mimetype": "text/x-python",
   "name": "python",
   "nbconvert_exporter": "python",
   "pygments_lexer": "ipython3",
   "version": "3.11.5"
  }
 },
 "nbformat": 4,
 "nbformat_minor": 4
}
