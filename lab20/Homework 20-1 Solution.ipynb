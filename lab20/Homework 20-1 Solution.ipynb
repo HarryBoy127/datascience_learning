{
 "cells": [
  {
   "cell_type": "markdown",
   "metadata": {},
   "source": [
    "*Replace this text with your own name and a brief description of what this notebook does.*"
   ]
  },
  {
   "cell_type": "markdown",
   "metadata": {},
   "source": [
    "## Homework 20-1:  Correlation in Borough Populations\n",
    "\n",
    "This assignment uses the borough population file from Lab 1.\n",
    "\n",
    "Compute the correlation matrix for all columns in the dataset (including `Year` and `Total`).  Find the pair of (distinct) boroughs whose population is most correlated and the pair of (distinct) boroughs whose population is least correlated, and plot the scatter plots for those two pairs."
   ]
  },
  {
   "cell_type": "code",
   "execution_count": 1,
   "metadata": {},
   "outputs": [
    {
     "data": {
      "text/html": [
       "<div>\n",
       "<style scoped>\n",
       "    .dataframe tbody tr th:only-of-type {\n",
       "        vertical-align: middle;\n",
       "    }\n",
       "\n",
       "    .dataframe tbody tr th {\n",
       "        vertical-align: top;\n",
       "    }\n",
       "\n",
       "    .dataframe thead th {\n",
       "        text-align: right;\n",
       "    }\n",
       "</style>\n",
       "<table border=\"1\" class=\"dataframe\">\n",
       "  <thead>\n",
       "    <tr style=\"text-align: right;\">\n",
       "      <th></th>\n",
       "      <th>Year</th>\n",
       "      <th>Manhattan</th>\n",
       "      <th>Brooklyn</th>\n",
       "      <th>Queens</th>\n",
       "      <th>Bronx</th>\n",
       "      <th>Staten Island</th>\n",
       "      <th>Total</th>\n",
       "    </tr>\n",
       "  </thead>\n",
       "  <tbody>\n",
       "    <tr>\n",
       "      <th>0</th>\n",
       "      <td>1698</td>\n",
       "      <td>4937</td>\n",
       "      <td>2017</td>\n",
       "      <td>NaN</td>\n",
       "      <td>NaN</td>\n",
       "      <td>727</td>\n",
       "      <td>7681</td>\n",
       "    </tr>\n",
       "    <tr>\n",
       "      <th>1</th>\n",
       "      <td>1771</td>\n",
       "      <td>21863</td>\n",
       "      <td>3623</td>\n",
       "      <td>NaN</td>\n",
       "      <td>NaN</td>\n",
       "      <td>2847</td>\n",
       "      <td>28423</td>\n",
       "    </tr>\n",
       "    <tr>\n",
       "      <th>2</th>\n",
       "      <td>1790</td>\n",
       "      <td>33131</td>\n",
       "      <td>4549</td>\n",
       "      <td>6159.0</td>\n",
       "      <td>1781.0</td>\n",
       "      <td>3827</td>\n",
       "      <td>49447</td>\n",
       "    </tr>\n",
       "    <tr>\n",
       "      <th>3</th>\n",
       "      <td>1800</td>\n",
       "      <td>60515</td>\n",
       "      <td>5740</td>\n",
       "      <td>6642.0</td>\n",
       "      <td>1755.0</td>\n",
       "      <td>4563</td>\n",
       "      <td>79215</td>\n",
       "    </tr>\n",
       "    <tr>\n",
       "      <th>4</th>\n",
       "      <td>1810</td>\n",
       "      <td>96373</td>\n",
       "      <td>8303</td>\n",
       "      <td>7444.0</td>\n",
       "      <td>2267.0</td>\n",
       "      <td>5347</td>\n",
       "      <td>119734</td>\n",
       "    </tr>\n",
       "  </tbody>\n",
       "</table>\n",
       "</div>"
      ],
      "text/plain": [
       "   Year  Manhattan  Brooklyn  Queens   Bronx  Staten Island   Total\n",
       "0  1698       4937      2017     NaN     NaN            727    7681\n",
       "1  1771      21863      3623     NaN     NaN           2847   28423\n",
       "2  1790      33131      4549  6159.0  1781.0           3827   49447\n",
       "3  1800      60515      5740  6642.0  1755.0           4563   79215\n",
       "4  1810      96373      8303  7444.0  2267.0           5347  119734"
      ]
     },
     "execution_count": 1,
     "metadata": {},
     "output_type": "execute_result"
    }
   ],
   "source": [
    "import matplotlib.pyplot as plt\n",
    "import pandas as pd\n",
    "import numpy as np\n",
    "import seaborn as sns\n",
    "\n",
    "pop = pd.read_csv(\"../../data/nycHistPop.csv\",skiprows = 5)\n",
    "pop.head()"
   ]
  },
  {
   "cell_type": "code",
   "execution_count": 2,
   "metadata": {},
   "outputs": [
    {
     "data": {
      "text/html": [
       "<div>\n",
       "<style scoped>\n",
       "    .dataframe tbody tr th:only-of-type {\n",
       "        vertical-align: middle;\n",
       "    }\n",
       "\n",
       "    .dataframe tbody tr th {\n",
       "        vertical-align: top;\n",
       "    }\n",
       "\n",
       "    .dataframe thead th {\n",
       "        text-align: right;\n",
       "    }\n",
       "</style>\n",
       "<table border=\"1\" class=\"dataframe\">\n",
       "  <thead>\n",
       "    <tr style=\"text-align: right;\">\n",
       "      <th></th>\n",
       "      <th>Year</th>\n",
       "      <th>Manhattan</th>\n",
       "      <th>Brooklyn</th>\n",
       "      <th>Queens</th>\n",
       "      <th>Bronx</th>\n",
       "      <th>Staten Island</th>\n",
       "      <th>Total</th>\n",
       "    </tr>\n",
       "  </thead>\n",
       "  <tbody>\n",
       "    <tr>\n",
       "      <th>Year</th>\n",
       "      <td>1.000000</td>\n",
       "      <td>0.816527</td>\n",
       "      <td>0.901299</td>\n",
       "      <td>0.924496</td>\n",
       "      <td>0.904459</td>\n",
       "      <td>0.876198</td>\n",
       "      <td>0.926013</td>\n",
       "    </tr>\n",
       "    <tr>\n",
       "      <th>Manhattan</th>\n",
       "      <td>0.816527</td>\n",
       "      <td>1.000000</td>\n",
       "      <td>0.859736</td>\n",
       "      <td>0.559398</td>\n",
       "      <td>0.694814</td>\n",
       "      <td>0.579268</td>\n",
       "      <td>0.839354</td>\n",
       "    </tr>\n",
       "    <tr>\n",
       "      <th>Brooklyn</th>\n",
       "      <td>0.901299</td>\n",
       "      <td>0.859736</td>\n",
       "      <td>1.000000</td>\n",
       "      <td>0.891982</td>\n",
       "      <td>0.971455</td>\n",
       "      <td>0.836915</td>\n",
       "      <td>0.994999</td>\n",
       "    </tr>\n",
       "    <tr>\n",
       "      <th>Queens</th>\n",
       "      <td>0.924496</td>\n",
       "      <td>0.559398</td>\n",
       "      <td>0.891982</td>\n",
       "      <td>1.000000</td>\n",
       "      <td>0.949518</td>\n",
       "      <td>0.964932</td>\n",
       "      <td>0.927496</td>\n",
       "    </tr>\n",
       "    <tr>\n",
       "      <th>Bronx</th>\n",
       "      <td>0.904459</td>\n",
       "      <td>0.694814</td>\n",
       "      <td>0.971455</td>\n",
       "      <td>0.949518</td>\n",
       "      <td>1.000000</td>\n",
       "      <td>0.864707</td>\n",
       "      <td>0.975168</td>\n",
       "    </tr>\n",
       "    <tr>\n",
       "      <th>Staten Island</th>\n",
       "      <td>0.876198</td>\n",
       "      <td>0.579268</td>\n",
       "      <td>0.836915</td>\n",
       "      <td>0.964932</td>\n",
       "      <td>0.864707</td>\n",
       "      <td>1.000000</td>\n",
       "      <td>0.883729</td>\n",
       "    </tr>\n",
       "    <tr>\n",
       "      <th>Total</th>\n",
       "      <td>0.926013</td>\n",
       "      <td>0.839354</td>\n",
       "      <td>0.994999</td>\n",
       "      <td>0.927496</td>\n",
       "      <td>0.975168</td>\n",
       "      <td>0.883729</td>\n",
       "      <td>1.000000</td>\n",
       "    </tr>\n",
       "  </tbody>\n",
       "</table>\n",
       "</div>"
      ],
      "text/plain": [
       "                   Year  Manhattan  Brooklyn    Queens     Bronx  \\\n",
       "Year           1.000000   0.816527  0.901299  0.924496  0.904459   \n",
       "Manhattan      0.816527   1.000000  0.859736  0.559398  0.694814   \n",
       "Brooklyn       0.901299   0.859736  1.000000  0.891982  0.971455   \n",
       "Queens         0.924496   0.559398  0.891982  1.000000  0.949518   \n",
       "Bronx          0.904459   0.694814  0.971455  0.949518  1.000000   \n",
       "Staten Island  0.876198   0.579268  0.836915  0.964932  0.864707   \n",
       "Total          0.926013   0.839354  0.994999  0.927496  0.975168   \n",
       "\n",
       "               Staten Island     Total  \n",
       "Year                0.876198  0.926013  \n",
       "Manhattan           0.579268  0.839354  \n",
       "Brooklyn            0.836915  0.994999  \n",
       "Queens              0.964932  0.927496  \n",
       "Bronx               0.864707  0.975168  \n",
       "Staten Island       1.000000  0.883729  \n",
       "Total               0.883729  1.000000  "
      ]
     },
     "execution_count": 2,
     "metadata": {},
     "output_type": "execute_result"
    }
   ],
   "source": [
    "pop_corr = pop.corr()\n",
    "pop_corr"
   ]
  },
  {
   "cell_type": "code",
   "execution_count": 4,
   "metadata": {},
   "outputs": [
    {
     "data": {
      "text/plain": [
       "<AxesSubplot:xlabel='Brooklyn', ylabel='Bronx'>"
      ]
     },
     "execution_count": 4,
     "metadata": {},
     "output_type": "execute_result"
    },
    {
     "data": {
      "image/png": "[encoded data removed]",
      "text/plain": [
       "<Figure size 432x288 with 1 Axes>"
      ]
     },
     "metadata": {
      "needs_background": "light"
     },
     "output_type": "display_data"
    }
   ],
   "source": [
    "pop.plot.scatter(x = \"Brooklyn\", y = \"Bronx\")"
   ]
  },
  {
   "cell_type": "code",
   "execution_count": 5,
   "metadata": {},
   "outputs": [
    {
     "data": {
      "text/plain": [
       "<matplotlib.axes._subplots.AxesSubplot at 0x1a0f76b898>"
      ]
     },
     "execution_count": 5,
     "metadata": {},
     "output_type": "execute_result"
    },
    {
     "data": {
      "image/png": "[encoded data removed]",
      "text/plain": [
       "<matplotlib.figure.Figure at 0x1a0a59ec18>"
      ]
     },
     "metadata": {},
     "output_type": "display_data"
    }
   ],
   "source": [
    "pop.plot.scatter(x = \"Queens\", y = \"Manhattan\")"
   ]
  },
  {
   "cell_type": "markdown",
   "metadata": {},
   "source": [
    "1. Which pair of (distinct) boroughs had populations that were the most correlated?\n",
    "2. Which pair of (distinct) boroughs had populations that were the least correlated?\n",
    "\n",
    "Write your answers below."
   ]
  },
  {
   "cell_type": "markdown",
   "metadata": {},
   "source": [
    " 1. The historical populations of Brooklyn and the Bronx were the most correlated.\n",
    " 2. The historical populations of Manhattan and Queens were the least correlated."
   ]
  },
  {
   "cell_type": "code",
   "execution_count": null,
   "metadata": {},
   "outputs": [],
   "source": []
  }
 ],
 "metadata": {
  "kernelspec": {
   "display_name": "Python 3 (ipykernel)",
   "language": "python",
   "name": "python3"
  },
  "language_info": {
   "codemirror_mode": {
    "name": "ipython",
    "version": 3
   },
   "file_extension": ".py",
   "mimetype": "text/x-python",
   "name": "python",
   "nbconvert_exporter": "python",
   "pygments_lexer": "ipython3",
   "version": "3.9.12"
  }
 },
 "nbformat": 4,
 "nbformat_minor": 4
}
