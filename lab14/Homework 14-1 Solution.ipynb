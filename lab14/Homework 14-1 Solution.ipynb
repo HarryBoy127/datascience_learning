{
 "cells": [
  {
   "cell_type": "markdown",
   "metadata": {},
   "source": [
    "*Replace this text with your own name and a brief description of what this notebook does.*"
   ]
  },
  {
   "cell_type": "markdown",
   "metadata": {},
   "source": [
    "# Homework 14-1\n",
    "\n",
    "A pharmaceutical company claims it has an improved drug for treating a disease.  The current best drug cures 76% of patients.  The company has data showing that their new drug cured 249 out of 286 patients in a clinical trial.\n",
    "\n",
    "Simulate 10,000 samples of 286 patients, where each patient has a 76% chance of being cured, and plot a histogram of the numbers of cured patients from each trial.\n",
    "\n",
    "Give your graph a title and x and y axis labels."
   ]
  },
  {
   "cell_type": "code",
   "execution_count": 1,
   "metadata": {
    "collapsed": true,
    "jupyter": {
     "outputs_hidden": true
    }
   },
   "outputs": [],
   "source": [
    "import matplotlib.pyplot as plt\n",
    "import pandas as pd\n",
    "import numpy as np\n",
    "%matplotlib inline\n",
    "\n",
    "# define the population from which to sample\n",
    "population = [\"cured\",\"not cured\"]\n",
    "pop_probs = [0.76,1 - 0.76]\n",
    "\n",
    "# create a list to store the number of cured patients\n",
    "num_cured_patients = []\n",
    "# loop 10,000 times\n",
    "for i in range(10000):\n",
    "    # simulate the sample\n",
    "    sample = np.random.choice(population, p = pop_probs,size = 286)\n",
    "    # count the number of cured patients in the sample\n",
    "    sample_counts = pd.Series(sample).value_counts()\n",
    "    # and add this number to the list\n",
    "    num_cured_patients.append(sample_counts[\"cured\"])"
   ]
  },
  {
   "cell_type": "code",
   "execution_count": 2,
   "metadata": {},
   "outputs": [
    {
     "data": {
      "text/plain": [
       "Text(0,0.5,'# of simulations')"
      ]
     },
     "execution_count": 2,
     "metadata": {},
     "output_type": "execute_result"
    },
    {
     "data": {
      "image/png": "[encoded data removed]",
      "text/plain": [
       "<matplotlib.figure.Figure at 0x10e61e588>"
      ]
     },
     "metadata": {},
     "output_type": "display_data"
    }
   ],
   "source": [
    "pd.Series(num_cured_patients).hist()\n",
    "plt.title(\"Distribution of cured patients over 10,000 simulations\")\n",
    "plt.xlabel(\"# of cured patients in a sample\")\n",
    "plt.ylabel(\"# of simulations\")"
   ]
  },
  {
   "cell_type": "markdown",
   "metadata": {},
   "source": [
    "1. Do you think the new drug is an improvement on the old drug?  Why or why not?\n",
    "\n",
    "Write your answers below."
   ]
  },
  {
   "cell_type": "markdown",
   "metadata": {},
   "source": [
    "1.  Yes, the new drug improves on the old drug.  249 patients were cured in a clinical trial of the new drug.  From the histogram, all simulation had fewer than 249 cured patients, assuming the drug is only 76% effective.  Thus it seems unlikely that the new drug is only 76% effective, and more likely that it is more effective than that. "
   ]
  },
  {
   "cell_type": "markdown",
   "metadata": {},
   "source": [
    " "
   ]
  },
  {
   "cell_type": "markdown",
   "metadata": {},
   "source": [
    " "
   ]
  }
 ],
 "metadata": {
  "kernelspec": {
   "display_name": "Python 3 (ipykernel)",
   "language": "python",
   "name": "python3"
  },
  "language_info": {
   "codemirror_mode": {
    "name": "ipython",
    "version": 3
   },
   "file_extension": ".py",
   "mimetype": "text/x-python",
   "name": "python",
   "nbconvert_exporter": "python",
   "pygments_lexer": "ipython3",
   "version": "3.11.4"
  }
 },
 "nbformat": 4,
 "nbformat_minor": 4
}
