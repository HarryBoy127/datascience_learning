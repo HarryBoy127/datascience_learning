{
 "cells": [
  {
   "cell_type": "code",
   "execution_count": 1,
   "id": "21ad6f5d",
   "metadata": {},
   "outputs": [],
   "source": [
    "import numpy as np\n",
    "import matplotlib.pyplot as plt\n",
    "import pandas as pd"
   ]
  },
  {
   "cell_type": "code",
   "execution_count": 2,
   "id": "d9eb5fbc",
   "metadata": {},
   "outputs": [],
   "source": [
    "population = [\"Black\", \"Non-Black\"]\n",
    "pop_prob = [0.26, 1 - 0.26]"
   ]
  },
  {
   "cell_type": "code",
   "execution_count": 6,
   "id": "c042aa51",
   "metadata": {},
   "outputs": [
    {
     "data": {
      "text/plain": [
       "array(['Non-Black', 'Non-Black', 'Non-Black', 'Non-Black', 'Non-Black',\n",
       "       'Non-Black', 'Non-Black', 'Non-Black', 'Black', 'Non-Black',\n",
       "       'Non-Black', 'Black', 'Black', 'Black', 'Non-Black', 'Black',\n",
       "       'Non-Black', 'Black', 'Non-Black', 'Non-Black', 'Non-Black',\n",
       "       'Black', 'Non-Black', 'Non-Black', 'Non-Black', 'Non-Black',\n",
       "       'Non-Black', 'Black', 'Non-Black', 'Non-Black', 'Non-Black',\n",
       "       'Non-Black', 'Black', 'Non-Black', 'Non-Black', 'Non-Black',\n",
       "       'Non-Black', 'Non-Black', 'Black', 'Non-Black', 'Non-Black',\n",
       "       'Non-Black', 'Black', 'Black', 'Non-Black', 'Non-Black',\n",
       "       'Non-Black', 'Non-Black', 'Non-Black', 'Non-Black', 'Non-Black',\n",
       "       'Non-Black', 'Non-Black', 'Non-Black', 'Black', 'Black',\n",
       "       'Non-Black', 'Non-Black', 'Non-Black', 'Non-Black', 'Non-Black',\n",
       "       'Black', 'Non-Black', 'Non-Black', 'Non-Black', 'Non-Black',\n",
       "       'Non-Black', 'Non-Black', 'Non-Black', 'Non-Black', 'Non-Black',\n",
       "       'Non-Black', 'Non-Black', 'Non-Black', 'Non-Black', 'Non-Black',\n",
       "       'Non-Black', 'Black', 'Non-Black', 'Black', 'Non-Black', 'Black',\n",
       "       'Black', 'Non-Black', 'Non-Black', 'Non-Black', 'Non-Black',\n",
       "       'Non-Black', 'Black', 'Black', 'Non-Black', 'Black', 'Non-Black',\n",
       "       'Non-Black', 'Non-Black', 'Non-Black', 'Black', 'Non-Black',\n",
       "       'Non-Black', 'Black'], dtype='<U9')"
      ]
     },
     "execution_count": 6,
     "metadata": {},
     "output_type": "execute_result"
    }
   ],
   "source": [
    "sample = np.random.choice(population, p = pop_prob, size = 100)\n",
    "sample"
   ]
  },
  {
   "cell_type": "code",
   "execution_count": 20,
   "id": "fe5f9126",
   "metadata": {},
   "outputs": [
    {
     "data": {
      "text/plain": [
       "Non-Black    80\n",
       "Black        20\n",
       "Name: count, dtype: int64"
      ]
     },
     "execution_count": 20,
     "metadata": {},
     "output_type": "execute_result"
    }
   ],
   "source": [
    "sample = np.random.choice(population, p = pop_prob, size = 100)\n",
    "counts = pd.Series(sample).value_counts()\n",
    "counts"
   ]
  },
  {
   "cell_type": "code",
   "execution_count": 21,
   "id": "705616b9",
   "metadata": {},
   "outputs": [
    {
     "data": {
      "text/plain": [
       "20"
      ]
     },
     "execution_count": 21,
     "metadata": {},
     "output_type": "execute_result"
    }
   ],
   "source": [
    "counts[\"Black\"]"
   ]
  },
  {
   "cell_type": "code",
   "execution_count": 22,
   "id": "4478416e",
   "metadata": {},
   "outputs": [
    {
     "data": {
      "text/plain": [
       "<Axes: >"
      ]
     },
     "execution_count": 22,
     "metadata": {},
     "output_type": "execute_result"
    },
    {
     "data": {
      "image/png": "[encoded data removed]",
      "text/plain": [
       "<Figure size 640x480 with 1 Axes>"
      ]
     },
     "metadata": {},
     "output_type": "display_data"
    }
   ],
   "source": [
    "counts = []\n",
    "for i in range(10000):\n",
    "    sample = np.random.choice(population, p = pop_prob, size = 100)\n",
    "    sample_counts = pd.Series(sample).value_counts()\n",
    "    num_Black = sample_counts[\"Black\"]\n",
    "    counts.append(num_Black)\n",
    "pd.Series(counts).hist()  "
   ]
  },
  {
   "cell_type": "markdown",
   "id": "5dcaa6ec",
   "metadata": {},
   "source": [
    "A company knows from surveys that 28% of their target audience expresses an interest in their product. The company shows a new commercial about their product to a test group of 45 people, all of whom are part of their target audience. After seeing the commercial, 17 people express an interest in the product. Can the company conclude that the commercial increases interest in their product?\n",
    "\n",
    "Simulate 10,000 samples of the test group, assuming the commercial does not change the viewers' interest in the product, and plot a histogram of the number of people interested in the product from each simulation.\n",
    "\n",
    "Give your graph a title and x and y axis labels."
   ]
  },
  {
   "cell_type": "code",
   "execution_count": 23,
   "id": "b56fd452",
   "metadata": {},
   "outputs": [],
   "source": [
    "pop2 = [\"interest\", \"no-interest\"]\n",
    "pop2_prob = [0.28, 1-0.28]"
   ]
  },
  {
   "cell_type": "code",
   "execution_count": 24,
   "id": "40cd5104",
   "metadata": {},
   "outputs": [
    {
     "data": {
      "text/plain": [
       "array(['interest', 'no-interest', 'interest', 'no-interest',\n",
       "       'no-interest', 'no-interest', 'no-interest', 'interest',\n",
       "       'no-interest', 'no-interest', 'interest', 'no-interest',\n",
       "       'interest', 'interest', 'interest', 'no-interest', 'no-interest',\n",
       "       'interest', 'no-interest', 'no-interest', 'interest',\n",
       "       'no-interest', 'interest', 'no-interest', 'interest',\n",
       "       'no-interest', 'no-interest', 'no-interest', 'no-interest',\n",
       "       'no-interest', 'no-interest', 'no-interest', 'no-interest',\n",
       "       'no-interest', 'no-interest', 'no-interest', 'interest',\n",
       "       'interest', 'no-interest', 'no-interest', 'no-interest',\n",
       "       'interest', 'interest', 'interest', 'no-interest', 'no-interest',\n",
       "       'no-interest', 'no-interest', 'interest', 'interest',\n",
       "       'no-interest', 'no-interest', 'no-interest', 'no-interest',\n",
       "       'no-interest', 'no-interest', 'no-interest', 'interest',\n",
       "       'no-interest', 'no-interest', 'no-interest', 'no-interest',\n",
       "       'no-interest', 'no-interest', 'no-interest', 'no-interest',\n",
       "       'no-interest', 'no-interest', 'no-interest', 'no-interest',\n",
       "       'no-interest', 'interest', 'no-interest', 'no-interest',\n",
       "       'interest', 'no-interest', 'no-interest', 'interest', 'interest',\n",
       "       'no-interest', 'no-interest', 'no-interest', 'no-interest',\n",
       "       'no-interest', 'no-interest', 'no-interest', 'interest',\n",
       "       'interest', 'interest', 'no-interest', 'no-interest', 'interest',\n",
       "       'no-interest', 'no-interest', 'interest', 'no-interest',\n",
       "       'interest', 'no-interest', 'no-interest', 'no-interest'],\n",
       "      dtype='<U11')"
      ]
     },
     "execution_count": 24,
     "metadata": {},
     "output_type": "execute_result"
    }
   ],
   "source": [
    "sample = np.random.choice(pop2, p = pop2_prob, size = 100)\n",
    "sample"
   ]
  },
  {
   "cell_type": "code",
   "execution_count": 27,
   "id": "c2d2f383",
   "metadata": {},
   "outputs": [
    {
     "data": {
      "text/plain": [
       "no-interest    73\n",
       "interest       27\n",
       "Name: count, dtype: int64"
      ]
     },
     "execution_count": 27,
     "metadata": {},
     "output_type": "execute_result"
    }
   ],
   "source": [
    "sample = np.random.choice(pop2, p = pop2_prob, size = 100)\n",
    "counts = pd.Series(sample).value_counts()\n",
    "counts"
   ]
  },
  {
   "cell_type": "code",
   "execution_count": 28,
   "id": "a717b0cc",
   "metadata": {},
   "outputs": [
    {
     "data": {
      "text/plain": [
       "27"
      ]
     },
     "execution_count": 28,
     "metadata": {},
     "output_type": "execute_result"
    }
   ],
   "source": [
    "counts[\"interest\"]"
   ]
  },
  {
   "cell_type": "code",
   "execution_count": 31,
   "id": "f57cf4ea",
   "metadata": {},
   "outputs": [
    {
     "data": {
      "text/plain": [
       "<Axes: >"
      ]
     },
     "execution_count": 31,
     "metadata": {},
     "output_type": "execute_result"
    },
    {
     "data": {
      "image/png": "[encoded data removed]",
      "text/plain": [
       "<Figure size 640x480 with 1 Axes>"
      ]
     },
     "metadata": {},
     "output_type": "display_data"
    }
   ],
   "source": [
    "counts = []\n",
    "for i in range(10000):\n",
    "    sample = np.random.choice(pop2, p = pop2_prob, size = 100)\n",
    "    sample_counts = pd.Series(sample).value_counts()\n",
    "    num_interest = sample_counts[\"interest\"]\n",
    "    counts.append(num_interest)\n",
    "pd.Series(counts).hist()   "
   ]
  },
  {
   "cell_type": "code",
   "execution_count": 32,
   "id": "9fb2fa18",
   "metadata": {},
   "outputs": [
    {
     "data": {
      "text/plain": [
       "Text(0, 0.5, 'number of people change interest')"
      ]
     },
     "execution_count": 32,
     "metadata": {},
     "output_type": "execute_result"
    },
    {
     "data": {
      "image/png": "[encoded data removed]",
      "text/plain": [
       "<Figure size 640x480 with 1 Axes>"
      ]
     },
     "metadata": {},
     "output_type": "display_data"
    }
   ],
   "source": [
    "pd.Series(counts).hist() \n",
    "plt.title(\"Total distribution of people interests in the products\")\n",
    "plt.xlabel(\"interest\")\n",
    "plt.ylabel(\"number of people change interest\")"
   ]
  },
  {
   "cell_type": "code",
   "execution_count": null,
   "id": "17f184a6",
   "metadata": {},
   "outputs": [],
   "source": []
  },
  {
   "cell_type": "code",
   "execution_count": null,
   "id": "28d42805",
   "metadata": {},
   "outputs": [],
   "source": []
  },
  {
   "cell_type": "code",
   "execution_count": null,
   "id": "46c06d9a",
   "metadata": {},
   "outputs": [],
   "source": []
  }
 ],
 "metadata": {
  "kernelspec": {
   "display_name": "Python 3 (ipykernel)",
   "language": "python",
   "name": "python3"
  },
  "language_info": {
   "codemirror_mode": {
    "name": "ipython",
    "version": 3
   },
   "file_extension": ".py",
   "mimetype": "text/x-python",
   "name": "python",
   "nbconvert_exporter": "python",
   "pygments_lexer": "ipython3",
   "version": "3.11.5"
  }
 },
 "nbformat": 4,
 "nbformat_minor": 5
}
