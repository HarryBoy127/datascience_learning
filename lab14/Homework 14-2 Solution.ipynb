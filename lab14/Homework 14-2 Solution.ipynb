{
 "cells": [
  {
   "cell_type": "markdown",
   "metadata": {},
   "source": [
    "*Replace this text with your own name and a brief description of what this notebook does.*"
   ]
  },
  {
   "cell_type": "markdown",
   "metadata": {},
   "source": [
    "## Homework 14-2\n",
    "\n",
    "A company knows from surveys that 28% of their target audience expresses an interest in their product.  The company shows a new commercial about their product to a test group of 45 people, all of whom are part of their target audience.  After seeing the commercial, 17 people express an interest in the product.  Can the company conclude that the commercial increases interest in their product?\n",
    "\n",
    "Simulate 10,000 samples of the test group, assuming the commercial does not change the viewers' interest in the product, and plot a histogram of the number of people interested in the product from each simulation.\n",
    "\n",
    "Give your graph a title and x and y axis labels."
   ]
  },
  {
   "cell_type": "code",
   "execution_count": 1,
   "metadata": {
    "collapsed": true,
    "jupyter": {
     "outputs_hidden": true
    }
   },
   "outputs": [],
   "source": [
    "import numpy as np\n",
    "import matplotlib.pyplot as plt\n",
    "import pandas as pd"
   ]
  },
  {
   "cell_type": "code",
   "execution_count": 4,
   "metadata": {
    "collapsed": true,
    "jupyter": {
     "outputs_hidden": true
    }
   },
   "outputs": [],
   "source": [
    "population = [\"interested\", \"not interestd\"]\n",
    "pop_prob = [0.28,1-0.28]\n",
    "\n",
    "num_interested = []\n",
    "for i in range(10000):\n",
    "    sample = np.random.choice(population,p = pop_prob, size = 45)\n",
    "    counts = pd.Series(sample).value_counts()\n",
    "    num_interested.append(counts[\"interested\"])"
   ]
  },
  {
   "cell_type": "code",
   "execution_count": 8,
   "metadata": {},
   "outputs": [
    {
     "data": {
      "text/plain": [
       "Text(0,0.5,'Number of simulations')"
      ]
     },
     "execution_count": 8,
     "metadata": {},
     "output_type": "execute_result"
    },
    {
     "data": {
      "image/png": "[encoded data removed]",
      "text/plain": [
       "<matplotlib.figure.Figure at 0x113997080>"
      ]
     },
     "metadata": {},
     "output_type": "display_data"
    }
   ],
   "source": [
    "pd.Series(num_interested).hist()\n",
    "plt.title(\"Simulation assuming commerical does not change interest\")\n",
    "plt.xlabel(\"Number of audience members interested\")\n",
    "plt.ylabel(\"Number of simulations\")"
   ]
  },
  {
   "cell_type": "markdown",
   "metadata": {},
   "source": [
    "1. Do you think the commerical creates interest in the product in the target audience?  Why or why not?\n",
    "\n",
    "Write your answers below."
   ]
  },
  {
   "cell_type": "markdown",
   "metadata": {},
   "source": [
    "1. The commerical does not seem to have increased interest in the product in the target audience.  From the histogram, which assumes there was no change in interest, we can see that our data point of 17 interested people could easily have come from this distribution."
   ]
  },
  {
   "cell_type": "markdown",
   "metadata": {},
   "source": [
    " "
   ]
  },
  {
   "cell_type": "markdown",
   "metadata": {},
   "source": [
    " "
   ]
  },
  {
   "cell_type": "markdown",
   "metadata": {},
   "source": [
    " "
   ]
  }
 ],
 "metadata": {
  "kernelspec": {
   "display_name": "Python 3 (ipykernel)",
   "language": "python",
   "name": "python3"
  },
  "language_info": {
   "codemirror_mode": {
    "name": "ipython",
    "version": 3
   },
   "file_extension": ".py",
   "mimetype": "text/x-python",
   "name": "python",
   "nbconvert_exporter": "python",
   "pygments_lexer": "ipython3",
   "version": "3.11.4"
  }
 },
 "nbformat": 4,
 "nbformat_minor": 4
}
