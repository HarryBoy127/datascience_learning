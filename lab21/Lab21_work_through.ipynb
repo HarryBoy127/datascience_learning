{
 "cells": [
  {
   "cell_type": "code",
   "execution_count": 2,
   "id": "9819e582",
   "metadata": {},
   "outputs": [],
   "source": [
    "import numpy as np\n",
    "import matplotlib.pyplot as plt\n",
    "import pandas as pd\n",
    "import seaborn as sns\n",
    "import statsmodels.formula.api as smf"
   ]
  },
  {
   "cell_type": "code",
   "execution_count": 3,
   "id": "71ebd432",
   "metadata": {},
   "outputs": [
    {
     "name": "stderr",
     "output_type": "stream",
     "text": [
      "/var/folders/hh/nxh3r3vn2jx97bs11v7tsmd40000gn/T/ipykernel_13413/1099751398.py:1: ParserWarning: Falling back to the 'python' engine because the 'c' engine does not support skipfooter; you can avoid this warning by specifying engine='python'.\n",
      "  labor = pd.read_csv(\"labor-market-Feb2021.csv\",skiprows = 13, skipfooter = 3)\n"
     ]
    }
   ],
   "source": [
    "labor = pd.read_csv(\"labor-market-Feb2021.csv\",skiprows = 13, skipfooter = 3)"
   ]
  },
  {
   "cell_type": "code",
   "execution_count": 4,
   "id": "bd529163",
   "metadata": {},
   "outputs": [
    {
     "data": {
      "text/html": [
       "<div>\n",
       "<style scoped>\n",
       "    .dataframe tbody tr th:only-of-type {\n",
       "        vertical-align: middle;\n",
       "    }\n",
       "\n",
       "    .dataframe tbody tr th {\n",
       "        vertical-align: top;\n",
       "    }\n",
       "\n",
       "    .dataframe thead th {\n",
       "        text-align: right;\n",
       "    }\n",
       "</style>\n",
       "<table border=\"1\" class=\"dataframe\">\n",
       "  <thead>\n",
       "    <tr style=\"text-align: right;\">\n",
       "      <th></th>\n",
       "      <th>Major</th>\n",
       "      <th>Unemployment Rate</th>\n",
       "      <th>Underemployment Rate</th>\n",
       "      <th>Median Wage Early Career</th>\n",
       "      <th>Median Wage Mid-Career</th>\n",
       "      <th>Share with Graduate Degree</th>\n",
       "    </tr>\n",
       "  </thead>\n",
       "  <tbody>\n",
       "    <tr>\n",
       "      <th>0</th>\n",
       "      <td>Agriculture</td>\n",
       "      <td>3.0</td>\n",
       "      <td>60.3</td>\n",
       "      <td>40,000</td>\n",
       "      <td>65,000</td>\n",
       "      <td>20.8</td>\n",
       "    </tr>\n",
       "    <tr>\n",
       "      <th>1</th>\n",
       "      <td>Animal and Plant Sciences</td>\n",
       "      <td>2.6</td>\n",
       "      <td>58.6</td>\n",
       "      <td>37,000</td>\n",
       "      <td>63,000</td>\n",
       "      <td>35.1</td>\n",
       "    </tr>\n",
       "    <tr>\n",
       "      <th>2</th>\n",
       "      <td>Environmental Studies</td>\n",
       "      <td>3.9</td>\n",
       "      <td>53.7</td>\n",
       "      <td>39,000</td>\n",
       "      <td>65,000</td>\n",
       "      <td>30.5</td>\n",
       "    </tr>\n",
       "    <tr>\n",
       "      <th>3</th>\n",
       "      <td>Architecture</td>\n",
       "      <td>2.2</td>\n",
       "      <td>27.9</td>\n",
       "      <td>50,000</td>\n",
       "      <td>76,000</td>\n",
       "      <td>41.0</td>\n",
       "    </tr>\n",
       "    <tr>\n",
       "      <th>4</th>\n",
       "      <td>Ethnic Studies</td>\n",
       "      <td>5.1</td>\n",
       "      <td>51.9</td>\n",
       "      <td>40,000</td>\n",
       "      <td>67,000</td>\n",
       "      <td>48.6</td>\n",
       "    </tr>\n",
       "    <tr>\n",
       "      <th>...</th>\n",
       "      <td>...</td>\n",
       "      <td>...</td>\n",
       "      <td>...</td>\n",
       "      <td>...</td>\n",
       "      <td>...</td>\n",
       "      <td>...</td>\n",
       "    </tr>\n",
       "    <tr>\n",
       "      <th>68</th>\n",
       "      <td>Finance</td>\n",
       "      <td>3.4</td>\n",
       "      <td>34.3</td>\n",
       "      <td>56,000</td>\n",
       "      <td>93,000</td>\n",
       "      <td>30.9</td>\n",
       "    </tr>\n",
       "    <tr>\n",
       "      <th>69</th>\n",
       "      <td>International Affairs</td>\n",
       "      <td>4.1</td>\n",
       "      <td>53.1</td>\n",
       "      <td>46,150</td>\n",
       "      <td>79,000</td>\n",
       "      <td>43.0</td>\n",
       "    </tr>\n",
       "    <tr>\n",
       "      <th>70</th>\n",
       "      <td>History</td>\n",
       "      <td>5.5</td>\n",
       "      <td>53.6</td>\n",
       "      <td>40,000</td>\n",
       "      <td>64,000</td>\n",
       "      <td>49.5</td>\n",
       "    </tr>\n",
       "    <tr>\n",
       "      <th>71</th>\n",
       "      <td>Engineering Technologies</td>\n",
       "      <td>3.1</td>\n",
       "      <td>45.7</td>\n",
       "      <td>50,000</td>\n",
       "      <td>85,000</td>\n",
       "      <td>24.9</td>\n",
       "    </tr>\n",
       "    <tr>\n",
       "      <th>72</th>\n",
       "      <td>Miscellaneous Technologies</td>\n",
       "      <td>3.2</td>\n",
       "      <td>52.2</td>\n",
       "      <td>45,000</td>\n",
       "      <td>80,000</td>\n",
       "      <td>19.0</td>\n",
       "    </tr>\n",
       "  </tbody>\n",
       "</table>\n",
       "<p>73 rows × 6 columns</p>\n",
       "</div>"
      ],
      "text/plain": [
       "                         Major  Unemployment Rate  Underemployment Rate  \\\n",
       "0                  Agriculture                3.0                  60.3   \n",
       "1    Animal and Plant Sciences                2.6                  58.6   \n",
       "2        Environmental Studies                3.9                  53.7   \n",
       "3                 Architecture                2.2                  27.9   \n",
       "4               Ethnic Studies                5.1                  51.9   \n",
       "..                         ...                ...                   ...   \n",
       "68                     Finance                3.4                  34.3   \n",
       "69       International Affairs                4.1                  53.1   \n",
       "70                     History                5.5                  53.6   \n",
       "71    Engineering Technologies                3.1                  45.7   \n",
       "72  Miscellaneous Technologies                3.2                  52.2   \n",
       "\n",
       "   Median Wage Early Career Median Wage Mid-Career  Share with Graduate Degree  \n",
       "0                    40,000                 65,000                        20.8  \n",
       "1                    37,000                 63,000                        35.1  \n",
       "2                    39,000                 65,000                        30.5  \n",
       "3                    50,000                 76,000                        41.0  \n",
       "4                    40,000                 67,000                        48.6  \n",
       "..                      ...                    ...                         ...  \n",
       "68                   56,000                 93,000                        30.9  \n",
       "69                   46,150                 79,000                        43.0  \n",
       "70                   40,000                 64,000                        49.5  \n",
       "71                   50,000                 85,000                        24.9  \n",
       "72                   45,000                 80,000                        19.0  \n",
       "\n",
       "[73 rows x 6 columns]"
      ]
     },
     "execution_count": 4,
     "metadata": {},
     "output_type": "execute_result"
    }
   ],
   "source": [
    "labor"
   ]
  },
  {
   "cell_type": "code",
   "execution_count": 5,
   "id": "700ba7f2",
   "metadata": {},
   "outputs": [],
   "source": [
    "labor.columns = [\"major\",\"unemployment\",\"underemployment\",\"early\",\"mid\",\"graduate\"]"
   ]
  },
  {
   "cell_type": "code",
   "execution_count": 6,
   "id": "1c3bf113",
   "metadata": {},
   "outputs": [],
   "source": [
    "labor[\"early\"] = labor[\"early\"].str.replace(\",\",\"\").astype(float)\n",
    "labor[\"mid\"] = labor[\"mid\"].str.replace(\",\",\"\").astype(float)"
   ]
  },
  {
   "cell_type": "code",
   "execution_count": 7,
   "id": "5a3500b4",
   "metadata": {},
   "outputs": [
    {
     "data": {
      "text/html": [
       "<div>\n",
       "<style scoped>\n",
       "    .dataframe tbody tr th:only-of-type {\n",
       "        vertical-align: middle;\n",
       "    }\n",
       "\n",
       "    .dataframe tbody tr th {\n",
       "        vertical-align: top;\n",
       "    }\n",
       "\n",
       "    .dataframe thead th {\n",
       "        text-align: right;\n",
       "    }\n",
       "</style>\n",
       "<table border=\"1\" class=\"dataframe\">\n",
       "  <thead>\n",
       "    <tr style=\"text-align: right;\">\n",
       "      <th></th>\n",
       "      <th>major</th>\n",
       "      <th>unemployment</th>\n",
       "      <th>underemployment</th>\n",
       "      <th>early</th>\n",
       "      <th>mid</th>\n",
       "      <th>graduate</th>\n",
       "    </tr>\n",
       "  </thead>\n",
       "  <tbody>\n",
       "    <tr>\n",
       "      <th>0</th>\n",
       "      <td>Agriculture</td>\n",
       "      <td>3.0</td>\n",
       "      <td>60.3</td>\n",
       "      <td>40000.0</td>\n",
       "      <td>65000.0</td>\n",
       "      <td>20.8</td>\n",
       "    </tr>\n",
       "    <tr>\n",
       "      <th>1</th>\n",
       "      <td>Animal and Plant Sciences</td>\n",
       "      <td>2.6</td>\n",
       "      <td>58.6</td>\n",
       "      <td>37000.0</td>\n",
       "      <td>63000.0</td>\n",
       "      <td>35.1</td>\n",
       "    </tr>\n",
       "    <tr>\n",
       "      <th>2</th>\n",
       "      <td>Environmental Studies</td>\n",
       "      <td>3.9</td>\n",
       "      <td>53.7</td>\n",
       "      <td>39000.0</td>\n",
       "      <td>65000.0</td>\n",
       "      <td>30.5</td>\n",
       "    </tr>\n",
       "    <tr>\n",
       "      <th>3</th>\n",
       "      <td>Architecture</td>\n",
       "      <td>2.2</td>\n",
       "      <td>27.9</td>\n",
       "      <td>50000.0</td>\n",
       "      <td>76000.0</td>\n",
       "      <td>41.0</td>\n",
       "    </tr>\n",
       "    <tr>\n",
       "      <th>4</th>\n",
       "      <td>Ethnic Studies</td>\n",
       "      <td>5.1</td>\n",
       "      <td>51.9</td>\n",
       "      <td>40000.0</td>\n",
       "      <td>67000.0</td>\n",
       "      <td>48.6</td>\n",
       "    </tr>\n",
       "    <tr>\n",
       "      <th>...</th>\n",
       "      <td>...</td>\n",
       "      <td>...</td>\n",
       "      <td>...</td>\n",
       "      <td>...</td>\n",
       "      <td>...</td>\n",
       "      <td>...</td>\n",
       "    </tr>\n",
       "    <tr>\n",
       "      <th>68</th>\n",
       "      <td>Finance</td>\n",
       "      <td>3.4</td>\n",
       "      <td>34.3</td>\n",
       "      <td>56000.0</td>\n",
       "      <td>93000.0</td>\n",
       "      <td>30.9</td>\n",
       "    </tr>\n",
       "    <tr>\n",
       "      <th>69</th>\n",
       "      <td>International Affairs</td>\n",
       "      <td>4.1</td>\n",
       "      <td>53.1</td>\n",
       "      <td>46150.0</td>\n",
       "      <td>79000.0</td>\n",
       "      <td>43.0</td>\n",
       "    </tr>\n",
       "    <tr>\n",
       "      <th>70</th>\n",
       "      <td>History</td>\n",
       "      <td>5.5</td>\n",
       "      <td>53.6</td>\n",
       "      <td>40000.0</td>\n",
       "      <td>64000.0</td>\n",
       "      <td>49.5</td>\n",
       "    </tr>\n",
       "    <tr>\n",
       "      <th>71</th>\n",
       "      <td>Engineering Technologies</td>\n",
       "      <td>3.1</td>\n",
       "      <td>45.7</td>\n",
       "      <td>50000.0</td>\n",
       "      <td>85000.0</td>\n",
       "      <td>24.9</td>\n",
       "    </tr>\n",
       "    <tr>\n",
       "      <th>72</th>\n",
       "      <td>Miscellaneous Technologies</td>\n",
       "      <td>3.2</td>\n",
       "      <td>52.2</td>\n",
       "      <td>45000.0</td>\n",
       "      <td>80000.0</td>\n",
       "      <td>19.0</td>\n",
       "    </tr>\n",
       "  </tbody>\n",
       "</table>\n",
       "<p>73 rows × 6 columns</p>\n",
       "</div>"
      ],
      "text/plain": [
       "                         major  unemployment  underemployment    early  \\\n",
       "0                  Agriculture           3.0             60.3  40000.0   \n",
       "1    Animal and Plant Sciences           2.6             58.6  37000.0   \n",
       "2        Environmental Studies           3.9             53.7  39000.0   \n",
       "3                 Architecture           2.2             27.9  50000.0   \n",
       "4               Ethnic Studies           5.1             51.9  40000.0   \n",
       "..                         ...           ...              ...      ...   \n",
       "68                     Finance           3.4             34.3  56000.0   \n",
       "69       International Affairs           4.1             53.1  46150.0   \n",
       "70                     History           5.5             53.6  40000.0   \n",
       "71    Engineering Technologies           3.1             45.7  50000.0   \n",
       "72  Miscellaneous Technologies           3.2             52.2  45000.0   \n",
       "\n",
       "        mid  graduate  \n",
       "0   65000.0      20.8  \n",
       "1   63000.0      35.1  \n",
       "2   65000.0      30.5  \n",
       "3   76000.0      41.0  \n",
       "4   67000.0      48.6  \n",
       "..      ...       ...  \n",
       "68  93000.0      30.9  \n",
       "69  79000.0      43.0  \n",
       "70  64000.0      49.5  \n",
       "71  85000.0      24.9  \n",
       "72  80000.0      19.0  \n",
       "\n",
       "[73 rows x 6 columns]"
      ]
     },
     "execution_count": 7,
     "metadata": {},
     "output_type": "execute_result"
    }
   ],
   "source": [
    "labor"
   ]
  },
  {
   "cell_type": "code",
   "execution_count": 8,
   "id": "47ecef3d",
   "metadata": {},
   "outputs": [
    {
     "data": {
      "text/plain": [
       "<Axes: xlabel='early', ylabel='mid'>"
      ]
     },
     "execution_count": 8,
     "metadata": {},
     "output_type": "execute_result"
    },
    {
     "data": {
      "image/png": "[encoded data removed]",
      "text/plain": [
       "<Figure size 640x480 with 1 Axes>"
      ]
     },
     "metadata": {},
     "output_type": "display_data"
    }
   ],
   "source": [
    "labor.plot.scatter(x = \"early\", y=\"mid\")"
   ]
  },
  {
   "cell_type": "code",
   "execution_count": 9,
   "id": "63136cdf",
   "metadata": {},
   "outputs": [],
   "source": [
    "lm = smf.ols(formula = 'mid ~ early', data = labor).fit()"
   ]
  },
  {
   "cell_type": "code",
   "execution_count": 10,
   "id": "38c0d119",
   "metadata": {},
   "outputs": [
    {
     "data": {
      "text/html": [
       "<table class=\"simpletable\">\n",
       "<caption>OLS Regression Results</caption>\n",
       "<tr>\n",
       "  <th>Dep. Variable:</th>           <td>mid</td>       <th>  R-squared:         </th> <td>   0.772</td>\n",
       "</tr>\n",
       "<tr>\n",
       "  <th>Model:</th>                   <td>OLS</td>       <th>  Adj. R-squared:    </th> <td>   0.769</td>\n",
       "</tr>\n",
       "<tr>\n",
       "  <th>Method:</th>             <td>Least Squares</td>  <th>  F-statistic:       </th> <td>   240.7</td>\n",
       "</tr>\n",
       "<tr>\n",
       "  <th>Date:</th>             <td>Mon, 18 Dec 2023</td> <th>  Prob (F-statistic):</th> <td>1.66e-24</td>\n",
       "</tr>\n",
       "<tr>\n",
       "  <th>Time:</th>                 <td>13:13:50</td>     <th>  Log-Likelihood:    </th> <td> -760.09</td>\n",
       "</tr>\n",
       "<tr>\n",
       "  <th>No. Observations:</th>      <td>    73</td>      <th>  AIC:               </th> <td>   1524.</td>\n",
       "</tr>\n",
       "<tr>\n",
       "  <th>Df Residuals:</th>          <td>    71</td>      <th>  BIC:               </th> <td>   1529.</td>\n",
       "</tr>\n",
       "<tr>\n",
       "  <th>Df Model:</th>              <td>     1</td>      <th>                     </th>     <td> </td>   \n",
       "</tr>\n",
       "<tr>\n",
       "  <th>Covariance Type:</th>      <td>nonrobust</td>    <th>                     </th>     <td> </td>   \n",
       "</tr>\n",
       "</table>\n",
       "<table class=\"simpletable\">\n",
       "<tr>\n",
       "      <td></td>         <th>coef</th>     <th>std err</th>      <th>t</th>      <th>P>|t|</th>  <th>[0.025</th>    <th>0.975]</th>  \n",
       "</tr>\n",
       "<tr>\n",
       "  <th>Intercept</th> <td> 7261.1732</td> <td> 4283.986</td> <td>    1.695</td> <td> 0.094</td> <td>-1280.853</td> <td> 1.58e+04</td>\n",
       "</tr>\n",
       "<tr>\n",
       "  <th>early</th>     <td>    1.4305</td> <td>    0.092</td> <td>   15.515</td> <td> 0.000</td> <td>    1.247</td> <td>    1.614</td>\n",
       "</tr>\n",
       "</table>\n",
       "<table class=\"simpletable\">\n",
       "<tr>\n",
       "  <th>Omnibus:</th>       <td>37.985</td> <th>  Durbin-Watson:     </th> <td>   1.426</td>\n",
       "</tr>\n",
       "<tr>\n",
       "  <th>Prob(Omnibus):</th> <td> 0.000</td> <th>  Jarque-Bera (JB):  </th> <td> 182.673</td>\n",
       "</tr>\n",
       "<tr>\n",
       "  <th>Skew:</th>          <td> 1.368</td> <th>  Prob(JB):          </th> <td>2.15e-40</td>\n",
       "</tr>\n",
       "<tr>\n",
       "  <th>Kurtosis:</th>      <td>10.250</td> <th>  Cond. No.          </th> <td>2.08e+05</td>\n",
       "</tr>\n",
       "</table><br/><br/>Notes:<br/>[1] Standard Errors assume that the covariance matrix of the errors is correctly specified.<br/>[2] The condition number is large, 2.08e+05. This might indicate that there are<br/>strong multicollinearity or other numerical problems."
      ],
      "text/latex": [
       "\\begin{center}\n",
       "\\begin{tabular}{lclc}\n",
       "\\toprule\n",
       "\\textbf{Dep. Variable:}    &       mid        & \\textbf{  R-squared:         } &     0.772   \\\\\n",
       "\\textbf{Model:}            &       OLS        & \\textbf{  Adj. R-squared:    } &     0.769   \\\\\n",
       "\\textbf{Method:}           &  Least Squares   & \\textbf{  F-statistic:       } &     240.7   \\\\\n",
       "\\textbf{Date:}             & Mon, 18 Dec 2023 & \\textbf{  Prob (F-statistic):} &  1.66e-24   \\\\\n",
       "\\textbf{Time:}             &     13:13:50     & \\textbf{  Log-Likelihood:    } &   -760.09   \\\\\n",
       "\\textbf{No. Observations:} &          73      & \\textbf{  AIC:               } &     1524.   \\\\\n",
       "\\textbf{Df Residuals:}     &          71      & \\textbf{  BIC:               } &     1529.   \\\\\n",
       "\\textbf{Df Model:}         &           1      & \\textbf{                     } &             \\\\\n",
       "\\textbf{Covariance Type:}  &    nonrobust     & \\textbf{                     } &             \\\\\n",
       "\\bottomrule\n",
       "\\end{tabular}\n",
       "\\begin{tabular}{lcccccc}\n",
       "                   & \\textbf{coef} & \\textbf{std err} & \\textbf{t} & \\textbf{P$> |$t$|$} & \\textbf{[0.025} & \\textbf{0.975]}  \\\\\n",
       "\\midrule\n",
       "\\textbf{Intercept} &    7261.1732  &     4283.986     &     1.695  &         0.094        &    -1280.853    &     1.58e+04     \\\\\n",
       "\\textbf{early}     &       1.4305  &        0.092     &    15.515  &         0.000        &        1.247    &        1.614     \\\\\n",
       "\\bottomrule\n",
       "\\end{tabular}\n",
       "\\begin{tabular}{lclc}\n",
       "\\textbf{Omnibus:}       & 37.985 & \\textbf{  Durbin-Watson:     } &    1.426  \\\\\n",
       "\\textbf{Prob(Omnibus):} &  0.000 & \\textbf{  Jarque-Bera (JB):  } &  182.673  \\\\\n",
       "\\textbf{Skew:}          &  1.368 & \\textbf{  Prob(JB):          } & 2.15e-40  \\\\\n",
       "\\textbf{Kurtosis:}      & 10.250 & \\textbf{  Cond. No.          } & 2.08e+05  \\\\\n",
       "\\bottomrule\n",
       "\\end{tabular}\n",
       "%\\caption{OLS Regression Results}\n",
       "\\end{center}\n",
       "\n",
       "Notes: \\newline\n",
       " [1] Standard Errors assume that the covariance matrix of the errors is correctly specified. \\newline\n",
       " [2] The condition number is large, 2.08e+05. This might indicate that there are \\newline\n",
       " strong multicollinearity or other numerical problems."
      ],
      "text/plain": [
       "<class 'statsmodels.iolib.summary.Summary'>\n",
       "\"\"\"\n",
       "                            OLS Regression Results                            \n",
       "==============================================================================\n",
       "Dep. Variable:                    mid   R-squared:                       0.772\n",
       "Model:                            OLS   Adj. R-squared:                  0.769\n",
       "Method:                 Least Squares   F-statistic:                     240.7\n",
       "Date:                Mon, 18 Dec 2023   Prob (F-statistic):           1.66e-24\n",
       "Time:                        13:13:50   Log-Likelihood:                -760.09\n",
       "No. Observations:                  73   AIC:                             1524.\n",
       "Df Residuals:                      71   BIC:                             1529.\n",
       "Df Model:                           1                                         \n",
       "Covariance Type:            nonrobust                                         \n",
       "==============================================================================\n",
       "                 coef    std err          t      P>|t|      [0.025      0.975]\n",
       "------------------------------------------------------------------------------\n",
       "Intercept   7261.1732   4283.986      1.695      0.094   -1280.853    1.58e+04\n",
       "early          1.4305      0.092     15.515      0.000       1.247       1.614\n",
       "==============================================================================\n",
       "Omnibus:                       37.985   Durbin-Watson:                   1.426\n",
       "Prob(Omnibus):                  0.000   Jarque-Bera (JB):              182.673\n",
       "Skew:                           1.368   Prob(JB):                     2.15e-40\n",
       "Kurtosis:                      10.250   Cond. No.                     2.08e+05\n",
       "==============================================================================\n",
       "\n",
       "Notes:\n",
       "[1] Standard Errors assume that the covariance matrix of the errors is correctly specified.\n",
       "[2] The condition number is large, 2.08e+05. This might indicate that there are\n",
       "strong multicollinearity or other numerical problems.\n",
       "\"\"\""
      ]
     },
     "execution_count": 10,
     "metadata": {},
     "output_type": "execute_result"
    }
   ],
   "source": [
    "lm.summary()"
   ]
  },
  {
   "cell_type": "code",
   "execution_count": 11,
   "id": "8e783b66",
   "metadata": {},
   "outputs": [
    {
     "data": {
      "text/plain": [
       "Intercept    7261.173174\n",
       "early           1.430517\n",
       "dtype: float64"
      ]
     },
     "execution_count": 11,
     "metadata": {},
     "output_type": "execute_result"
    }
   ],
   "source": [
    "lm.params"
   ]
  },
  {
   "cell_type": "code",
   "execution_count": 12,
   "id": "935a4fdd",
   "metadata": {},
   "outputs": [
    {
     "data": {
      "text/plain": [
       "<Axes: xlabel='early', ylabel='mid'>"
      ]
     },
     "execution_count": 12,
     "metadata": {},
     "output_type": "execute_result"
    },
    {
     "data": {
      "image/png": "[encoded data removed]",
      "text/plain": [
       "<Figure size 640x480 with 1 Axes>"
      ]
     },
     "metadata": {},
     "output_type": "display_data"
    }
   ],
   "source": [
    "sns.regplot(x = \"early\", y = \"mid\", data = labor)"
   ]
  },
  {
   "cell_type": "code",
   "execution_count": 13,
   "id": "4a16651b",
   "metadata": {},
   "outputs": [
    {
     "data": {
      "text/plain": [
       "0      518.129603\n",
       "1     2809.681895\n",
       "2     1948.647034\n",
       "3    -2787.044702\n",
       "4     2518.129603\n",
       "         ...     \n",
       "68    5629.850714\n",
       "69    5720.447405\n",
       "70    -481.870397\n",
       "71    6212.955298\n",
       "72    8365.542450\n",
       "Length: 73, dtype: float64"
      ]
     },
     "execution_count": 13,
     "metadata": {},
     "output_type": "execute_result"
    }
   ],
   "source": [
    "lm.resid"
   ]
  },
  {
   "cell_type": "code",
   "execution_count": 14,
   "id": "36ef6f91",
   "metadata": {},
   "outputs": [
    {
     "data": {
      "text/plain": [
       "<Axes: >"
      ]
     },
     "execution_count": 14,
     "metadata": {},
     "output_type": "execute_result"
    },
    {
     "data": {
      "image/png": "[encoded data removed]",
      "text/plain": [
       "<Figure size 640x480 with 1 Axes>"
      ]
     },
     "metadata": {},
     "output_type": "display_data"
    }
   ],
   "source": [
    "lm.resid.hist()"
   ]
  },
  {
   "cell_type": "code",
   "execution_count": 147,
   "id": "3fc80218",
   "metadata": {
    "scrolled": true
   },
   "outputs": [
    {
     "data": {
      "text/plain": [
       "61"
      ]
     },
     "execution_count": 147,
     "metadata": {},
     "output_type": "execute_result"
    }
   ],
   "source": [
    " lm.resid.idxmax()"
   ]
  },
  {
   "cell_type": "code",
   "execution_count": 149,
   "id": "5a3f2853",
   "metadata": {},
   "outputs": [
    {
     "data": {
      "text/plain": [
       "major              Pharmacy\n",
       "unemployment            4.2\n",
       "underemployment        28.3\n",
       "early               40000.0\n",
       "mid                105000.0\n",
       "graduate               62.1\n",
       "Name: 61, dtype: object"
      ]
     },
     "execution_count": 149,
     "metadata": {},
     "output_type": "execute_result"
    }
   ],
   "source": [
    "labor.loc[61]"
   ]
  },
  {
   "cell_type": "code",
   "execution_count": null,
   "id": "8ba8e7c9",
   "metadata": {},
   "outputs": [],
   "source": []
  }
 ],
 "metadata": {
  "kernelspec": {
   "display_name": "Python 3 (ipykernel)",
   "language": "python",
   "name": "python3"
  },
  "language_info": {
   "codemirror_mode": {
    "name": "ipython",
    "version": 3
   },
   "file_extension": ".py",
   "mimetype": "text/x-python",
   "name": "python",
   "nbconvert_exporter": "python",
   "pygments_lexer": "ipython3",
   "version": "3.11.5"
  }
 },
 "nbformat": 4,
 "nbformat_minor": 5
}
