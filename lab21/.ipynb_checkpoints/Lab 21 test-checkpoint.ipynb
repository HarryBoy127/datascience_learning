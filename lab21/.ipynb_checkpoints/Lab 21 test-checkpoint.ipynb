{
 "cells": [
  {
   "cell_type": "markdown",
   "id": "44e80cf6-36e0-4d64-833d-df1487c86aa5",
   "metadata": {},
   "source": [
    "Try running the following cell:"
   ]
  },
  {
   "cell_type": "code",
   "execution_count": null,
   "id": "591dbb50-a504-4a3a-9565-5f8be443b19a",
   "metadata": {},
   "outputs": [],
   "source": [
    "import numpy as np\n",
    "import matplotlib.pyplot as plt\n",
    "import pandas as pd\n",
    "import seaborn as sns\n",
    "import statsmodels.formula.api as smf"
   ]
  },
  {
   "cell_type": "markdown",
   "id": "ce37d692-2b46-43da-a6be-53bb2900f47d",
   "metadata": {},
   "source": [
    "Was there an error?  If so, run the following cell to install the correct version of statsmodel:"
   ]
  },
  {
   "cell_type": "code",
   "execution_count": null,
   "id": "99f2169b-e383-4280-930b-f9aef4c46d65",
   "metadata": {},
   "outputs": [],
   "source": [
    "!pip install --user 'statsmodels==0.10.0'"
   ]
  },
  {
   "cell_type": "markdown",
   "id": "2100be90-2d6c-4b05-b93d-0a4b6de4e71b",
   "metadata": {},
   "source": [
    "When the above cell is finished running (ie. there is a number beside it instead of `[*]`):\n",
    " - click on \"Kernel\" in the top menu\n",
    " - in the \"Kernel\" menu, click on \"Restart Kernel\""
   ]
  },
  {
   "cell_type": "markdown",
   "id": "4e0a6e97-e99a-479e-84aa-d2a80ef315d4",
   "metadata": {},
   "source": [
    "Try running the following cell (same as the first set of import statements):"
   ]
  },
  {
   "cell_type": "code",
   "execution_count": null,
   "id": "4ec8fec4-e7c3-44c7-aa36-8555ec564c4c",
   "metadata": {},
   "outputs": [],
   "source": [
    "import numpy as np\n",
    "import matplotlib.pyplot as plt\n",
    "import pandas as pd\n",
    "import seaborn as sns\n",
    "import statsmodels.formula.api as smf"
   ]
  },
  {
   "cell_type": "markdown",
   "id": "ee827029-eeb5-4b5f-894a-a5a034eff1ba",
   "metadata": {},
   "source": [
    "Let me know if you are still getting an error."
   ]
  },
  {
   "cell_type": "code",
   "execution_count": null,
   "id": "fb5a4941-711a-40ba-b46b-593a98fb4d92",
   "metadata": {},
   "outputs": [],
   "source": []
  }
 ],
 "metadata": {
  "kernelspec": {
   "display_name": "Python 3 (ipykernel)",
   "language": "python",
   "name": "python3"
  },
  "language_info": {
   "codemirror_mode": {
    "name": "ipython",
    "version": 3
   },
   "file_extension": ".py",
   "mimetype": "text/x-python",
   "name": "python",
   "nbconvert_exporter": "python",
   "pygments_lexer": "ipython3",
   "version": "3.9.12"
  }
 },
 "nbformat": 4,
 "nbformat_minor": 5
}
