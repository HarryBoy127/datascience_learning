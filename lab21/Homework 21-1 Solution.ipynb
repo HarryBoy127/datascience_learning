{
 "cells": [
  {
   "cell_type": "markdown",
   "metadata": {},
   "source": [
    "*Replace this text with your own name and a brief description of what this notebook does.*"
   ]
  },
  {
   "cell_type": "markdown",
   "metadata": {},
   "source": [
    "## Homework 21-1:  Linear regression for taxi data.\n",
    "\n",
    "This assignment uses the green taxi trip dataset, and will look at the relationship between the trip distance and the total fare amount (stored in the column `total_amount`).\n",
    "\n",
    "1) Filter your dataframe to remove all trips longer than 100 miles.\n",
    "\n",
    "2) Using trip distance as the independent variable (x) and the total fare amount as the dependent variable (y), do the following:\n",
    "\n",
    "    a) compute a linear model\n",
    "    \n",
    "    b) plot the scatter plot with the regression line\n",
    "\n",
    "    c) plot the histogram of the residuals from (a)"
   ]
  },
  {
   "cell_type": "code",
   "execution_count": 1,
   "metadata": {
    "tags": []
   },
   "outputs": [],
   "source": [
    "import numpy as np\n",
    "import matplotlib.pyplot as plt\n",
    "import pandas as pd\n",
    "import seaborn as sns\n",
    "import statsmodels.formula.api as smf"
   ]
  },
  {
   "cell_type": "markdown",
   "metadata": {},
   "source": [
    "Step 1: Load the data and filter to remove all trips longer than 100 miles"
   ]
  },
  {
   "cell_type": "code",
   "execution_count": 2,
   "metadata": {},
   "outputs": [
    {
     "data": {
      "text/html": [
       "<div>\n",
       "<style scoped>\n",
       "    .dataframe tbody tr th:only-of-type {\n",
       "        vertical-align: middle;\n",
       "    }\n",
       "\n",
       "    .dataframe tbody tr th {\n",
       "        vertical-align: top;\n",
       "    }\n",
       "\n",
       "    .dataframe thead th {\n",
       "        text-align: right;\n",
       "    }\n",
       "</style>\n",
       "<table border=\"1\" class=\"dataframe\">\n",
       "  <thead>\n",
       "    <tr style=\"text-align: right;\">\n",
       "      <th></th>\n",
       "      <th>VendorID</th>\n",
       "      <th>lpep_pickup_datetime</th>\n",
       "      <th>lpep_dropoff_datetime</th>\n",
       "      <th>store_and_fwd_flag</th>\n",
       "      <th>RatecodeID</th>\n",
       "      <th>PULocationID</th>\n",
       "      <th>DOLocationID</th>\n",
       "      <th>passenger_count</th>\n",
       "      <th>trip_distance</th>\n",
       "      <th>fare_amount</th>\n",
       "      <th>extra</th>\n",
       "      <th>mta_tax</th>\n",
       "      <th>tip_amount</th>\n",
       "      <th>tolls_amount</th>\n",
       "      <th>ehail_fee</th>\n",
       "      <th>improvement_surcharge</th>\n",
       "      <th>total_amount</th>\n",
       "      <th>payment_type</th>\n",
       "      <th>trip_type</th>\n",
       "      <th>congestion_surcharge</th>\n",
       "    </tr>\n",
       "  </thead>\n",
       "  <tbody>\n",
       "    <tr>\n",
       "      <th>0</th>\n",
       "      <td>2</td>\n",
       "      <td>09/01/2021 12:00:11 AM</td>\n",
       "      <td>09/01/2021 12:01:39 AM</td>\n",
       "      <td>N</td>\n",
       "      <td>1.0</td>\n",
       "      <td>74</td>\n",
       "      <td>74</td>\n",
       "      <td>1.0</td>\n",
       "      <td>0.02</td>\n",
       "      <td>3.0</td>\n",
       "      <td>0.5</td>\n",
       "      <td>0.5</td>\n",
       "      <td>0.00</td>\n",
       "      <td>0.0</td>\n",
       "      <td>NaN</td>\n",
       "      <td>0.3</td>\n",
       "      <td>4.30</td>\n",
       "      <td>2.0</td>\n",
       "      <td>1.0</td>\n",
       "      <td>0.00</td>\n",
       "    </tr>\n",
       "    <tr>\n",
       "      <th>1</th>\n",
       "      <td>2</td>\n",
       "      <td>09/01/2021 12:00:26 AM</td>\n",
       "      <td>09/01/2021 12:09:38 AM</td>\n",
       "      <td>N</td>\n",
       "      <td>1.0</td>\n",
       "      <td>95</td>\n",
       "      <td>56</td>\n",
       "      <td>1.0</td>\n",
       "      <td>1.41</td>\n",
       "      <td>8.0</td>\n",
       "      <td>0.5</td>\n",
       "      <td>0.5</td>\n",
       "      <td>1.00</td>\n",
       "      <td>0.0</td>\n",
       "      <td>NaN</td>\n",
       "      <td>0.3</td>\n",
       "      <td>10.30</td>\n",
       "      <td>1.0</td>\n",
       "      <td>1.0</td>\n",
       "      <td>0.00</td>\n",
       "    </tr>\n",
       "    <tr>\n",
       "      <th>2</th>\n",
       "      <td>2</td>\n",
       "      <td>09/01/2021 12:01:27 AM</td>\n",
       "      <td>09/01/2021 12:23:14 AM</td>\n",
       "      <td>N</td>\n",
       "      <td>1.0</td>\n",
       "      <td>93</td>\n",
       "      <td>256</td>\n",
       "      <td>1.0</td>\n",
       "      <td>11.07</td>\n",
       "      <td>31.5</td>\n",
       "      <td>0.5</td>\n",
       "      <td>0.5</td>\n",
       "      <td>6.56</td>\n",
       "      <td>0.0</td>\n",
       "      <td>NaN</td>\n",
       "      <td>0.3</td>\n",
       "      <td>39.36</td>\n",
       "      <td>1.0</td>\n",
       "      <td>1.0</td>\n",
       "      <td>0.00</td>\n",
       "    </tr>\n",
       "    <tr>\n",
       "      <th>3</th>\n",
       "      <td>1</td>\n",
       "      <td>09/01/2021 12:01:31 AM</td>\n",
       "      <td>09/01/2021 12:15:14 AM</td>\n",
       "      <td>N</td>\n",
       "      <td>1.0</td>\n",
       "      <td>255</td>\n",
       "      <td>36</td>\n",
       "      <td>1.0</td>\n",
       "      <td>2.80</td>\n",
       "      <td>11.5</td>\n",
       "      <td>1.0</td>\n",
       "      <td>0.5</td>\n",
       "      <td>3.95</td>\n",
       "      <td>0.0</td>\n",
       "      <td>NaN</td>\n",
       "      <td>0.3</td>\n",
       "      <td>17.25</td>\n",
       "      <td>1.0</td>\n",
       "      <td>1.0</td>\n",
       "      <td>0.00</td>\n",
       "    </tr>\n",
       "    <tr>\n",
       "      <th>4</th>\n",
       "      <td>2</td>\n",
       "      <td>09/01/2021 12:02:08 AM</td>\n",
       "      <td>09/01/2021 12:24:51 AM</td>\n",
       "      <td>N</td>\n",
       "      <td>5.0</td>\n",
       "      <td>93</td>\n",
       "      <td>144</td>\n",
       "      <td>4.0</td>\n",
       "      <td>10.64</td>\n",
       "      <td>65.0</td>\n",
       "      <td>0.0</td>\n",
       "      <td>0.0</td>\n",
       "      <td>0.00</td>\n",
       "      <td>0.0</td>\n",
       "      <td>NaN</td>\n",
       "      <td>0.3</td>\n",
       "      <td>68.05</td>\n",
       "      <td>2.0</td>\n",
       "      <td>2.0</td>\n",
       "      <td>2.75</td>\n",
       "    </tr>\n",
       "  </tbody>\n",
       "</table>\n",
       "</div>"
      ],
      "text/plain": [
       "   VendorID    lpep_pickup_datetime   lpep_dropoff_datetime  \\\n",
       "0         2  09/01/2021 12:00:11 AM  09/01/2021 12:01:39 AM   \n",
       "1         2  09/01/2021 12:00:26 AM  09/01/2021 12:09:38 AM   \n",
       "2         2  09/01/2021 12:01:27 AM  09/01/2021 12:23:14 AM   \n",
       "3         1  09/01/2021 12:01:31 AM  09/01/2021 12:15:14 AM   \n",
       "4         2  09/01/2021 12:02:08 AM  09/01/2021 12:24:51 AM   \n",
       "\n",
       "  store_and_fwd_flag  RatecodeID  PULocationID  DOLocationID  passenger_count  \\\n",
       "0                  N         1.0            74            74              1.0   \n",
       "1                  N         1.0            95            56              1.0   \n",
       "2                  N         1.0            93           256              1.0   \n",
       "3                  N         1.0           255            36              1.0   \n",
       "4                  N         5.0            93           144              4.0   \n",
       "\n",
       "   trip_distance  fare_amount  extra  mta_tax  tip_amount  tolls_amount  \\\n",
       "0           0.02          3.0    0.5      0.5        0.00           0.0   \n",
       "1           1.41          8.0    0.5      0.5        1.00           0.0   \n",
       "2          11.07         31.5    0.5      0.5        6.56           0.0   \n",
       "3           2.80         11.5    1.0      0.5        3.95           0.0   \n",
       "4          10.64         65.0    0.0      0.0        0.00           0.0   \n",
       "\n",
       "   ehail_fee  improvement_surcharge  total_amount  payment_type  trip_type  \\\n",
       "0        NaN                    0.3          4.30           2.0        1.0   \n",
       "1        NaN                    0.3         10.30           1.0        1.0   \n",
       "2        NaN                    0.3         39.36           1.0        1.0   \n",
       "3        NaN                    0.3         17.25           1.0        1.0   \n",
       "4        NaN                    0.3         68.05           2.0        2.0   \n",
       "\n",
       "   congestion_surcharge  \n",
       "0                  0.00  \n",
       "1                  0.00  \n",
       "2                  0.00  \n",
       "3                  0.00  \n",
       "4                  2.75  "
      ]
     },
     "execution_count": 2,
     "metadata": {},
     "output_type": "execute_result"
    }
   ],
   "source": [
    "taxi_unfiltered = pd.read_csv(\"../../Data/Sept1_2021_Green_Taxi_Trip_Data.csv\")\n",
    "taxi_unfiltered.head()"
   ]
  },
  {
   "cell_type": "code",
   "execution_count": 3,
   "metadata": {
    "tags": []
   },
   "outputs": [],
   "source": [
    "long_trip_filter = taxi_unfiltered[\"trip_distance\"] <= 100\n",
    "taxi = taxi_unfiltered[long_trip_filter]"
   ]
  },
  {
   "cell_type": "markdown",
   "metadata": {},
   "source": [
    "Step 2: Compute a linear regression with trip distance as the independent variable and total amount as the dependent variable."
   ]
  },
  {
   "cell_type": "code",
   "execution_count": 4,
   "metadata": {},
   "outputs": [
    {
     "data": {
      "text/html": [
       "<table class=\"simpletable\">\n",
       "<caption>OLS Regression Results</caption>\n",
       "<tr>\n",
       "  <th>Dep. Variable:</th>      <td>total_amount</td>   <th>  R-squared:         </th> <td>   0.729</td> \n",
       "</tr>\n",
       "<tr>\n",
       "  <th>Model:</th>                   <td>OLS</td>       <th>  Adj. R-squared:    </th> <td>   0.729</td> \n",
       "</tr>\n",
       "<tr>\n",
       "  <th>Method:</th>             <td>Least Squares</td>  <th>  F-statistic:       </th> <td>   7721.</td> \n",
       "</tr>\n",
       "<tr>\n",
       "  <th>Date:</th>             <td>Sat, 11 Nov 2023</td> <th>  Prob (F-statistic):</th>  <td>  0.00</td>  \n",
       "</tr>\n",
       "<tr>\n",
       "  <th>Time:</th>                 <td>14:37:12</td>     <th>  Log-Likelihood:    </th> <td> -10549.</td> \n",
       "</tr>\n",
       "<tr>\n",
       "  <th>No. Observations:</th>      <td>  2867</td>      <th>  AIC:               </th> <td>2.110e+04</td>\n",
       "</tr>\n",
       "<tr>\n",
       "  <th>Df Residuals:</th>          <td>  2865</td>      <th>  BIC:               </th> <td>2.111e+04</td>\n",
       "</tr>\n",
       "<tr>\n",
       "  <th>Df Model:</th>              <td>     1</td>      <th>                     </th>     <td> </td>    \n",
       "</tr>\n",
       "<tr>\n",
       "  <th>Covariance Type:</th>      <td>nonrobust</td>    <th>                     </th>     <td> </td>    \n",
       "</tr>\n",
       "</table>\n",
       "<table class=\"simpletable\">\n",
       "<tr>\n",
       "        <td></td>           <th>coef</th>     <th>std err</th>      <th>t</th>      <th>P>|t|</th>  <th>[0.025</th>    <th>0.975]</th>  \n",
       "</tr>\n",
       "<tr>\n",
       "  <th>Intercept</th>     <td>   11.0856</td> <td>    0.241</td> <td>   45.981</td> <td> 0.000</td> <td>   10.613</td> <td>   11.558</td>\n",
       "</tr>\n",
       "<tr>\n",
       "  <th>trip_distance</th> <td>    2.9029</td> <td>    0.033</td> <td>   87.868</td> <td> 0.000</td> <td>    2.838</td> <td>    2.968</td>\n",
       "</tr>\n",
       "</table>\n",
       "<table class=\"simpletable\">\n",
       "<tr>\n",
       "  <th>Omnibus:</th>       <td>975.028</td> <th>  Durbin-Watson:     </th>  <td>   1.966</td> \n",
       "</tr>\n",
       "<tr>\n",
       "  <th>Prob(Omnibus):</th> <td> 0.000</td>  <th>  Jarque-Bera (JB):  </th> <td>288130.849</td>\n",
       "</tr>\n",
       "<tr>\n",
       "  <th>Skew:</th>          <td>-0.126</td>  <th>  Prob(JB):          </th>  <td>    0.00</td> \n",
       "</tr>\n",
       "<tr>\n",
       "  <th>Kurtosis:</th>      <td>52.111</td>  <th>  Cond. No.          </th>  <td>    9.90</td> \n",
       "</tr>\n",
       "</table><br/><br/>Notes:<br/>[1] Standard Errors assume that the covariance matrix of the errors is correctly specified."
      ],
      "text/latex": [
       "\\begin{center}\n",
       "\\begin{tabular}{lclc}\n",
       "\\toprule\n",
       "\\textbf{Dep. Variable:}    &  total\\_amount   & \\textbf{  R-squared:         } &     0.729   \\\\\n",
       "\\textbf{Model:}            &       OLS        & \\textbf{  Adj. R-squared:    } &     0.729   \\\\\n",
       "\\textbf{Method:}           &  Least Squares   & \\textbf{  F-statistic:       } &     7721.   \\\\\n",
       "\\textbf{Date:}             & Sat, 11 Nov 2023 & \\textbf{  Prob (F-statistic):} &     0.00    \\\\\n",
       "\\textbf{Time:}             &     14:37:12     & \\textbf{  Log-Likelihood:    } &   -10549.   \\\\\n",
       "\\textbf{No. Observations:} &        2867      & \\textbf{  AIC:               } & 2.110e+04   \\\\\n",
       "\\textbf{Df Residuals:}     &        2865      & \\textbf{  BIC:               } & 2.111e+04   \\\\\n",
       "\\textbf{Df Model:}         &           1      & \\textbf{                     } &             \\\\\n",
       "\\textbf{Covariance Type:}  &    nonrobust     & \\textbf{                     } &             \\\\\n",
       "\\bottomrule\n",
       "\\end{tabular}\n",
       "\\begin{tabular}{lcccccc}\n",
       "                        & \\textbf{coef} & \\textbf{std err} & \\textbf{t} & \\textbf{P$> |$t$|$} & \\textbf{[0.025} & \\textbf{0.975]}  \\\\\n",
       "\\midrule\n",
       "\\textbf{Intercept}      &      11.0856  &        0.241     &    45.981  &         0.000        &       10.613    &       11.558     \\\\\n",
       "\\textbf{trip\\_distance} &       2.9029  &        0.033     &    87.868  &         0.000        &        2.838    &        2.968     \\\\\n",
       "\\bottomrule\n",
       "\\end{tabular}\n",
       "\\begin{tabular}{lclc}\n",
       "\\textbf{Omnibus:}       & 975.028 & \\textbf{  Durbin-Watson:     } &     1.966   \\\\\n",
       "\\textbf{Prob(Omnibus):} &   0.000 & \\textbf{  Jarque-Bera (JB):  } & 288130.849  \\\\\n",
       "\\textbf{Skew:}          &  -0.126 & \\textbf{  Prob(JB):          } &      0.00   \\\\\n",
       "\\textbf{Kurtosis:}      &  52.111 & \\textbf{  Cond. No.          } &      9.90   \\\\\n",
       "\\bottomrule\n",
       "\\end{tabular}\n",
       "%\\caption{OLS Regression Results}\n",
       "\\end{center}\n",
       "\n",
       "Notes: \\newline\n",
       " [1] Standard Errors assume that the covariance matrix of the errors is correctly specified."
      ],
      "text/plain": [
       "<class 'statsmodels.iolib.summary.Summary'>\n",
       "\"\"\"\n",
       "                            OLS Regression Results                            \n",
       "==============================================================================\n",
       "Dep. Variable:           total_amount   R-squared:                       0.729\n",
       "Model:                            OLS   Adj. R-squared:                  0.729\n",
       "Method:                 Least Squares   F-statistic:                     7721.\n",
       "Date:                Sat, 11 Nov 2023   Prob (F-statistic):               0.00\n",
       "Time:                        14:37:12   Log-Likelihood:                -10549.\n",
       "No. Observations:                2867   AIC:                         2.110e+04\n",
       "Df Residuals:                    2865   BIC:                         2.111e+04\n",
       "Df Model:                           1                                         \n",
       "Covariance Type:            nonrobust                                         \n",
       "=================================================================================\n",
       "                    coef    std err          t      P>|t|      [0.025      0.975]\n",
       "---------------------------------------------------------------------------------\n",
       "Intercept        11.0856      0.241     45.981      0.000      10.613      11.558\n",
       "trip_distance     2.9029      0.033     87.868      0.000       2.838       2.968\n",
       "==============================================================================\n",
       "Omnibus:                      975.028   Durbin-Watson:                   1.966\n",
       "Prob(Omnibus):                  0.000   Jarque-Bera (JB):           288130.849\n",
       "Skew:                          -0.126   Prob(JB):                         0.00\n",
       "Kurtosis:                      52.111   Cond. No.                         9.90\n",
       "==============================================================================\n",
       "\n",
       "Notes:\n",
       "[1] Standard Errors assume that the covariance matrix of the errors is correctly specified.\n",
       "\"\"\""
      ]
     },
     "execution_count": 4,
     "metadata": {},
     "output_type": "execute_result"
    }
   ],
   "source": [
    "lm = smf.ols(formula = 'total_amount ~ trip_distance', data = taxi).fit()\n",
    "lm.summary()"
   ]
  },
  {
   "cell_type": "code",
   "execution_count": 6,
   "metadata": {
    "tags": []
   },
   "outputs": [
    {
     "data": {
      "text/plain": [
       "Text(0.5, 1.0, 'Relationship between green taxi trip distance and total fare amount')"
      ]
     },
     "execution_count": 6,
     "metadata": {},
     "output_type": "execute_result"
    },
    {
     "data": {
      "image/png": "[encoded data removed]",
      "text/plain": [
       "<Figure size 640x480 with 1 Axes>"
      ]
     },
     "metadata": {},
     "output_type": "display_data"
    }
   ],
   "source": [
    "sns.regplot(x = \"trip_distance\", y = \"total_amount\",data = taxi)\n",
    "plt.xlabel(\"Trip distance (miles)\")\n",
    "plt.ylabel(\"Total amount ($)\")\n",
    "plt.title(\"Relationship between green taxi trip distance and total fare amount\")"
   ]
  },
  {
   "cell_type": "code",
   "execution_count": 7,
   "metadata": {},
   "outputs": [
    {
     "data": {
      "text/plain": [
       "Text(0, 0.5, 'Frequency')"
      ]
     },
     "execution_count": 7,
     "metadata": {},
     "output_type": "execute_result"
    },
    {
     "data": {
      "image/png": "[encoded data removed]",
      "text/plain": [
       "<Figure size 640x480 with 1 Axes>"
      ]
     },
     "metadata": {},
     "output_type": "display_data"
    }
   ],
   "source": [
    "lm.resid.hist(bins = 100)\n",
    "plt.xlabel(\"Residuals\")\n",
    "plt.ylabel(\"Frequency\")"
   ]
  },
  {
   "cell_type": "markdown",
   "metadata": {},
   "source": [
    "1. What is the equation of the linear regression line?\n",
    "2. Based on the histgram of the residuals, is the linear model a good fit?  That is, do the residuals appear to have a normal distribution?\n",
    "3.  According to your linear model, for each mile increase in the trip distance, how much does the total fare incease by?\n",
    "\n",
    "Write your answers below."
   ]
  },
  {
   "cell_type": "markdown",
   "metadata": {},
   "source": [
    "1. y = 2.9029x + 11.0856\n",
    "2. Yes, the residuals have an approximately normal distribution, so the model appears to be a good fit.\n",
    "3. $2.90"
   ]
  },
  {
   "cell_type": "code",
   "execution_count": null,
   "metadata": {},
   "outputs": [],
   "source": []
  }
 ],
 "metadata": {
  "kernelspec": {
   "display_name": "Python 3 (ipykernel)",
   "language": "python",
   "name": "python3"
  },
  "language_info": {
   "codemirror_mode": {
    "name": "ipython",
    "version": 3
   },
   "file_extension": ".py",
   "mimetype": "text/x-python",
   "name": "python",
   "nbconvert_exporter": "python",
   "pygments_lexer": "ipython3",
   "version": "3.11.4"
  }
 },
 "nbformat": 4,
 "nbformat_minor": 4
}
