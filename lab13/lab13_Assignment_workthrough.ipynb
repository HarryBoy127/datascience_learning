{
 "cells": [
  {
   "cell_type": "markdown",
   "id": "37286d45",
   "metadata": {},
   "source": [
    "Suppose a drug company claims an allergy drug helps 75% of people.\n",
    "\n",
    "Simulate 2,000 samples of size 50, with each sample representing 50 people who suffer from allergies. Assume the drug has a 75% chance of helping each person.\n",
    "\n",
    "Plot a histogram of the number people helped by the drug in each sample. Your histogram should have a title, and x and y axis labels. This assignment is similar to Lab 13."
   ]
  },
  {
   "cell_type": "code",
   "execution_count": 1,
   "id": "e6524023",
   "metadata": {},
   "outputs": [],
   "source": [
    "import numpy as np\n",
    "import matplotlib.pyplot as plt\n",
    "import pandas as pd\n",
    "%matplotlib inline"
   ]
  },
  {
   "cell_type": "code",
   "execution_count": 2,
   "id": "bf98936c",
   "metadata": {},
   "outputs": [],
   "source": [
    "population = [\"Allergy\",\"Non Allergy\"]\n",
    "pop_prob = [0.75, 1-0.75]"
   ]
  },
  {
   "cell_type": "code",
   "execution_count": 3,
   "id": "fcc3b861",
   "metadata": {},
   "outputs": [],
   "source": [
    "sample = np.random.choice(population, p = pop_prob, size = 100)\n",
    "counts = pd.Series(sample).value_counts()"
   ]
  },
  {
   "cell_type": "code",
   "execution_count": 5,
   "id": "28422ea6",
   "metadata": {},
   "outputs": [
    {
     "data": {
      "text/plain": [
       "76"
      ]
     },
     "execution_count": 5,
     "metadata": {},
     "output_type": "execute_result"
    }
   ],
   "source": [
    "counts[\"Allergy\"]"
   ]
  },
  {
   "cell_type": "code",
   "execution_count": 6,
   "id": "95003507",
   "metadata": {},
   "outputs": [
    {
     "data": {
      "text/plain": [
       "<Axes: >"
      ]
     },
     "execution_count": 6,
     "metadata": {},
     "output_type": "execute_result"
    },
    {
     "data": {
      "image/png": "[encoded data removed]",
      "text/plain": [
       "<Figure size 640x480 with 1 Axes>"
      ]
     },
     "metadata": {},
     "output_type": "display_data"
    }
   ],
   "source": [
    "counts = []\n",
    "for i in range(2000):\n",
    "    sample = np.random.choice(population, p = pop_prob, size = 100)\n",
    "    sample_counts = pd.Series(sample).value_counts()\n",
    "    num_Allergy = sample_counts[\"Allergy\"]\n",
    "    counts.append(num_Allergy)\n",
    "pd.Series(counts).hist()\n",
    "    "
   ]
  },
  {
   "cell_type": "code",
   "execution_count": null,
   "id": "f99a5223",
   "metadata": {},
   "outputs": [],
   "source": []
  }
 ],
 "metadata": {
  "kernelspec": {
   "display_name": "Python 3 (ipykernel)",
   "language": "python",
   "name": "python3"
  },
  "language_info": {
   "codemirror_mode": {
    "name": "ipython",
    "version": 3
   },
   "file_extension": ".py",
   "mimetype": "text/x-python",
   "name": "python",
   "nbconvert_exporter": "python",
   "pygments_lexer": "ipython3",
   "version": "3.11.5"
  }
 },
 "nbformat": 4,
 "nbformat_minor": 5
}
