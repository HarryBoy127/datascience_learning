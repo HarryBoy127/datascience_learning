{
 "cells": [
  {
   "cell_type": "markdown",
   "metadata": {},
   "source": [
    "*Replace this text with your own name and a brief description of what this notebook does.*"
   ]
  },
  {
   "cell_type": "markdown",
   "metadata": {},
   "source": [
    "## Assignment 13-1 - Drug effectiveness \n",
    "\n",
    "Suppose a drug company claims an allergy drug helps 75% of people.\n",
    "\n",
    "Simulate 2,000 samples of size 50, with each sample representing 50 people who suffer from allergies.  Assume the drug has a 75% chance of helping each person.\n",
    "\n",
    "Plot a histogram of the number people helped by the drug in each sample.  Your histogram should have a title, and x and y axis labels.  This assignment is similar to Lab 13."
   ]
  },
  {
   "cell_type": "code",
   "execution_count": 4,
   "metadata": {
    "collapsed": true
   },
   "outputs": [],
   "source": [
    "import numpy as np\n",
    "import pandas as pd\n",
    "import matplotlib.pyplot as plt\n",
    "%matplotlib inline\n",
    "\n",
    "# initialize the population\n",
    "population = [\"helps\",\"doesn't help\"]\n",
    "pop_probs = [0.75,0.25]"
   ]
  },
  {
   "cell_type": "code",
   "execution_count": 5,
   "metadata": {
    "collapsed": true
   },
   "outputs": [],
   "source": [
    "# initialize an empty list to store the counts\n",
    "helps_counts = []\n",
    "# loop 10,000 times\n",
    "for i in range(2000):\n",
    "    # simulate a random sample of 50 people\n",
    "    sample = np.random.choice(population,p=pop_probs,size = 50)\n",
    "    # count how many people were helped\n",
    "    sample_counts = pd.Series(sample).value_counts()\n",
    "    num_helped = sample_counts[\"helps\"]\n",
    "    # add the count for this sample to the list\n",
    "    helps_counts.append(num_helped)"
   ]
  },
  {
   "cell_type": "code",
   "execution_count": 8,
   "metadata": {},
   "outputs": [
    {
     "data": {
      "text/plain": [
       "Text(0.5,1,'Simulation of 2,000 samples of allergy drug effectiveness')"
      ]
     },
     "execution_count": 8,
     "metadata": {},
     "output_type": "execute_result"
    },
    {
     "data": {
      "image/png": "[encoded data removed]",
      "text/plain": [
       "<matplotlib.figure.Figure at 0x1176a0358>"
      ]
     },
     "metadata": {},
     "output_type": "display_data"
    }
   ],
   "source": [
    "# change the counts into a Pandas series, and plot as a histogram\n",
    "pd.Series(helps_counts).hist()\n",
    "plt.xlabel(\"# of people helped\")\n",
    "plt.ylabel(\"# of simulation\")\n",
    "plt.title(\"Simulation of 2,000 samples of allergy drug effectiveness\")"
   ]
  },
  {
   "cell_type": "markdown",
   "metadata": {},
   "source": [
    "1. Looking at your histogram, what is the median number of people helped by the allergy drug?\n",
    "2. If you re-run your simulation several times, what features of the histogram stay the same?  Which features change?\n",
    "\n",
    "Write your answers below."
   ]
  },
  {
   "cell_type": "markdown",
   "metadata": {},
   "source": [
    "1. From the histogram, the median number of people helped is around 38.\n",
    "2. The range of simulated counts stays roughly the same.  As well, the shape of the histogram remained similar - symmetric with a single peak in the middle."
   ]
  },
  {
   "cell_type": "markdown",
   "metadata": {},
   "source": [
    " "
   ]
  }
 ],
 "metadata": {
  "kernelspec": {
   "display_name": "Python 3",
   "language": "python",
   "name": "python3"
  },
  "language_info": {
   "codemirror_mode": {
    "name": "ipython",
    "version": 3
   },
   "file_extension": ".py",
   "mimetype": "text/x-python",
   "name": "python",
   "nbconvert_exporter": "python",
   "pygments_lexer": "ipython3",
   "version": "3.6.3"
  }
 },
 "nbformat": 4,
 "nbformat_minor": 2
}
