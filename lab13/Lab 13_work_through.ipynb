{
 "cells": [
  {
   "cell_type": "code",
   "execution_count": 87,
   "id": "0acdc8ba",
   "metadata": {},
   "outputs": [],
   "source": [
    "import numpy as np\n",
    "import matplotlib.pyplot as plt\n",
    "import pandas as pd\n",
    "%matplotlib inline"
   ]
  },
  {
   "cell_type": "code",
   "execution_count": 88,
   "id": "b97c5ee2",
   "metadata": {},
   "outputs": [],
   "source": [
    "population = [\"Smoker\", \"non-Smoker\"]\n",
    "pop_prob = [0.116, 1-0.116]"
   ]
  },
  {
   "cell_type": "code",
   "execution_count": 89,
   "id": "2b0ba986",
   "metadata": {},
   "outputs": [],
   "source": [
    "sample_array = np.random.choice(population,p=pop_prob,size=100)"
   ]
  },
  {
   "cell_type": "code",
   "execution_count": 90,
   "id": "96f68b4e",
   "metadata": {},
   "outputs": [
    {
     "data": {
      "text/plain": [
       "array(['non-Smoker', 'non-Smoker', 'non-Smoker', 'non-Smoker',\n",
       "       'non-Smoker', 'non-Smoker', 'non-Smoker', 'non-Smoker',\n",
       "       'non-Smoker', 'non-Smoker', 'Smoker', 'non-Smoker', 'non-Smoker',\n",
       "       'non-Smoker', 'non-Smoker', 'non-Smoker', 'non-Smoker',\n",
       "       'non-Smoker', 'non-Smoker', 'non-Smoker', 'non-Smoker',\n",
       "       'non-Smoker', 'non-Smoker', 'Smoker', 'non-Smoker', 'non-Smoker',\n",
       "       'non-Smoker', 'non-Smoker', 'non-Smoker', 'non-Smoker',\n",
       "       'non-Smoker', 'non-Smoker', 'non-Smoker', 'Smoker', 'non-Smoker',\n",
       "       'non-Smoker', 'non-Smoker', 'non-Smoker', 'non-Smoker',\n",
       "       'non-Smoker', 'non-Smoker', 'non-Smoker', 'non-Smoker',\n",
       "       'non-Smoker', 'non-Smoker', 'non-Smoker', 'non-Smoker',\n",
       "       'non-Smoker', 'non-Smoker', 'non-Smoker', 'Smoker', 'non-Smoker',\n",
       "       'non-Smoker', 'non-Smoker', 'non-Smoker', 'Smoker', 'non-Smoker',\n",
       "       'non-Smoker', 'non-Smoker', 'non-Smoker', 'non-Smoker',\n",
       "       'non-Smoker', 'non-Smoker', 'non-Smoker', 'non-Smoker',\n",
       "       'non-Smoker', 'non-Smoker', 'non-Smoker', 'non-Smoker',\n",
       "       'non-Smoker', 'non-Smoker', 'non-Smoker', 'non-Smoker',\n",
       "       'non-Smoker', 'non-Smoker', 'non-Smoker', 'Smoker', 'non-Smoker',\n",
       "       'non-Smoker', 'non-Smoker', 'non-Smoker', 'non-Smoker',\n",
       "       'non-Smoker', 'non-Smoker', 'non-Smoker', 'non-Smoker',\n",
       "       'non-Smoker', 'non-Smoker', 'non-Smoker', 'non-Smoker',\n",
       "       'non-Smoker', 'non-Smoker', 'non-Smoker', 'non-Smoker',\n",
       "       'non-Smoker', 'non-Smoker', 'non-Smoker', 'Smoker', 'non-Smoker',\n",
       "       'non-Smoker'], dtype='<U10')"
      ]
     },
     "execution_count": 90,
     "metadata": {},
     "output_type": "execute_result"
    }
   ],
   "source": [
    "sample_array"
   ]
  },
  {
   "cell_type": "code",
   "execution_count": 91,
   "id": "bf18cb0f",
   "metadata": {},
   "outputs": [],
   "source": [
    "sample_array = np.random.choice(population,p=pop_prob,size=100)\n",
    "counts = pd.Series(sample_array).value_counts()"
   ]
  },
  {
   "cell_type": "code",
   "execution_count": 92,
   "id": "2ee34d4c",
   "metadata": {},
   "outputs": [
    {
     "data": {
      "text/plain": [
       "20"
      ]
     },
     "execution_count": 92,
     "metadata": {},
     "output_type": "execute_result"
    }
   ],
   "source": [
    "counts[\"Smoker\"]"
   ]
  },
  {
   "cell_type": "code",
   "execution_count": 93,
   "id": "8cbbcdaa",
   "metadata": {},
   "outputs": [],
   "source": [
    "counts = []\n",
    "for i in range(200):\n",
    "    sample = np.random.choice(population, p=pop_prob, size=100)\n",
    "    sample_counts = pd.Series(sample).value_counts()\n",
    "    num_Smoker= sample_counts[\"Smoker\"]\n",
    "    counts.append(num_Smoker)"
   ]
  },
  {
   "cell_type": "code",
   "execution_count": 94,
   "id": "80429ba1",
   "metadata": {},
   "outputs": [
    {
     "data": {
      "text/plain": [
       "<Axes: >"
      ]
     },
     "execution_count": 94,
     "metadata": {},
     "output_type": "execute_result"
    },
    {
     "data": {
      "image/png": "[encoded data removed]",
      "text/plain": [
       "<Figure size 640x480 with 1 Axes>"
      ]
     },
     "metadata": {},
     "output_type": "display_data"
    }
   ],
   "source": [
    "pd.Series(counts).hist(bins = 20)"
   ]
  },
  {
   "cell_type": "code",
   "execution_count": 95,
   "id": "2c0d3764",
   "metadata": {},
   "outputs": [],
   "source": [
    "pop2 = [\"boy\", \"girl\"]\n",
    "pop2_prob = [0.512, 1-0.512]"
   ]
  },
  {
   "cell_type": "code",
   "execution_count": 96,
   "id": "38584ff2",
   "metadata": {},
   "outputs": [],
   "source": [
    "sample_array = np.random.choice(pop2, p=pop2_prob,size = 100)\n",
    "counts = pd.Series(sample_array).value_counts()"
   ]
  },
  {
   "cell_type": "code",
   "execution_count": 97,
   "id": "d767bf89",
   "metadata": {},
   "outputs": [
    {
     "data": {
      "text/plain": [
       "52"
      ]
     },
     "execution_count": 97,
     "metadata": {},
     "output_type": "execute_result"
    }
   ],
   "source": [
    "counts[\"boy\"]"
   ]
  },
  {
   "cell_type": "code",
   "execution_count": 98,
   "id": "6c4edd84",
   "metadata": {},
   "outputs": [
    {
     "data": {
      "text/plain": [
       "<Axes: >"
      ]
     },
     "execution_count": 98,
     "metadata": {},
     "output_type": "execute_result"
    },
    {
     "data": {
      "image/png": "[encoded data removed]",
      "text/plain": [
       "<Figure size 640x480 with 1 Axes>"
      ]
     },
     "metadata": {},
     "output_type": "display_data"
    }
   ],
   "source": [
    "boy_counts = []\n",
    "for i in range(250):\n",
    "    sample = np.random.choice(pop2, p=pop2_prob,size = 100)\n",
    "    sample_counts = pd.Series(sample).value_counts()\n",
    "    num_boys = sample_counts[\"boy\"]\n",
    "    boy_counts.append(num_boys)\n",
    "pd.Series(boy_counts).hist()"
   ]
  },
  {
   "cell_type": "code",
   "execution_count": null,
   "id": "80d443c4",
   "metadata": {},
   "outputs": [],
   "source": []
  }
 ],
 "metadata": {
  "kernelspec": {
   "display_name": "Python 3 (ipykernel)",
   "language": "python",
   "name": "python3"
  },
  "language_info": {
   "codemirror_mode": {
    "name": "ipython",
    "version": 3
   },
   "file_extension": ".py",
   "mimetype": "text/x-python",
   "name": "python",
   "nbconvert_exporter": "python",
   "pygments_lexer": "ipython3",
   "version": "3.11.5"
  }
 },
 "nbformat": 4,
 "nbformat_minor": 5
}
