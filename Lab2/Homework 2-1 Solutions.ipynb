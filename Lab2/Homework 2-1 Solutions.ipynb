{
 "cells": [
  {
   "cell_type": "markdown",
   "metadata": {},
   "source": [
    "*Replace this text with your own name and a brief description of what this notebook does.*"
   ]
  },
  {
   "cell_type": "markdown",
   "metadata": {},
   "source": [
    "## Homework 2-1 Solutions\n",
    "\n",
    "Write a piece of code that plots a line graph of the proportion of individuals in shelter who are single adults using the DHS Daily Report dataset that you downloaded in Lab 2."
   ]
  },
  {
   "cell_type": "code",
   "execution_count": 2,
   "metadata": {},
   "outputs": [
    {
     "data": {
      "text/html": [
       "<div>\n",
       "<style scoped>\n",
       "    .dataframe tbody tr th:only-of-type {\n",
       "        vertical-align: middle;\n",
       "    }\n",
       "\n",
       "    .dataframe tbody tr th {\n",
       "        vertical-align: top;\n",
       "    }\n",
       "\n",
       "    .dataframe thead th {\n",
       "        text-align: right;\n",
       "    }\n",
       "</style>\n",
       "<table border=\"1\" class=\"dataframe\">\n",
       "  <thead>\n",
       "    <tr style=\"text-align: right;\">\n",
       "      <th></th>\n",
       "      <th>Date of Census</th>\n",
       "      <th>Total Adults in Shelter</th>\n",
       "      <th>Total Children in Shelter</th>\n",
       "      <th>Total Individuals in Shelter</th>\n",
       "      <th>Single Adult Men in Shelter</th>\n",
       "      <th>Single Adult Women in Shelter</th>\n",
       "      <th>Total Single Adults in Shelter</th>\n",
       "      <th>Families with Children in Shelter</th>\n",
       "      <th>Adults in Families with Children in Shelter</th>\n",
       "      <th>Children in Families with Children in Shelter</th>\n",
       "      <th>Total Individuals in Families with Children in Shelter</th>\n",
       "      <th>Adult Families in Shelter</th>\n",
       "      <th>Individuals in Adult Families in Shelter</th>\n",
       "    </tr>\n",
       "  </thead>\n",
       "  <tbody>\n",
       "    <tr>\n",
       "      <th>0</th>\n",
       "      <td>2023-08-25</td>\n",
       "      <td>52687</td>\n",
       "      <td>29921</td>\n",
       "      <td>82608</td>\n",
       "      <td>15396</td>\n",
       "      <td>4748</td>\n",
       "      <td>20144</td>\n",
       "      <td>17464</td>\n",
       "      <td>27457</td>\n",
       "      <td>29921</td>\n",
       "      <td>57378</td>\n",
       "      <td>2389</td>\n",
       "      <td>5086</td>\n",
       "    </tr>\n",
       "    <tr>\n",
       "      <th>1</th>\n",
       "      <td>2023-08-24</td>\n",
       "      <td>53315</td>\n",
       "      <td>29821</td>\n",
       "      <td>83136</td>\n",
       "      <td>15580</td>\n",
       "      <td>4783</td>\n",
       "      <td>20363</td>\n",
       "      <td>17395</td>\n",
       "      <td>27347</td>\n",
       "      <td>29821</td>\n",
       "      <td>57168</td>\n",
       "      <td>2638</td>\n",
       "      <td>5605</td>\n",
       "    </tr>\n",
       "    <tr>\n",
       "      <th>2</th>\n",
       "      <td>2023-08-23</td>\n",
       "      <td>53215</td>\n",
       "      <td>29738</td>\n",
       "      <td>82953</td>\n",
       "      <td>15564</td>\n",
       "      <td>4774</td>\n",
       "      <td>20338</td>\n",
       "      <td>17365</td>\n",
       "      <td>27295</td>\n",
       "      <td>29738</td>\n",
       "      <td>57033</td>\n",
       "      <td>2628</td>\n",
       "      <td>5582</td>\n",
       "    </tr>\n",
       "    <tr>\n",
       "      <th>3</th>\n",
       "      <td>2023-08-22</td>\n",
       "      <td>53112</td>\n",
       "      <td>29691</td>\n",
       "      <td>82803</td>\n",
       "      <td>15446</td>\n",
       "      <td>4746</td>\n",
       "      <td>20192</td>\n",
       "      <td>17334</td>\n",
       "      <td>27263</td>\n",
       "      <td>29691</td>\n",
       "      <td>56954</td>\n",
       "      <td>2665</td>\n",
       "      <td>5657</td>\n",
       "    </tr>\n",
       "    <tr>\n",
       "      <th>4</th>\n",
       "      <td>2023-08-21</td>\n",
       "      <td>53227</td>\n",
       "      <td>29619</td>\n",
       "      <td>82846</td>\n",
       "      <td>15621</td>\n",
       "      <td>4743</td>\n",
       "      <td>20364</td>\n",
       "      <td>17293</td>\n",
       "      <td>27198</td>\n",
       "      <td>29619</td>\n",
       "      <td>56817</td>\n",
       "      <td>2668</td>\n",
       "      <td>5665</td>\n",
       "    </tr>\n",
       "  </tbody>\n",
       "</table>\n",
       "</div>"
      ],
      "text/plain": [
       "  Date of Census  Total Adults in Shelter  Total Children in Shelter  \\\n",
       "0     2023-08-25                    52687                      29921   \n",
       "1     2023-08-24                    53315                      29821   \n",
       "2     2023-08-23                    53215                      29738   \n",
       "3     2023-08-22                    53112                      29691   \n",
       "4     2023-08-21                    53227                      29619   \n",
       "\n",
       "   Total Individuals in Shelter  Single Adult Men in Shelter  \\\n",
       "0                         82608                        15396   \n",
       "1                         83136                        15580   \n",
       "2                         82953                        15564   \n",
       "3                         82803                        15446   \n",
       "4                         82846                        15621   \n",
       "\n",
       "   Single Adult Women in Shelter  Total Single Adults in Shelter  \\\n",
       "0                           4748                           20144   \n",
       "1                           4783                           20363   \n",
       "2                           4774                           20338   \n",
       "3                           4746                           20192   \n",
       "4                           4743                           20364   \n",
       "\n",
       "   Families with Children in Shelter  \\\n",
       "0                              17464   \n",
       "1                              17395   \n",
       "2                              17365   \n",
       "3                              17334   \n",
       "4                              17293   \n",
       "\n",
       "   Adults in Families with Children in Shelter  \\\n",
       "0                                        27457   \n",
       "1                                        27347   \n",
       "2                                        27295   \n",
       "3                                        27263   \n",
       "4                                        27198   \n",
       "\n",
       "   Children in Families with Children in Shelter  \\\n",
       "0                                          29921   \n",
       "1                                          29821   \n",
       "2                                          29738   \n",
       "3                                          29691   \n",
       "4                                          29619   \n",
       "\n",
       "   Total Individuals in Families with Children in Shelter   \\\n",
       "0                                              57378         \n",
       "1                                              57168         \n",
       "2                                              57033         \n",
       "3                                              56954         \n",
       "4                                              56817         \n",
       "\n",
       "   Adult Families in Shelter  Individuals in Adult Families in Shelter  \n",
       "0                       2389                                      5086  \n",
       "1                       2638                                      5605  \n",
       "2                       2628                                      5582  \n",
       "3                       2665                                      5657  \n",
       "4                       2668                                      5665  "
      ]
     },
     "execution_count": 2,
     "metadata": {},
     "output_type": "execute_result"
    }
   ],
   "source": [
    "import matplotlib.pyplot as plt\n",
    "import pandas as pd\n",
    "%matplotlib inline\n",
    "\n",
    "shelter = pd.read_csv(\"../../data/DHS_Daily_Report.csv\",parse_dates=[\"Date of Census\"])\n",
    "shelter.head()"
   ]
  },
  {
   "cell_type": "code",
   "execution_count": 3,
   "metadata": {},
   "outputs": [
    {
     "data": {
      "text/plain": [
       "<AxesSubplot:xlabel='Date of Census'>"
      ]
     },
     "execution_count": 3,
     "metadata": {},
     "output_type": "execute_result"
    },
    {
     "data": {
      "image/png": "[encoded data removed]",
      "text/plain": [
       "<Figure size 432x288 with 1 Axes>"
      ]
     },
     "metadata": {
      "needs_background": "light"
     },
     "output_type": "display_data"
    }
   ],
   "source": [
    "shelter[\"Proportion of single adults\"] = shelter[\"Total Single Adults in Shelter\"]/shelter[\"Total Individuals in Shelter\"]\n",
    "shelter.plot(x = \"Date of Census\", y = \"Proportion of single adults\")"
   ]
  },
  {
   "cell_type": "markdown",
   "metadata": {},
   "source": [
    "1. What was the pre-pandemic trend in the proportion of individuals in shelter who are single adults over time?  \n",
    "2. How did the proportion of indivuals in shelter who are single adults change during the pandemic (both early and later in the pandemic)?  \n",
    "\n",
    "Write your answers below."
   ]
  },
  {
   "cell_type": "markdown",
   "metadata": {},
   "source": [
    " 1. Pre-pandemic, the proportion of individuals in shelter who are single adults was slowly increasing from around 0.2 to around 0.275.\n",
    " 2. The proportion of proportion of individuals in shelter who are single adults increased steadily in the early pandemic to around 0.365, and then decrease steadily as the pandemic came to an end."
   ]
  },
  {
   "cell_type": "code",
   "execution_count": null,
   "metadata": {},
   "outputs": [],
   "source": []
  }
 ],
 "metadata": {
  "kernelspec": {
   "display_name": "Python 3 (ipykernel)",
   "language": "python",
   "name": "python3"
  },
  "language_info": {
   "codemirror_mode": {
    "name": "ipython",
    "version": 3
   },
   "file_extension": ".py",
   "mimetype": "text/x-python",
   "name": "python",
   "nbconvert_exporter": "python",
   "pygments_lexer": "ipython3",
   "version": "3.9.12"
  }
 },
 "nbformat": 4,
 "nbformat_minor": 4
}
