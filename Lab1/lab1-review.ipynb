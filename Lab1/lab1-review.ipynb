{
 "cells": [
  {
   "cell_type": "code",
   "execution_count": 5,
   "id": "24adb7d3",
   "metadata": {},
   "outputs": [
    {
     "name": "stdout",
     "output_type": "stream",
     "text": [
      "6\n"
     ]
    }
   ],
   "source": [
    "x,y,z = 1,2,3\n",
    "my_val = 1+2+3 \n",
    "print(my_val)\n"
   ]
  },
  {
   "cell_type": "code",
   "execution_count": 6,
   "id": "3b7ec33f",
   "metadata": {},
   "outputs": [
    {
     "data": {
      "text/plain": [
       "1"
      ]
     },
     "execution_count": 6,
     "metadata": {},
     "output_type": "execute_result"
    }
   ],
   "source": [
    "x"
   ]
  },
  {
   "cell_type": "code",
   "execution_count": 16,
   "id": "f72895d1",
   "metadata": {},
   "outputs": [
    {
     "data": {
      "text/plain": [
       "(1, 2, 3)"
      ]
     },
     "execution_count": 16,
     "metadata": {},
     "output_type": "execute_result"
    }
   ],
   "source": [
    "x,y,z = 1,2,3\n",
    "x,y,z"
   ]
  },
  {
   "cell_type": "markdown",
   "id": "eb2a0d1f",
   "metadata": {},
   "source": [
    "create 3 variables assign to  numbers\n",
    "sum up the numbers using the variables and assign to a new variables"
   ]
  },
  {
   "cell_type": "code",
   "execution_count": 19,
   "id": "e09bd349",
   "metadata": {},
   "outputs": [],
   "source": [
    "x = 1\n",
    "y = 2\n",
    "z = 3\n"
   ]
  },
  {
   "cell_type": "code",
   "execution_count": 21,
   "id": "73811e33",
   "metadata": {},
   "outputs": [],
   "source": [
    "Harrison = x + y + z"
   ]
  },
  {
   "cell_type": "code",
   "execution_count": 22,
   "id": "1fa52a6e",
   "metadata": {},
   "outputs": [
    {
     "data": {
      "text/plain": [
       "6"
      ]
     },
     "execution_count": 22,
     "metadata": {},
     "output_type": "execute_result"
    }
   ],
   "source": [
    "Harrison"
   ]
  },
  {
   "cell_type": "markdown",
   "id": "819ed3ec",
   "metadata": {},
   "source": [
    "read csv file sales march 2019\n",
    "show 2 columns (quantity and price)\n",
    "create a new column called sale and cost\n",
    "4 plot sale and cost\n"
   ]
  },
  {
   "cell_type": "code",
   "execution_count": null,
   "id": "47824055",
   "metadata": {},
   "outputs": [],
   "source": []
  }
 ],
 "metadata": {
  "kernelspec": {
   "display_name": "Python 3 (ipykernel)",
   "language": "python",
   "name": "python3"
  },
  "language_info": {
   "codemirror_mode": {
    "name": "ipython",
    "version": 3
   },
   "file_extension": ".py",
   "mimetype": "text/x-python",
   "name": "python",
   "nbconvert_exporter": "python",
   "pygments_lexer": "ipython3",
   "version": "3.11.5"
  }
 },
 "nbformat": 4,
 "nbformat_minor": 5
}
