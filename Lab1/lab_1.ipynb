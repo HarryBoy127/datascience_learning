{
 "cells": [
  {
   "cell_type": "code",
   "execution_count": 1,
   "id": "a07ad12e",
   "metadata": {},
   "outputs": [
    {
     "data": {
      "text/plain": [
       "7"
      ]
     },
     "execution_count": 1,
     "metadata": {},
     "output_type": "execute_result"
    }
   ],
   "source": [
    "3 + 4 "
   ]
  },
  {
   "cell_type": "code",
   "execution_count": null,
   "id": "106e7a81",
   "metadata": {},
   "outputs": [],
   "source": []
  },
  {
   "cell_type": "code",
   "execution_count": 2,
   "id": "577263dd",
   "metadata": {},
   "outputs": [
    {
     "name": "stdout",
     "output_type": "stream",
     "text": [
      "9\n"
     ]
    }
   ],
   "source": [
    "test = 4 + 5\n",
    "print(test)"
   ]
  },
  {
   "cell_type": "code",
   "execution_count": 6,
   "id": "8faf7f02",
   "metadata": {},
   "outputs": [
    {
     "name": "stdout",
     "output_type": "stream",
     "text": [
      "4\n"
     ]
    }
   ],
   "source": [
    "new = 4\n",
    "print(new)"
   ]
  },
  {
   "cell_type": "code",
   "execution_count": 7,
   "id": "13d83943",
   "metadata": {},
   "outputs": [
    {
     "data": {
      "text/plain": [
       "13"
      ]
     },
     "execution_count": 7,
     "metadata": {},
     "output_type": "execute_result"
    }
   ],
   "source": [
    "test + new "
   ]
  },
  {
   "cell_type": "code",
   "execution_count": 9,
   "id": "cdc918e0",
   "metadata": {},
   "outputs": [
    {
     "data": {
      "text/plain": [
       "18"
      ]
     },
     "execution_count": 9,
     "metadata": {},
     "output_type": "execute_result"
    }
   ],
   "source": [
    "name = 8 \n",
    "JJ = 10 \n",
    "\n",
    "name + JJ"
   ]
  },
  {
   "cell_type": "code",
   "execution_count": 20,
   "id": "79afdab4",
   "metadata": {},
   "outputs": [],
   "source": [
    "Harrison = 23\n",
    "Dolapo = 29 \n",
    "Harrison_2025 = Harrison + 2\n",
    "x = Harrison_2025 + Dolapo"
   ]
  },
  {
   "cell_type": "code",
   "execution_count": 21,
   "id": "8adb9d65",
   "metadata": {},
   "outputs": [
    {
     "data": {
      "text/plain": [
       "54"
      ]
     },
     "execution_count": 21,
     "metadata": {},
     "output_type": "execute_result"
    }
   ],
   "source": [
    "x"
   ]
  },
  {
   "cell_type": "markdown",
   "id": "5866e2e5",
   "metadata": {},
   "source": [
    "### list "
   ]
  },
  {
   "cell_type": "code",
   "execution_count": 1,
   "id": "ea801048",
   "metadata": {},
   "outputs": [],
   "source": [
    "# data type or data structure "
   ]
  },
  {
   "cell_type": "code",
   "execution_count": 2,
   "id": "87028e81",
   "metadata": {},
   "outputs": [],
   "source": [
    "# list -> [] # element in the container\n",
    "# dict -> {} # key and values\n",
    "# tuple -> () "
   ]
  },
  {
   "cell_type": "code",
   "execution_count": 3,
   "id": "3a129eb5",
   "metadata": {},
   "outputs": [
    {
     "name": "stdout",
     "output_type": "stream",
     "text": [
      "[1, 2, 3, 4, 5, 6]\n"
     ]
    }
   ],
   "source": [
    "print([1,2,3,4,5,6])"
   ]
  },
  {
   "cell_type": "code",
   "execution_count": 4,
   "id": "499bdf26",
   "metadata": {},
   "outputs": [],
   "source": [
    "# index: 0,1,2,3,4,5 (forward)\n",
    "# index: -6,-5,-4,-3,-2,-1 (backward)\n",
    "# value: 1,2,3,4,5,6"
   ]
  },
  {
   "cell_type": "code",
   "execution_count": 5,
   "id": "fcc274d7",
   "metadata": {},
   "outputs": [],
   "source": [
    "harrison = [1,2,3,4,5,6]"
   ]
  },
  {
   "cell_type": "code",
   "execution_count": 6,
   "id": "4aeba5f0",
   "metadata": {},
   "outputs": [
    {
     "data": {
      "text/plain": [
       "[1, 2, 3, 4, 5, 6]"
      ]
     },
     "execution_count": 6,
     "metadata": {},
     "output_type": "execute_result"
    }
   ],
   "source": [
    "harrison"
   ]
  },
  {
   "cell_type": "code",
   "execution_count": 12,
   "id": "7fca691b",
   "metadata": {},
   "outputs": [
    {
     "data": {
      "text/plain": [
       "[3, 4]"
      ]
     },
     "execution_count": 12,
     "metadata": {},
     "output_type": "execute_result"
    }
   ],
   "source": [
    "harrison[2:4] # 2->3 (without 4)"
   ]
  },
  {
   "cell_type": "code",
   "execution_count": 31,
   "id": "ac5a6d99",
   "metadata": {},
   "outputs": [
    {
     "name": "stdout",
     "output_type": "stream",
     "text": [
      "1\n",
      "3\n",
      "------\n",
      "2\n",
      "4\n",
      "------\n",
      "3\n",
      "5\n",
      "------\n",
      "4\n",
      "6\n",
      "------\n",
      "5\n",
      "7\n",
      "------\n",
      "6\n",
      "8\n",
      "------\n"
     ]
    }
   ],
   "source": [
    "for i in harrison:\n",
    "    print(i)\n",
    "    print(i+2)\n",
    "    print('------')"
   ]
  },
  {
   "cell_type": "code",
   "execution_count": 36,
   "id": "08f06c00",
   "metadata": {},
   "outputs": [
    {
     "name": "stdout",
     "output_type": "stream",
     "text": [
      "HH\n",
      "aa\n",
      "rr\n",
      "rr\n",
      "ii\n",
      "ss\n",
      "oo\n",
      "nn\n"
     ]
    }
   ],
   "source": [
    "for i in 'Harrison':\n",
    "    print(i*2)"
   ]
  },
  {
   "cell_type": "markdown",
   "id": "53ccffa3",
   "metadata": {},
   "source": [
    "# Harrison edit"
   ]
  },
  {
   "cell_type": "code",
   "execution_count": 37,
   "id": "09dbc7e2",
   "metadata": {},
   "outputs": [],
   "source": [
    "y = 3 +4"
   ]
  },
  {
   "cell_type": "code",
   "execution_count": 38,
   "id": "351381dd",
   "metadata": {},
   "outputs": [
    {
     "data": {
      "text/plain": [
       "7"
      ]
     },
     "execution_count": 38,
     "metadata": {},
     "output_type": "execute_result"
    }
   ],
   "source": [
    "y"
   ]
  },
  {
   "cell_type": "code",
   "execution_count": 39,
   "id": "ddb5a163",
   "metadata": {},
   "outputs": [],
   "source": [
    "Harrison = 23 \n",
    "Harrison_2030 = Harrison + 7"
   ]
  },
  {
   "cell_type": "code",
   "execution_count": 40,
   "id": "c0bd012b",
   "metadata": {},
   "outputs": [],
   "source": [
    "Harrison = 23"
   ]
  },
  {
   "cell_type": "code",
   "execution_count": 41,
   "id": "1db1dc6b",
   "metadata": {},
   "outputs": [
    {
     "data": {
      "text/plain": [
       "23"
      ]
     },
     "execution_count": 41,
     "metadata": {},
     "output_type": "execute_result"
    }
   ],
   "source": [
    "Harrison"
   ]
  },
  {
   "cell_type": "code",
   "execution_count": 42,
   "id": "d27bf1e3",
   "metadata": {},
   "outputs": [],
   "source": [
    "Harrison_2030 = Harrison + 7"
   ]
  },
  {
   "cell_type": "code",
   "execution_count": 43,
   "id": "99c4b980",
   "metadata": {},
   "outputs": [
    {
     "data": {
      "text/plain": [
       "30"
      ]
     },
     "execution_count": 43,
     "metadata": {},
     "output_type": "execute_result"
    }
   ],
   "source": [
    "Harrison_2030"
   ]
  },
  {
   "cell_type": "code",
   "execution_count": 142,
   "id": "1d5a8251",
   "metadata": {},
   "outputs": [],
   "source": [
    "#Value = [1,2,3,4,5]\n",
    "#index = [0,1,2,3,4,5]"
   ]
  },
  {
   "cell_type": "code",
   "execution_count": 143,
   "id": "0a1cf816",
   "metadata": {},
   "outputs": [],
   "source": [
    "Harrison = [1,2,3,4,5]"
   ]
  },
  {
   "cell_type": "code",
   "execution_count": 144,
   "id": "3da24b61",
   "metadata": {},
   "outputs": [
    {
     "data": {
      "text/plain": [
       "[1, 2, 3, 4, 5]"
      ]
     },
     "execution_count": 144,
     "metadata": {},
     "output_type": "execute_result"
    }
   ],
   "source": [
    "Harrison"
   ]
  },
  {
   "cell_type": "code",
   "execution_count": 145,
   "id": "a42dc2dc",
   "metadata": {},
   "outputs": [
    {
     "data": {
      "text/plain": [
       "[3, 4, 5]"
      ]
     },
     "execution_count": 145,
     "metadata": {},
     "output_type": "execute_result"
    }
   ],
   "source": [
    "Harrison[2:5]"
   ]
  },
  {
   "cell_type": "code",
   "execution_count": 146,
   "id": "2f5dfefe",
   "metadata": {},
   "outputs": [
    {
     "data": {
      "text/plain": [
       "[3]"
      ]
     },
     "execution_count": 146,
     "metadata": {},
     "output_type": "execute_result"
    }
   ],
   "source": [
    "Harrison[2:3]"
   ]
  },
  {
   "cell_type": "code",
   "execution_count": 152,
   "id": "2c19b90b",
   "metadata": {},
   "outputs": [
    {
     "data": {
      "text/plain": [
       "[2, 3, 4, 5]"
      ]
     },
     "execution_count": 152,
     "metadata": {},
     "output_type": "execute_result"
    }
   ],
   "source": [
    "Harrison[-4:]"
   ]
  },
  {
   "cell_type": "code",
   "execution_count": null,
   "id": "18d60cee",
   "metadata": {},
   "outputs": [],
   "source": []
  },
  {
   "cell_type": "code",
   "execution_count": 63,
   "id": "d5d50566",
   "metadata": {},
   "outputs": [
    {
     "data": {
      "text/plain": [
       "1"
      ]
     },
     "execution_count": 63,
     "metadata": {},
     "output_type": "execute_result"
    }
   ],
   "source": [
    "Harrison[0]"
   ]
  },
  {
   "cell_type": "code",
   "execution_count": 66,
   "id": "e8952095",
   "metadata": {},
   "outputs": [],
   "source": [
    "Harrison = 23\n",
    "Harrison_2030 = Harrison + 5"
   ]
  },
  {
   "cell_type": "code",
   "execution_count": 67,
   "id": "59e6eb0e",
   "metadata": {},
   "outputs": [],
   "source": [
    "Harrison = 23"
   ]
  },
  {
   "cell_type": "code",
   "execution_count": 69,
   "id": "0f273394",
   "metadata": {},
   "outputs": [
    {
     "data": {
      "text/plain": [
       "23"
      ]
     },
     "execution_count": 69,
     "metadata": {},
     "output_type": "execute_result"
    }
   ],
   "source": [
    "Harrison"
   ]
  },
  {
   "cell_type": "code",
   "execution_count": 70,
   "id": "dc418ff8",
   "metadata": {},
   "outputs": [],
   "source": [
    "Harrison_2030 = Harrison + 5"
   ]
  },
  {
   "cell_type": "code",
   "execution_count": 71,
   "id": "defe3dc1",
   "metadata": {},
   "outputs": [
    {
     "data": {
      "text/plain": [
       "28"
      ]
     },
     "execution_count": 71,
     "metadata": {},
     "output_type": "execute_result"
    }
   ],
   "source": [
    "Harrison_2030"
   ]
  },
  {
   "cell_type": "code",
   "execution_count": 72,
   "id": "ff769cd3",
   "metadata": {},
   "outputs": [
    {
     "name": "stdout",
     "output_type": "stream",
     "text": [
      "i\n",
      "Love\n",
      "moi\n",
      "moi\n"
     ]
    }
   ],
   "source": [
    "print(\"i\")\n",
    "print(\"Love\")\n",
    "\n",
    "for i in range(2):\n",
    "    print(\"moi\")"
   ]
  },
  {
   "cell_type": "code",
   "execution_count": 90,
   "id": "d873c855",
   "metadata": {},
   "outputs": [
    {
     "name": "stdout",
     "output_type": "stream",
     "text": [
      "23\n"
     ]
    }
   ],
   "source": [
    "for i in [Harrison]:\n",
    "    print(i)"
   ]
  },
  {
   "cell_type": "code",
   "execution_count": 88,
   "id": "749e55b7",
   "metadata": {},
   "outputs": [
    {
     "name": "stdout",
     "output_type": "stream",
     "text": [
      "HH\n",
      ",,,,,\n",
      "aa\n",
      ",,,,,\n",
      "rr\n",
      ",,,,,\n",
      "rr\n",
      ",,,,,\n",
      "ii\n",
      ",,,,,\n",
      "ss\n",
      ",,,,,\n",
      "oo\n",
      ",,,,,\n",
      "nn\n",
      ",,,,,\n"
     ]
    }
   ],
   "source": [
    "for i in \"Harrison\":\n",
    "    print(i*2)\n",
    "    print(\",\"*5)"
   ]
  },
  {
   "cell_type": "code",
   "execution_count": 93,
   "id": "e3e51b24",
   "metadata": {},
   "outputs": [
    {
     "data": {
      "text/plain": [
       "'harrison is 23'"
      ]
     },
     "execution_count": 93,
     "metadata": {},
     "output_type": "execute_result"
    }
   ],
   "source": [
    "def harrison_age(age):\n",
    "    return f'harrison is {age}'\n",
    "\n",
    "harrison_age(age = 23)"
   ]
  },
  {
   "cell_type": "code",
   "execution_count": 94,
   "id": "dc58a2b0",
   "metadata": {},
   "outputs": [
    {
     "name": "stdout",
     "output_type": "stream",
     "text": [
      "i love moi\n",
      "i love moi\n"
     ]
    }
   ],
   "source": [
    "\n",
    "for i in range(2):\n",
    "    print(\"i love moi\")"
   ]
  },
  {
   "cell_type": "code",
   "execution_count": 121,
   "id": "0192ce72",
   "metadata": {},
   "outputs": [
    {
     "name": "stdout",
     "output_type": "stream",
     "text": [
      "i love moi\n",
      "i love moi\n",
      "i love moi\n",
      "i love moi\n",
      "i love moi\n"
     ]
    }
   ],
   "source": [
    "def love_moi(number):\n",
    "    for i in range(number):\n",
    "        print(\"i love moi\")\n",
    "    \n",
    "love_moi(5)    "
   ]
  },
  {
   "cell_type": "code",
   "execution_count": 116,
   "id": "2d00b4f0",
   "metadata": {},
   "outputs": [],
   "source": [
    "def love_moi_aa(statement):\n",
    "    for i in range(2):\n",
    "        print(statement)\n",
    "        "
   ]
  },
  {
   "cell_type": "code",
   "execution_count": 117,
   "id": "571e9e6d",
   "metadata": {},
   "outputs": [
    {
     "name": "stdout",
     "output_type": "stream",
     "text": [
      "i love car\n",
      "i love car\n"
     ]
    }
   ],
   "source": [
    "love_moi_aa('i love car')"
   ]
  },
  {
   "cell_type": "code",
   "execution_count": 132,
   "id": "75a26c7a",
   "metadata": {},
   "outputs": [],
   "source": [
    "def love_moi_aa(number, statement):\n",
    "    for i in range(number):\n",
    "        print(statement)\n",
    "        "
   ]
  },
  {
   "cell_type": "code",
   "execution_count": 135,
   "id": "1944d532",
   "metadata": {},
   "outputs": [
    {
     "name": "stdout",
     "output_type": "stream",
     "text": [
      "i love harry\n",
      "i love harry\n",
      "i love harry\n",
      "i love harry\n",
      "i love harry\n",
      "i love harry\n",
      "i love harry\n",
      "i love harry\n",
      "i love harry\n",
      "i love harry\n"
     ]
    }
   ],
   "source": [
    "love_moi_aa(10, \"i love harry\")"
   ]
  },
  {
   "cell_type": "code",
   "execution_count": null,
   "id": "7c108a7e",
   "metadata": {},
   "outputs": [],
   "source": [
    "harrison = 23\n",
    "harrison2025 = harrison + 2"
   ]
  },
  {
   "cell_type": "code",
   "execution_count": 33,
   "id": "122cf9c3",
   "metadata": {},
   "outputs": [
    {
     "data": {
      "text/plain": [
       "23"
      ]
     },
     "execution_count": 33,
     "metadata": {},
     "output_type": "execute_result"
    }
   ],
   "source": [
    "harrison = 23\n",
    "harrison"
   ]
  },
  {
   "cell_type": "code",
   "execution_count": 34,
   "id": "4d264701",
   "metadata": {},
   "outputs": [
    {
     "data": {
      "text/plain": [
       "25"
      ]
     },
     "execution_count": 34,
     "metadata": {},
     "output_type": "execute_result"
    }
   ],
   "source": [
    "harrison2025 = 23 + 2\n",
    "harrison2025"
   ]
  },
  {
   "cell_type": "code",
   "execution_count": 74,
   "id": "5478f242",
   "metadata": {},
   "outputs": [
    {
     "data": {
      "text/plain": [
       "'harrison_age is23'"
      ]
     },
     "execution_count": 74,
     "metadata": {},
     "output_type": "execute_result"
    }
   ],
   "source": [
    "def harrison_age(age):\n",
    "    return f'harrison_age is{age}'\n",
    "harrison_age(age = 23)"
   ]
  },
  {
   "cell_type": "code",
   "execution_count": 79,
   "id": "4122cecb",
   "metadata": {},
   "outputs": [
    {
     "data": {
      "text/plain": [
       "[1, 2, 3, 4, 5]"
      ]
     },
     "execution_count": 79,
     "metadata": {},
     "output_type": "execute_result"
    }
   ],
   "source": [
    "Frank = [1,2,3,4,5]\n",
    "Frank"
   ]
  },
  {
   "cell_type": "code",
   "execution_count": 80,
   "id": "88006fd3",
   "metadata": {},
   "outputs": [
    {
     "data": {
      "text/plain": [
       "1"
      ]
     },
     "execution_count": 80,
     "metadata": {},
     "output_type": "execute_result"
    }
   ],
   "source": [
    "Frank[0]"
   ]
  },
  {
   "cell_type": "code",
   "execution_count": 82,
   "id": "b2bfa356",
   "metadata": {},
   "outputs": [
    {
     "data": {
      "text/plain": [
       "[3, 4]"
      ]
     },
     "execution_count": 82,
     "metadata": {},
     "output_type": "execute_result"
    }
   ],
   "source": [
    "Frank[2:4]"
   ]
  },
  {
   "cell_type": "code",
   "execution_count": 86,
   "id": "9adf8a83",
   "metadata": {},
   "outputs": [
    {
     "data": {
      "text/plain": [
       "[3, 4, 5]"
      ]
     },
     "execution_count": 86,
     "metadata": {},
     "output_type": "execute_result"
    }
   ],
   "source": [
    "Frank[-3:]"
   ]
  },
  {
   "cell_type": "code",
   "execution_count": 4,
   "id": "1c4ffc62",
   "metadata": {},
   "outputs": [],
   "source": [
    "import pandas as pd\n",
    "import matplotlib.pyplot as plt"
   ]
  },
  {
   "cell_type": "code",
   "execution_count": 5,
   "id": "0d1f3cf8",
   "metadata": {},
   "outputs": [],
   "source": [
    "pop = pd.read_csv(\"nycHistPop.csv\")"
   ]
  },
  {
   "cell_type": "code",
   "execution_count": 6,
   "id": "e8112f56",
   "metadata": {},
   "outputs": [
    {
     "data": {
      "text/html": [
       "<div>\n",
       "<style scoped>\n",
       "    .dataframe tbody tr th:only-of-type {\n",
       "        vertical-align: middle;\n",
       "    }\n",
       "\n",
       "    .dataframe tbody tr th {\n",
       "        vertical-align: top;\n",
       "    }\n",
       "\n",
       "    .dataframe thead th {\n",
       "        text-align: right;\n",
       "    }\n",
       "</style>\n",
       "<table border=\"1\" class=\"dataframe\">\n",
       "  <thead>\n",
       "    <tr style=\"text-align: right;\">\n",
       "      <th></th>\n",
       "      <th>Year</th>\n",
       "      <th>Manhattan</th>\n",
       "      <th>Brooklyn</th>\n",
       "      <th>Queens</th>\n",
       "      <th>Bronx</th>\n",
       "      <th>Staten Island</th>\n",
       "      <th>Total</th>\n",
       "    </tr>\n",
       "  </thead>\n",
       "  <tbody>\n",
       "    <tr>\n",
       "      <th>0</th>\n",
       "      <td>1698</td>\n",
       "      <td>4937</td>\n",
       "      <td>2017</td>\n",
       "      <td>NaN</td>\n",
       "      <td>NaN</td>\n",
       "      <td>727</td>\n",
       "      <td>7681</td>\n",
       "    </tr>\n",
       "    <tr>\n",
       "      <th>1</th>\n",
       "      <td>1771</td>\n",
       "      <td>21863</td>\n",
       "      <td>3623</td>\n",
       "      <td>NaN</td>\n",
       "      <td>NaN</td>\n",
       "      <td>2847</td>\n",
       "      <td>28423</td>\n",
       "    </tr>\n",
       "    <tr>\n",
       "      <th>2</th>\n",
       "      <td>1790</td>\n",
       "      <td>33131</td>\n",
       "      <td>4549</td>\n",
       "      <td>6159.0</td>\n",
       "      <td>1781.0</td>\n",
       "      <td>3827</td>\n",
       "      <td>49447</td>\n",
       "    </tr>\n",
       "    <tr>\n",
       "      <th>3</th>\n",
       "      <td>1800</td>\n",
       "      <td>60515</td>\n",
       "      <td>5740</td>\n",
       "      <td>6642.0</td>\n",
       "      <td>1755.0</td>\n",
       "      <td>4563</td>\n",
       "      <td>79215</td>\n",
       "    </tr>\n",
       "    <tr>\n",
       "      <th>4</th>\n",
       "      <td>1810</td>\n",
       "      <td>96373</td>\n",
       "      <td>8303</td>\n",
       "      <td>7444.0</td>\n",
       "      <td>2267.0</td>\n",
       "      <td>5347</td>\n",
       "      <td>119734</td>\n",
       "    </tr>\n",
       "  </tbody>\n",
       "</table>\n",
       "</div>"
      ],
      "text/plain": [
       "   Year  Manhattan  Brooklyn  Queens   Bronx  Staten Island   Total\n",
       "0  1698       4937      2017     NaN     NaN            727    7681\n",
       "1  1771      21863      3623     NaN     NaN           2847   28423\n",
       "2  1790      33131      4549  6159.0  1781.0           3827   49447\n",
       "3  1800      60515      5740  6642.0  1755.0           4563   79215\n",
       "4  1810      96373      8303  7444.0  2267.0           5347  119734"
      ]
     },
     "execution_count": 6,
     "metadata": {},
     "output_type": "execute_result"
    }
   ],
   "source": [
    "pop.head()"
   ]
  },
  {
   "cell_type": "code",
   "execution_count": 7,
   "id": "c0581148",
   "metadata": {},
   "outputs": [
    {
     "data": {
      "text/plain": [
       "Index(['Year', 'Manhattan', 'Brooklyn', 'Queens', 'Bronx', 'Staten Island',\n",
       "       'Total'],\n",
       "      dtype='object')"
      ]
     },
     "execution_count": 7,
     "metadata": {},
     "output_type": "execute_result"
    }
   ],
   "source": [
    "pop.columns"
   ]
  },
  {
   "cell_type": "code",
   "execution_count": 13,
   "id": "a26b9065",
   "metadata": {},
   "outputs": [
    {
     "data": {
      "text/html": [
       "<div>\n",
       "<style scoped>\n",
       "    .dataframe tbody tr th:only-of-type {\n",
       "        vertical-align: middle;\n",
       "    }\n",
       "\n",
       "    .dataframe tbody tr th {\n",
       "        vertical-align: top;\n",
       "    }\n",
       "\n",
       "    .dataframe thead th {\n",
       "        text-align: right;\n",
       "    }\n",
       "</style>\n",
       "<table border=\"1\" class=\"dataframe\">\n",
       "  <thead>\n",
       "    <tr style=\"text-align: right;\">\n",
       "      <th></th>\n",
       "      <th>Year</th>\n",
       "      <th>Manhattan</th>\n",
       "    </tr>\n",
       "  </thead>\n",
       "  <tbody>\n",
       "    <tr>\n",
       "      <th>0</th>\n",
       "      <td>1698</td>\n",
       "      <td>4937</td>\n",
       "    </tr>\n",
       "    <tr>\n",
       "      <th>1</th>\n",
       "      <td>1771</td>\n",
       "      <td>21863</td>\n",
       "    </tr>\n",
       "    <tr>\n",
       "      <th>2</th>\n",
       "      <td>1790</td>\n",
       "      <td>33131</td>\n",
       "    </tr>\n",
       "    <tr>\n",
       "      <th>3</th>\n",
       "      <td>1800</td>\n",
       "      <td>60515</td>\n",
       "    </tr>\n",
       "    <tr>\n",
       "      <th>4</th>\n",
       "      <td>1810</td>\n",
       "      <td>96373</td>\n",
       "    </tr>\n",
       "  </tbody>\n",
       "</table>\n",
       "</div>"
      ],
      "text/plain": [
       "   Year  Manhattan\n",
       "0  1698       4937\n",
       "1  1771      21863\n",
       "2  1790      33131\n",
       "3  1800      60515\n",
       "4  1810      96373"
      ]
     },
     "execution_count": 13,
     "metadata": {},
     "output_type": "execute_result"
    }
   ],
   "source": [
    "#selected_columns = [\"Year\",\"Manhattan\"]\n",
    "pop[[\"Year\",\"Manhattan\"]].head()"
   ]
  },
  {
   "cell_type": "code",
   "execution_count": 9,
   "id": "5f9e77e0",
   "metadata": {},
   "outputs": [
    {
     "name": "stdout",
     "output_type": "stream",
     "text": [
      "(1, 2)\n",
      "(2, 5)\n"
     ]
    }
   ],
   "source": [
    "a = [(1,2),(2,5)]\n",
    "\n",
    "for i in a:\n",
    "    print(i)"
   ]
  },
  {
   "cell_type": "markdown",
   "id": "5ab33e4d",
   "metadata": {},
   "source": [
    "To plot the data, type pop.plot(x = “Year”) and run the code."
   ]
  },
  {
   "cell_type": "code",
   "execution_count": 10,
   "id": "102b7bfb",
   "metadata": {},
   "outputs": [
    {
     "data": {
      "text/plain": [
       "<Axes: xlabel='Year'>"
      ]
     },
     "execution_count": 10,
     "metadata": {},
     "output_type": "execute_result"
    },
    {
     "data": {
      "image/png": "[encoded data removed]",
      "text/plain": [
       "<Figure size 640x480 with 1 Axes>"
      ]
     },
     "metadata": {},
     "output_type": "display_data"
    }
   ],
   "source": [
    "pop.plot(x=\"Year\")"
   ]
  },
  {
   "cell_type": "code",
   "execution_count": 13,
   "id": "755f98e7",
   "metadata": {},
   "outputs": [
    {
     "data": {
      "image/png": "[encoded data removed]",
      "text/plain": [
       "<Figure size 640x480 with 1 Axes>"
      ]
     },
     "metadata": {},
     "output_type": "display_data"
    }
   ],
   "source": [
    "pop.plot(x = \"Year\")\n",
    "plt.show()"
   ]
  },
  {
   "cell_type": "markdown",
   "id": "a260b1fe",
   "metadata": {},
   "source": [
    "What happens if you leave off the x = \"Year\" ? Why?"
   ]
  },
  {
   "cell_type": "code",
   "execution_count": 17,
   "id": "12903cae",
   "metadata": {},
   "outputs": [
    {
     "data": {
      "image/png": "[encoded data removed]",
      "text/plain": [
       "<Figure size 640x480 with 1 Axes>"
      ]
     },
     "metadata": {},
     "output_type": "display_data"
    }
   ],
   "source": [
    "pop.plot(x = \"Year\", y = \"Bronx\")\n",
    "plt.show()"
   ]
  },
  {
   "cell_type": "markdown",
   "id": "6e641c02",
   "metadata": {},
   "source": [
    "Write a piece of code that creates a variable called my_num and stores the value 10 in it."
   ]
  },
  {
   "cell_type": "code",
   "execution_count": 18,
   "id": "2cc958bc",
   "metadata": {},
   "outputs": [],
   "source": [
    "my_num = 10"
   ]
  },
  {
   "cell_type": "code",
   "execution_count": 19,
   "id": "3a1c716b",
   "metadata": {},
   "outputs": [
    {
     "data": {
      "text/plain": [
       "10"
      ]
     },
     "execution_count": 19,
     "metadata": {},
     "output_type": "execute_result"
    }
   ],
   "source": [
    "my_num"
   ]
  },
  {
   "cell_type": "markdown",
   "id": "64721a2f",
   "metadata": {},
   "source": [
    "Write a piece of code that adds 7 to the variable my_num by 2 and stores the result in the variable my_sum."
   ]
  },
  {
   "cell_type": "code",
   "execution_count": 20,
   "id": "03934b34",
   "metadata": {},
   "outputs": [],
   "source": [
    "my_sum = (my_num + 7)* 2"
   ]
  },
  {
   "cell_type": "markdown",
   "id": "dac5d342",
   "metadata": {},
   "source": [
    "In a single cell, print out the values of my_num and my_sum."
   ]
  },
  {
   "cell_type": "code",
   "execution_count": 21,
   "id": "77cb8921",
   "metadata": {},
   "outputs": [
    {
     "name": "stdout",
     "output_type": "stream",
     "text": [
      "34\n"
     ]
    }
   ],
   "source": [
    "print(my_sum)"
   ]
  },
  {
   "cell_type": "code",
   "execution_count": 22,
   "id": "c6c593a0",
   "metadata": {},
   "outputs": [
    {
     "name": "stdout",
     "output_type": "stream",
     "text": [
      "10\n"
     ]
    }
   ],
   "source": [
    "print(my_num)"
   ]
  },
  {
   "cell_type": "markdown",
   "id": "718dae47",
   "metadata": {},
   "source": [
    "In what years did Brooklyn's population increase the most? Write your answer below."
   ]
  },
  {
   "cell_type": "code",
   "execution_count": 31,
   "id": "cc7f4ce3",
   "metadata": {},
   "outputs": [
    {
     "data": {
      "image/png": "[encoded data removed]",
      "text/plain": [
       "<Figure size 640x480 with 1 Axes>"
      ]
     },
     "metadata": {},
     "output_type": "display_data"
    }
   ],
   "source": [
    "pop.plot(x =\"Year\",y =\"Brooklyn\")\n",
    "plt.xlabel(\"Year\")\n",
    "plt.ylabel(\"Brookyln Population\")\n",
    "\n",
    "plt.show()"
   ]
  },
  {
   "cell_type": "markdown",
   "id": "4c8ae86b",
   "metadata": {},
   "source": [
    "What percentage of the total New York population in 1898 was in Manhattan"
   ]
  },
  {
   "cell_type": "code",
   "execution_count": 32,
   "id": "a3d649b6",
   "metadata": {},
   "outputs": [
    {
     "data": {
      "text/plain": [
       "<Axes: xlabel='Year'>"
      ]
     },
     "execution_count": 32,
     "metadata": {},
     "output_type": "execute_result"
    },
    {
     "data": {
      "image/png": "[encoded data removed]",
      "text/plain": [
       "<Figure size 640x480 with 1 Axes>"
      ]
     },
     "metadata": {},
     "output_type": "display_data"
    }
   ],
   "source": [
    "pop.plot(x = \"Year\", y = \"Manhattan\")"
   ]
  },
  {
   "cell_type": "code",
   "execution_count": null,
   "id": "30d9263e",
   "metadata": {},
   "outputs": [],
   "source": []
  },
  {
   "cell_type": "code",
   "execution_count": null,
   "id": "6995c7c5",
   "metadata": {},
   "outputs": [],
   "source": []
  }
 ],
 "metadata": {
  "kernelspec": {
   "display_name": "Python 3 (ipykernel)",
   "language": "python",
   "name": "python3"
  },
  "language_info": {
   "codemirror_mode": {
    "name": "ipython",
    "version": 3
   },
   "file_extension": ".py",
   "mimetype": "text/x-python",
   "name": "python",
   "nbconvert_exporter": "python",
   "pygments_lexer": "ipython3",
   "version": "3.11.5"
  }
 },
 "nbformat": 4,
 "nbformat_minor": 5
}
