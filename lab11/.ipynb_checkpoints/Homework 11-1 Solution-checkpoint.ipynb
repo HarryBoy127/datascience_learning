{
 "cells": [
  {
   "cell_type": "markdown",
   "metadata": {},
   "source": [
    "*Replace this text with your own name and a brief description of what this notebook does.*"
   ]
  },
  {
   "cell_type": "markdown",
   "metadata": {},
   "source": [
    "## Homework 11-1\n",
    "\n",
    "Write a piece of code that uses iteration/loops to print the following to the screen:\n",
    "\n",
    "<code>Data science is\n",
    "fun\n",
    "!\n",
    "fun\n",
    "!\n",
    "fun\n",
    "!\n",
    "That is all.</code>"
   ]
  },
  {
   "cell_type": "code",
   "execution_count": 1,
   "metadata": {},
   "outputs": [
    {
     "name": "stdout",
     "output_type": "stream",
     "text": [
      "Data science is\n",
      "fun\n",
      "!\n",
      "fun\n",
      "!\n",
      "fun\n",
      "!\n",
      "That is all.\n"
     ]
    }
   ],
   "source": [
    "print(\"Data science is\")\n",
    "for i in range(3):\n",
    "    print(\"fun\")\n",
    "    print(\"!\")\n",
    "print(\"That is all.\")"
   ]
  },
  {
   "cell_type": "markdown",
   "metadata": {},
   "source": [
    "There are no additional questions."
   ]
  },
  {
   "cell_type": "markdown",
   "metadata": {},
   "source": [
    " "
   ]
  },
  {
   "cell_type": "markdown",
   "metadata": {},
   "source": [
    " "
   ]
  }
 ],
 "metadata": {
  "kernelspec": {
   "display_name": "Python 3 (ipykernel)",
   "language": "python",
   "name": "python3"
  },
  "language_info": {
   "codemirror_mode": {
    "name": "ipython",
    "version": 3
   },
   "file_extension": ".py",
   "mimetype": "text/x-python",
   "name": "python",
   "nbconvert_exporter": "python",
   "pygments_lexer": "ipython3",
   "version": "3.9.12"
  }
 },
 "nbformat": 4,
 "nbformat_minor": 4
}
