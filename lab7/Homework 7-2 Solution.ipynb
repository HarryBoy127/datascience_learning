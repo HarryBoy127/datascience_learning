{
 "cells": [
  {
   "cell_type": "markdown",
   "metadata": {},
   "source": [
    "*Replace this text with your own name and a brief description of what this notebook does.*"
   ]
  },
  {
   "cell_type": "markdown",
   "metadata": {},
   "source": [
    "## Homework 7-2\n",
    "\n",
    "We will use the dataset from Homework 3-2, which contains information about all film permits issued by the city so far in 2023: [https://data.cityofnewyork.us/City-Government/Film-Permits/tg4x-b46p](https://data.cityofnewyork.us/City-Government/Film-Permits/tg4x-b46p)\n",
    "\n",
    "Assume the film permits in this dataset are the population.  Write a piece of code that takes 3 different samples of size 50 and 3 different samples of size 250 from this population.  For each sample, plot a bar chart of the how many permits were issued for each category (ex. film, commercial, etc.).  You should end up with 6 different bar charts."
   ]
  },
  {
   "cell_type": "code",
   "execution_count": 1,
   "metadata": {},
   "outputs": [
    {
     "data": {
      "text/html": [
       "<div>\n",
       "<style scoped>\n",
       "    .dataframe tbody tr th:only-of-type {\n",
       "        vertical-align: middle;\n",
       "    }\n",
       "\n",
       "    .dataframe tbody tr th {\n",
       "        vertical-align: top;\n",
       "    }\n",
       "\n",
       "    .dataframe thead th {\n",
       "        text-align: right;\n",
       "    }\n",
       "</style>\n",
       "<table border=\"1\" class=\"dataframe\">\n",
       "  <thead>\n",
       "    <tr style=\"text-align: right;\">\n",
       "      <th></th>\n",
       "      <th>EventID</th>\n",
       "      <th>EventType</th>\n",
       "      <th>StartDateTime</th>\n",
       "      <th>EndDateTime</th>\n",
       "      <th>EnteredOn</th>\n",
       "      <th>EventAgency</th>\n",
       "      <th>ParkingHeld</th>\n",
       "      <th>Borough</th>\n",
       "      <th>CommunityBoard(s)</th>\n",
       "      <th>PolicePrecinct(s)</th>\n",
       "      <th>Category</th>\n",
       "      <th>SubCategoryName</th>\n",
       "      <th>Country</th>\n",
       "      <th>ZipCode(s)</th>\n",
       "    </tr>\n",
       "  </thead>\n",
       "  <tbody>\n",
       "    <tr>\n",
       "      <th>0</th>\n",
       "      <td>722988</td>\n",
       "      <td>Shooting Permit</td>\n",
       "      <td>06/08/2023 04:00:00 AM</td>\n",
       "      <td>06/08/2023 11:00:00 AM</td>\n",
       "      <td>06/07/2023 10:08:30 AM</td>\n",
       "      <td>Mayor's Office of Film, Theatre &amp; Broadcasting</td>\n",
       "      <td>WEST   48 STREET between 6 AVENUE and 7 AVENUE</td>\n",
       "      <td>Manhattan</td>\n",
       "      <td>5</td>\n",
       "      <td>18</td>\n",
       "      <td>Television</td>\n",
       "      <td>News</td>\n",
       "      <td>United States of America</td>\n",
       "      <td>10036, 10105</td>\n",
       "    </tr>\n",
       "    <tr>\n",
       "      <th>1</th>\n",
       "      <td>722865</td>\n",
       "      <td>Theater Load in and Load Outs</td>\n",
       "      <td>06/08/2023 12:01:00 AM</td>\n",
       "      <td>06/11/2023 11:59:00 PM</td>\n",
       "      <td>06/06/2023 04:53:37 PM</td>\n",
       "      <td>Mayor's Office of Film, Theatre &amp; Broadcasting</td>\n",
       "      <td>WEST   31 STREET between 7 AVENUE and 8 AVENUE...</td>\n",
       "      <td>Manhattan</td>\n",
       "      <td>4, 5</td>\n",
       "      <td>14</td>\n",
       "      <td>Theater</td>\n",
       "      <td>Theater</td>\n",
       "      <td>United States of America</td>\n",
       "      <td>10001, 10121</td>\n",
       "    </tr>\n",
       "    <tr>\n",
       "      <th>2</th>\n",
       "      <td>722224</td>\n",
       "      <td>Shooting Permit</td>\n",
       "      <td>06/08/2023 06:00:00 AM</td>\n",
       "      <td>06/08/2023 09:00:00 PM</td>\n",
       "      <td>06/05/2023 10:28:58 AM</td>\n",
       "      <td>Mayor's Office of Film, Theatre &amp; Broadcasting</td>\n",
       "      <td>STRATFORD ROAD between BEVERLEY ROAD and SLOCU...</td>\n",
       "      <td>Brooklyn</td>\n",
       "      <td>14, 2</td>\n",
       "      <td>6, 70</td>\n",
       "      <td>Still Photography</td>\n",
       "      <td>Not Applicable</td>\n",
       "      <td>United States of America</td>\n",
       "      <td>10014, 11218</td>\n",
       "    </tr>\n",
       "    <tr>\n",
       "      <th>3</th>\n",
       "      <td>722199</td>\n",
       "      <td>Shooting Permit</td>\n",
       "      <td>06/07/2023 09:00:00 AM</td>\n",
       "      <td>06/07/2023 11:00:00 PM</td>\n",
       "      <td>06/05/2023 09:37:45 AM</td>\n",
       "      <td>Mayor's Office of Film, Theatre &amp; Broadcasting</td>\n",
       "      <td>COLGATE AVENUE between STORY AVENUE and LAFAYE...</td>\n",
       "      <td>Bronx</td>\n",
       "      <td>9</td>\n",
       "      <td>43</td>\n",
       "      <td>Television</td>\n",
       "      <td>Episodic series</td>\n",
       "      <td>United States of America</td>\n",
       "      <td>10473</td>\n",
       "    </tr>\n",
       "    <tr>\n",
       "      <th>4</th>\n",
       "      <td>722107</td>\n",
       "      <td>Shooting Permit</td>\n",
       "      <td>06/08/2023 07:00:00 AM</td>\n",
       "      <td>06/08/2023 11:00:00 PM</td>\n",
       "      <td>06/04/2023 08:21:06 PM</td>\n",
       "      <td>Mayor's Office of Film, Theatre &amp; Broadcasting</td>\n",
       "      <td>WEST   43 STREET between 6 AVENUE and 7 AVENUE</td>\n",
       "      <td>Manhattan</td>\n",
       "      <td>5</td>\n",
       "      <td>14</td>\n",
       "      <td>WEB</td>\n",
       "      <td>Not Applicable</td>\n",
       "      <td>United States of America</td>\n",
       "      <td>10036</td>\n",
       "    </tr>\n",
       "  </tbody>\n",
       "</table>\n",
       "</div>"
      ],
      "text/plain": [
       "   EventID                      EventType           StartDateTime  \\\n",
       "0   722988                Shooting Permit  06/08/2023 04:00:00 AM   \n",
       "1   722865  Theater Load in and Load Outs  06/08/2023 12:01:00 AM   \n",
       "2   722224                Shooting Permit  06/08/2023 06:00:00 AM   \n",
       "3   722199                Shooting Permit  06/07/2023 09:00:00 AM   \n",
       "4   722107                Shooting Permit  06/08/2023 07:00:00 AM   \n",
       "\n",
       "              EndDateTime               EnteredOn  \\\n",
       "0  06/08/2023 11:00:00 AM  06/07/2023 10:08:30 AM   \n",
       "1  06/11/2023 11:59:00 PM  06/06/2023 04:53:37 PM   \n",
       "2  06/08/2023 09:00:00 PM  06/05/2023 10:28:58 AM   \n",
       "3  06/07/2023 11:00:00 PM  06/05/2023 09:37:45 AM   \n",
       "4  06/08/2023 11:00:00 PM  06/04/2023 08:21:06 PM   \n",
       "\n",
       "                                      EventAgency  \\\n",
       "0  Mayor's Office of Film, Theatre & Broadcasting   \n",
       "1  Mayor's Office of Film, Theatre & Broadcasting   \n",
       "2  Mayor's Office of Film, Theatre & Broadcasting   \n",
       "3  Mayor's Office of Film, Theatre & Broadcasting   \n",
       "4  Mayor's Office of Film, Theatre & Broadcasting   \n",
       "\n",
       "                                         ParkingHeld    Borough  \\\n",
       "0     WEST   48 STREET between 6 AVENUE and 7 AVENUE  Manhattan   \n",
       "1  WEST   31 STREET between 7 AVENUE and 8 AVENUE...  Manhattan   \n",
       "2  STRATFORD ROAD between BEVERLEY ROAD and SLOCU...   Brooklyn   \n",
       "3  COLGATE AVENUE between STORY AVENUE and LAFAYE...      Bronx   \n",
       "4     WEST   43 STREET between 6 AVENUE and 7 AVENUE  Manhattan   \n",
       "\n",
       "  CommunityBoard(s) PolicePrecinct(s)           Category  SubCategoryName  \\\n",
       "0                 5                18         Television             News   \n",
       "1              4, 5                14            Theater          Theater   \n",
       "2             14, 2             6, 70  Still Photography   Not Applicable   \n",
       "3                 9                43         Television  Episodic series   \n",
       "4                 5                14                WEB   Not Applicable   \n",
       "\n",
       "                    Country    ZipCode(s)  \n",
       "0  United States of America  10036, 10105  \n",
       "1  United States of America  10001, 10121  \n",
       "2  United States of America  10014, 11218  \n",
       "3  United States of America         10473  \n",
       "4  United States of America         10036  "
      ]
     },
     "execution_count": 1,
     "metadata": {},
     "output_type": "execute_result"
    }
   ],
   "source": [
    "import matplotlib.pyplot as plt\n",
    "import pandas as pd\n",
    "\n",
    "permits = pd.read_csv(\"../../data/Film_Permits.csv\")\n",
    "permits.head()"
   ]
  },
  {
   "cell_type": "code",
   "execution_count": 2,
   "metadata": {},
   "outputs": [
    {
     "data": {
      "text/plain": [
       "<AxesSubplot:>"
      ]
     },
     "execution_count": 2,
     "metadata": {},
     "output_type": "execute_result"
    },
    {
     "data": {
      "image/png": "[encoded data removed]",
      "text/plain": [
       "<Figure size 432x288 with 1 Axes>"
      ]
     },
     "metadata": {
      "needs_background": "light"
     },
     "output_type": "display_data"
    }
   ],
   "source": [
    "sample50_1 = permits.sample(50)\n",
    "sample50_1[\"Category\"].value_counts().plot(kind = \"bar\")"
   ]
  },
  {
   "cell_type": "code",
   "execution_count": 3,
   "metadata": {},
   "outputs": [
    {
     "data": {
      "text/plain": [
       "<AxesSubplot:>"
      ]
     },
     "execution_count": 3,
     "metadata": {},
     "output_type": "execute_result"
    },
    {
     "data": {
      "image/png": "[encoded data removed]",
      "text/plain": [
       "<Figure size 432x288 with 1 Axes>"
      ]
     },
     "metadata": {
      "needs_background": "light"
     },
     "output_type": "display_data"
    }
   ],
   "source": [
    "sample50_2 = permits.sample(50)\n",
    "sample50_2[\"Category\"].value_counts().plot(kind = \"bar\")"
   ]
  },
  {
   "cell_type": "code",
   "execution_count": 4,
   "metadata": {},
   "outputs": [
    {
     "data": {
      "text/plain": [
       "<AxesSubplot:>"
      ]
     },
     "execution_count": 4,
     "metadata": {},
     "output_type": "execute_result"
    },
    {
     "data": {
      "image/png": "[encoded data removed]",
      "text/plain": [
       "<Figure size 432x288 with 1 Axes>"
      ]
     },
     "metadata": {
      "needs_background": "light"
     },
     "output_type": "display_data"
    }
   ],
   "source": [
    "sample50_3 = permits.sample(50)\n",
    "sample50_3[\"Category\"].value_counts().plot(kind = \"bar\")"
   ]
  },
  {
   "cell_type": "code",
   "execution_count": 5,
   "metadata": {},
   "outputs": [
    {
     "data": {
      "text/plain": [
       "<AxesSubplot:>"
      ]
     },
     "execution_count": 5,
     "metadata": {},
     "output_type": "execute_result"
    },
    {
     "data": {
      "image/png": "[encoded data removed]",
      "text/plain": [
       "<Figure size 432x288 with 1 Axes>"
      ]
     },
     "metadata": {
      "needs_background": "light"
     },
     "output_type": "display_data"
    }
   ],
   "source": [
    "sample250_1 = permits.sample(250)\n",
    "sample250_1[\"Category\"].value_counts().plot(kind = \"bar\")"
   ]
  },
  {
   "cell_type": "code",
   "execution_count": 6,
   "metadata": {},
   "outputs": [
    {
     "data": {
      "text/plain": [
       "<AxesSubplot:>"
      ]
     },
     "execution_count": 6,
     "metadata": {},
     "output_type": "execute_result"
    },
    {
     "data": {
      "image/png": "[encoded data removed]",
      "text/plain": [
       "<Figure size 432x288 with 1 Axes>"
      ]
     },
     "metadata": {
      "needs_background": "light"
     },
     "output_type": "display_data"
    }
   ],
   "source": [
    "sample250_2 = permits.sample(250)\n",
    "sample250_2[\"Category\"].value_counts().plot(kind = \"bar\")"
   ]
  },
  {
   "cell_type": "code",
   "execution_count": 7,
   "metadata": {},
   "outputs": [
    {
     "data": {
      "text/plain": [
       "<AxesSubplot:>"
      ]
     },
     "execution_count": 7,
     "metadata": {},
     "output_type": "execute_result"
    },
    {
     "data": {
      "image/png": "[encoded data removed]",
      "text/plain": [
       "<Figure size 432x288 with 1 Axes>"
      ]
     },
     "metadata": {
      "needs_background": "light"
     },
     "output_type": "display_data"
    }
   ],
   "source": [
    "sample250_3 = permits.sample(250)\n",
    "sample250_3[\"Category\"].value_counts().plot(kind = \"bar\")"
   ]
  },
  {
   "cell_type": "markdown",
   "metadata": {},
   "source": [
    "1. How different are the 3 bar charts for the size 50 samples?\n",
    "2. How different are the 3 bar charts for the size 250 samples?\n",
    "\n",
    "Write your answers below."
   ]
  },
  {
   "cell_type": "markdown",
   "metadata": {},
   "source": [
    "1. The 3 bar charts differ quite a bit.  They all have television as the largest category, but the orders of the other categories change and are not even the same set of categories.  For example, in the first bar chart, Commercial is the second largest category, instead of Theater, as in the other two bar charts.  The second bar chart also contains Documentary as a category, which does not appear in the other two bar charts.\n",
    "2. The 3 bar charts do not differ by as much as in the size 50 sample case.  For example, the first second categories are the same and the heights of the columns are more consistent.  However, some of the smaller categories change betweeen the bar charts."
   ]
  },
  {
   "cell_type": "code",
   "execution_count": null,
   "metadata": {},
   "outputs": [],
   "source": []
  }
 ],
 "metadata": {
  "kernelspec": {
   "display_name": "Python 3 (ipykernel)",
   "language": "python",
   "name": "python3"
  },
  "language_info": {
   "codemirror_mode": {
    "name": "ipython",
    "version": 3
   },
   "file_extension": ".py",
   "mimetype": "text/x-python",
   "name": "python",
   "nbconvert_exporter": "python",
   "pygments_lexer": "ipython3",
   "version": "3.9.12"
  }
 },
 "nbformat": 4,
 "nbformat_minor": 4
}
