{
 "cells": [
  {
   "cell_type": "markdown",
   "metadata": {},
   "source": [
    "*Replace this text with your own name and a brief description of what this notebook does.*"
   ]
  },
  {
   "cell_type": "markdown",
   "metadata": {},
   "source": [
    "## Homework 17-2\n",
    "\n",
    "Simulate 10,000 samples from 3 different normal distributions.  The distributions should all have standard deviation = 1 and the means should be -2, 0, and 2.\n",
    "\n",
    "Plot the histograms of the samples on the same graph.  The y axis should be the density.  Give your graph a title and a legend with the mean for each color. "
   ]
  },
  {
   "cell_type": "code",
   "execution_count": 1,
   "metadata": {
    "tags": []
   },
   "outputs": [],
   "source": [
    "import numpy as np\n",
    "import matplotlib.pyplot as plt\n",
    "import pandas as pd"
   ]
  },
  {
   "cell_type": "code",
   "execution_count": 5,
   "metadata": {
    "collapsed": true,
    "jupyter": {
     "outputs_hidden": true
    }
   },
   "outputs": [],
   "source": [
    "sample1 = np.random.normal(loc = -2, scale = 1, size = 10000)\n",
    "sample2 = np.random.normal(loc = 0, scale = 1, size = 10000)\n",
    "sample3 = np.random.normal(loc = 2, scale = 1, size = 10000)"
   ]
  },
  {
   "cell_type": "code",
   "execution_count": 6,
   "metadata": {},
   "outputs": [
    {
     "data": {
      "text/plain": [
       "<matplotlib.legend.Legend at 0x1095ca4a8>"
      ]
     },
     "execution_count": 6,
     "metadata": {},
     "output_type": "execute_result"
    },
    {
     "data": {
      "image/png": "[encoded data removed]",
      "text/plain": [
       "<matplotlib.figure.Figure at 0x10c1a8080>"
      ]
     },
     "metadata": {},
     "output_type": "display_data"
    }
   ],
   "source": [
    "pd.Series(sample1).hist(bins = 40, density = True, alpha = 0.5)\n",
    "pd.Series(sample2).hist(bins = 40, density = True, alpha = 0.5)\n",
    "pd.Series(sample3).hist(bins = 40, density = True, alpha = 0.5)\n",
    "\n",
    "plt.title(\"Normal distributions\")\n",
    "plt.legend([\"mean = -2\",\"mean = 0\", \"mean = 2\"])"
   ]
  },
  {
   "cell_type": "markdown",
   "metadata": {},
   "source": [
    "1. How does the normal distribution change as the mean increases?\n",
    "2. Answer this question by looking at your graph.  If you simulate one sample value from each distribution, how high or low is the probabiliy that that value is greater than 2?\n",
    "\n",
    "Write your answers below."
   ]
  },
  {
   "cell_type": "markdown",
   "metadata": {},
   "source": [
    "1. The normal distribution moves to the right as the mean increases.\n",
    "2. The probability of getting greater than 2 the distribution with mean = -2 is very, very low.  The probability of getting greater than 2 for the distribution with mean = 0 is low.  The probability of getting greater than 2 for the distribution with mean = 2 is approximately 50%."
   ]
  },
  {
   "cell_type": "markdown",
   "metadata": {},
   "source": [
    " "
   ]
  },
  {
   "cell_type": "markdown",
   "metadata": {},
   "source": [
    " "
   ]
  },
  {
   "cell_type": "markdown",
   "metadata": {},
   "source": [
    " "
   ]
  },
  {
   "cell_type": "markdown",
   "metadata": {},
   "source": [
    " "
   ]
  }
 ],
 "metadata": {
  "kernelspec": {
   "display_name": "Python 3 (ipykernel)",
   "language": "python",
   "name": "python3"
  },
  "language_info": {
   "codemirror_mode": {
    "name": "ipython",
    "version": 3
   },
   "file_extension": ".py",
   "mimetype": "text/x-python",
   "name": "python",
   "nbconvert_exporter": "python",
   "pygments_lexer": "ipython3",
   "version": "3.9.12"
  }
 },
 "nbformat": 4,
 "nbformat_minor": 4
}
