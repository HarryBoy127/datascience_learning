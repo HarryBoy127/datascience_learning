{
 "cells": [
  {
   "cell_type": "code",
   "execution_count": 10,
   "id": "cfdc9d11",
   "metadata": {},
   "outputs": [],
   "source": [
    "import numpy as np\n",
    "import matplotlib.pyplot as plt\n",
    "import pandas as pd"
   ]
  },
  {
   "cell_type": "code",
   "execution_count": 15,
   "id": "0bbf2c5b",
   "metadata": {},
   "outputs": [
    {
     "data": {
      "text/plain": [
       "array([-2.09193734, -6.85061144, -8.19737725, -8.63516598, -6.01094557,\n",
       "       -5.30832071, -5.87516196, -3.59558799, -5.66815062, -6.79940262])"
      ]
     },
     "execution_count": 15,
     "metadata": {},
     "output_type": "execute_result"
    }
   ],
   "source": [
    "sample = np.random.normal(loc = -5.4, scale = 2.8, size = 10)\n",
    "sample"
   ]
  },
  {
   "cell_type": "code",
   "execution_count": 16,
   "id": "9fd8ed12",
   "metadata": {},
   "outputs": [
    {
     "data": {
      "text/plain": [
       "array([2.05958709, 2.10463997, 2.6995702 , 1.49747408, 3.02891266])"
      ]
     },
     "execution_count": 16,
     "metadata": {},
     "output_type": "execute_result"
    }
   ],
   "source": [
    "sample = np.random.normal(loc = 2.5, scale = 0.4, size = 5)\n",
    "sample"
   ]
  },
  {
   "cell_type": "code",
   "execution_count": 17,
   "id": "b1fa7086",
   "metadata": {},
   "outputs": [
    {
     "data": {
      "text/plain": [
       "array([ 1.14055941, -1.00448426, -0.06482632, ...,  0.03000297,\n",
       "       -0.30941859,  0.42034682])"
      ]
     },
     "execution_count": 17,
     "metadata": {},
     "output_type": "execute_result"
    }
   ],
   "source": [
    "sample = np.random.normal(loc = 0, scale = 1, size = 10000)\n",
    "sample"
   ]
  },
  {
   "cell_type": "code",
   "execution_count": 25,
   "id": "f37ba2ab",
   "metadata": {},
   "outputs": [
    {
     "data": {
      "text/plain": [
       "<Axes: >"
      ]
     },
     "execution_count": 25,
     "metadata": {},
     "output_type": "execute_result"
    },
    {
     "data": {
      "image/png": "[encoded data removed]",
      "text/plain": [
       "<Figure size 640x480 with 1 Axes>"
      ]
     },
     "metadata": {},
     "output_type": "display_data"
    }
   ],
   "source": [
    "pd.Series(sample).hist(bins = 20, density = \"True\")"
   ]
  },
  {
   "cell_type": "code",
   "execution_count": 37,
   "id": "0bb0333f",
   "metadata": {},
   "outputs": [
    {
     "data": {
      "text/plain": [
       "6824"
      ]
     },
     "execution_count": 37,
     "metadata": {},
     "output_type": "execute_result"
    }
   ],
   "source": [
    "less_than_1_filter = sample<1\n",
    "greater_than_minus1_filter = sample>-1\n",
    "both_filter = less_than_1_filter & greater_than_minus1_filter\n",
    "num_both = both_filter.sum()\n",
    "num_both"
   ]
  },
  {
   "cell_type": "code",
   "execution_count": 29,
   "id": "d59b3409",
   "metadata": {},
   "outputs": [
    {
     "data": {
      "text/plain": [
       "0.6824"
      ]
     },
     "execution_count": 29,
     "metadata": {},
     "output_type": "execute_result"
    }
   ],
   "source": [
    "6824/10000"
   ]
  },
  {
   "cell_type": "code",
   "execution_count": 54,
   "id": "f5ace92d",
   "metadata": {},
   "outputs": [
    {
     "data": {
      "text/plain": [
       "array([ 0.38510626, -1.47476262,  2.68154967, ...,  2.28304747,\n",
       "        5.64129706,  1.21132129])"
      ]
     },
     "execution_count": 54,
     "metadata": {},
     "output_type": "execute_result"
    }
   ],
   "source": [
    "sample2 = np.random.normal(loc = 1, scale = 2.5, size = 10000)\n",
    "sample2"
   ]
  },
  {
   "cell_type": "code",
   "execution_count": 53,
   "id": "b572d2e8",
   "metadata": {},
   "outputs": [
    {
     "data": {
      "text/plain": [
       "<Axes: >"
      ]
     },
     "execution_count": 53,
     "metadata": {},
     "output_type": "execute_result"
    },
    {
     "data": {
      "image/png": "[encoded data removed]",
      "text/plain": [
       "<Figure size 640x480 with 1 Axes>"
      ]
     },
     "metadata": {},
     "output_type": "display_data"
    }
   ],
   "source": [
    "pd.Series(sample).hist(bins = 30, alpha = 0.5, density = True)"
   ]
  },
  {
   "cell_type": "code",
   "execution_count": 46,
   "id": "f63d850a",
   "metadata": {},
   "outputs": [
    {
     "data": {
      "text/plain": [
       "9359"
      ]
     },
     "execution_count": 46,
     "metadata": {},
     "output_type": "execute_result"
    }
   ],
   "source": [
    "less_than_filter = sample < 3.5\n",
    "greater_than_filter = sample > -1.5\n",
    "both_filter2 = less_than_filter & greater_than_filter\n",
    "both_filter2.sum()"
   ]
  },
  {
   "cell_type": "code",
   "execution_count": 47,
   "id": "48eb28f5",
   "metadata": {},
   "outputs": [
    {
     "data": {
      "text/plain": [
       "0.9359"
      ]
     },
     "execution_count": 47,
     "metadata": {},
     "output_type": "execute_result"
    }
   ],
   "source": [
    "9359/10000"
   ]
  },
  {
   "cell_type": "code",
   "execution_count": 49,
   "id": "22111576",
   "metadata": {},
   "outputs": [
    {
     "data": {
      "text/plain": [
       "1.0248243397673844"
      ]
     },
     "execution_count": 49,
     "metadata": {},
     "output_type": "execute_result"
    }
   ],
   "source": [
    "mean2 = sample2.mean()\n",
    "mean2"
   ]
  },
  {
   "cell_type": "code",
   "execution_count": 56,
   "id": "f1eced45",
   "metadata": {},
   "outputs": [
    {
     "data": {
      "text/plain": [
       "0.9735017287880643"
      ]
     },
     "execution_count": 56,
     "metadata": {},
     "output_type": "execute_result"
    }
   ],
   "source": [
    "sd2 = sample2.mean()\n",
    "sd2"
   ]
  },
  {
   "cell_type": "code",
   "execution_count": 57,
   "id": "b1c02dee",
   "metadata": {},
   "outputs": [
    {
     "data": {
      "text/plain": [
       "array([-0.65713091, -2.56762457,  1.70182063, ...,  1.29247139,\n",
       "        4.74213099,  0.19157331])"
      ]
     },
     "execution_count": 57,
     "metadata": {},
     "output_type": "execute_result"
    }
   ],
   "source": [
    "(sample2 - mean2)/sd2"
   ]
  },
  {
   "cell_type": "code",
   "execution_count": 59,
   "id": "71d52209",
   "metadata": {},
   "outputs": [
    {
     "data": {
      "text/plain": [
       "<Axes: >"
      ]
     },
     "execution_count": 59,
     "metadata": {},
     "output_type": "execute_result"
    },
    {
     "data": {
      "image/png": "[encoded data removed]",
      "text/plain": [
       "<Figure size 640x480 with 1 Axes>"
      ]
     },
     "metadata": {},
     "output_type": "display_data"
    }
   ],
   "source": [
    "pd.Series(sample2).hist()"
   ]
  },
  {
   "cell_type": "code",
   "execution_count": null,
   "id": "affe0a37",
   "metadata": {},
   "outputs": [],
   "source": []
  }
 ],
 "metadata": {
  "kernelspec": {
   "display_name": "Python 3 (ipykernel)",
   "language": "python",
   "name": "python3"
  },
  "language_info": {
   "codemirror_mode": {
    "name": "ipython",
    "version": 3
   },
   "file_extension": ".py",
   "mimetype": "text/x-python",
   "name": "python",
   "nbconvert_exporter": "python",
   "pygments_lexer": "ipython3",
   "version": "3.11.5"
  }
 },
 "nbformat": 4,
 "nbformat_minor": 5
}
