{
 "cells": [
  {
   "cell_type": "markdown",
   "metadata": {},
   "source": [
    "*Replace this text with your own name and a brief description of what this notebook does.*"
   ]
  },
  {
   "cell_type": "markdown",
   "metadata": {},
   "source": [
    "## Homework 17-1\n",
    "\n",
    "Simulate 10,000 samples from 3 different normal distributions.  The distributions should all have mean = 1 and standard deviations should be 0.25, 1, and 3.\n",
    "\n",
    "Plot the histograms of the samples on the same graph.  The y axis should be the density.  Give your graph a title and a legend with the standard deviation for each color. (See Lab 12 for how to add a legend.)"
   ]
  },
  {
   "cell_type": "code",
   "execution_count": 1,
   "metadata": {
    "tags": []
   },
   "outputs": [],
   "source": [
    "import numpy as np\n",
    "import matplotlib.pyplot as plt\n",
    "import pandas as pd"
   ]
  },
  {
   "cell_type": "code",
   "execution_count": 2,
   "metadata": {
    "collapsed": true,
    "jupyter": {
     "outputs_hidden": true
    }
   },
   "outputs": [],
   "source": [
    "sample1 = np.random.normal(loc = 1, scale = 0.25, size = 10000)\n",
    "sample2 = np.random.normal(loc = 1, scale = 1, size = 10000)\n",
    "sample3 = np.random.normal(loc = 1, scale = 3, size = 10000)"
   ]
  },
  {
   "cell_type": "code",
   "execution_count": 4,
   "metadata": {},
   "outputs": [
    {
     "data": {
      "text/plain": [
       "<matplotlib.legend.Legend at 0x113582080>"
      ]
     },
     "execution_count": 4,
     "metadata": {},
     "output_type": "execute_result"
    },
    {
     "data": {
      "image/png": "[encoded data removed]",
      "text/plain": [
       "<matplotlib.figure.Figure at 0x113582160>"
      ]
     },
     "metadata": {},
     "output_type": "display_data"
    }
   ],
   "source": [
    "pd.Series(sample1).hist(bins = 40, density = True, alpha = 0.5)\n",
    "pd.Series(sample2).hist(bins = 40, density = True, alpha = 0.5)\n",
    "pd.Series(sample3).hist(bins = 40, density = True, alpha = 0.5)\n",
    "\n",
    "plt.title(\"Normal distributions\")\n",
    "plt.legend([\"sd = 0.25\",\"sd = 1\", \"sd = 3\"])"
   ]
  },
  {
   "cell_type": "markdown",
   "metadata": {},
   "source": [
    "1. How does the normal distribution change as the standard deviation increases?\n",
    "2. Answer this question by looking at your graph.  If you simulate one value from each distribution, what is the probability (ex. very low, low, moderate, high, very high) that each value is greater than 2.5?\n",
    "\n",
    "Write your answers below."
   ]
  },
  {
   "cell_type": "markdown",
   "metadata": {},
   "source": [
    "1. The normal distribution spreads out and flattens as the standard deviation increases.\n",
    "2. The probability of simulating a value greater than 2.5 from the distribution with sd = 0.25 is very low.  The probability of simulating a value greater than 2.5 from the distribution with sd = 1 is fairly low.  The probability of simulating a value greater than 2.5 from the distribution with sd = 3 is somewhat high."
   ]
  },
  {
   "cell_type": "markdown",
   "metadata": {},
   "source": [
    " "
   ]
  },
  {
   "cell_type": "markdown",
   "metadata": {},
   "source": [
    " "
   ]
  },
  {
   "cell_type": "markdown",
   "metadata": {},
   "source": [
    " "
   ]
  },
  {
   "cell_type": "markdown",
   "metadata": {},
   "source": [
    " "
   ]
  }
 ],
 "metadata": {
  "kernelspec": {
   "display_name": "Python 3 (ipykernel)",
   "language": "python",
   "name": "python3"
  },
  "language_info": {
   "codemirror_mode": {
    "name": "ipython",
    "version": 3
   },
   "file_extension": ".py",
   "mimetype": "text/x-python",
   "name": "python",
   "nbconvert_exporter": "python",
   "pygments_lexer": "ipython3",
   "version": "3.9.12"
  }
 },
 "nbformat": 4,
 "nbformat_minor": 4
}
